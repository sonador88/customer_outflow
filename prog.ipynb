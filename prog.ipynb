{
 "cells": [
  {
   "cell_type": "markdown",
   "id": "d358615a",
   "metadata": {},
   "source": [
    "# Описание задачи"
   ]
  },
  {
   "cell_type": "markdown",
   "id": "7c166284",
   "metadata": {},
   "source": [
    "**Цель:** требуется предсказать уйдет клент или нет.\n",
    "\n",
    "Данная задача на бинарную классификацию. Метрику будем использовать ROC-AUC, ее можно вычислить без конкретного порога классификации + она работает для несбалансированных данных\n",
    "\n",
    "Задача взята с соревновательной платформы kaggle: https://www.kaggle.com/competitions/advanced-dls-spring-2021/overview\n",
    "\n",
    "\n",
    "Результат - score 85% (0.85312) !"
   ]
  },
  {
   "cell_type": "markdown",
   "id": "bdeb876e",
   "metadata": {},
   "source": [
    "# Начало работы"
   ]
  },
  {
   "cell_type": "markdown",
   "id": "f911c0f6",
   "metadata": {},
   "source": [
    "## Подключение библиотек"
   ]
  },
  {
   "cell_type": "code",
   "execution_count": 1,
   "id": "cecba993",
   "metadata": {},
   "outputs": [],
   "source": [
    "import numpy as np # linear algebra\n",
    "import pandas as pd # data processing, CSV file I/O (e.g. pd.read_csv)\n",
    "import matplotlib.pyplot as plt\n",
    "import seaborn as sns\n",
    "\n",
    "\n",
    "import time\n",
    "from math import ceil\n",
    "\n",
    "from scipy.stats import chi2_contingency, ttest_ind, probplot, mannwhitneyu\n",
    "\n",
    "from sklearn.preprocessing import StandardScaler\n",
    "from sklearn.model_selection import train_test_split, GridSearchCV, StratifiedKFold\n",
    "\n",
    "from sklearn.svm import SVC\n",
    "from sklearn.linear_model import LogisticRegression, LogisticRegressionCV\n",
    "from lightgbm import LGBMClassifier\n",
    "from catboost import CatBoostClassifier\n",
    "\n",
    "from sklearn.metrics import roc_auc_score, confusion_matrix, classification_report, roc_curve\n",
    "\n",
    "from sklearn.pipeline import make_pipeline\n",
    "\n",
    "\n",
    "%matplotlib inline\n",
    "sns.set(rc={\"figure.figsize\": (20, 20)})\n",
    "sns.set_style(\"whitegrid\")"
   ]
  },
  {
   "cell_type": "markdown",
   "id": "cc3c94b1",
   "metadata": {},
   "source": [
    "## Функции и переменные"
   ]
  },
  {
   "cell_type": "code",
   "execution_count": 2,
   "id": "0bf19163",
   "metadata": {},
   "outputs": [],
   "source": [
    "RANDOM_STATE = 100\n",
    "SPLIT_TEST_SIZE = 0.2 # размер тестовой выборки\n",
    "NUM_SPLIT_FOR_GRID = 5 #на сколько частей будет разбиваться выборка при подборе параметров\n",
    "TRESHOLD_FOR_CORR = 0.1 #порог значения корреляции, ниже которого будем отбрасывать признаки\n",
    "TRESHOLD_FOR_HIGH_CORR = 0.6 #при этом пороге корреляции будем тщательнее исследовать на предмет выбросов\n",
    "TRESHOLD_FOR_HIGH_CORR_BETWEEN_FEATURE = 0.8 #если корреляция выше - удаляемм один из коррелируемых признаков \n",
    "COLOR_PLOT = 'deepskyblue'\n",
    "\n",
    "def del_from_list(list_el, new_el):\n",
    "    \"\"\"\n",
    "    Функция удаления элементов из массива\n",
    "    \"\"\"\n",
    "    if np.isin(new_el, list_el).sum():\n",
    "        return np.setdiff1d(list_el, new_el)\n",
    "    else:\n",
    "        return list_el\n",
    "\n",
    "def add_into_list(list_el, new_el):\n",
    "    \"\"\"\n",
    "    Функция добавления списка элементов в массив\n",
    "    \"\"\"\n",
    "    if np.isin(new_el, list_el).sum() == 0:\n",
    "        return np.append(list_el, new_el)\n",
    "    else:\n",
    "        return list_el\n",
    "    \n",
    "def ksi(data, X, Y):\n",
    "    for i, j in zip(X, Y):\n",
    "\n",
    "        CrosstabResult = pd.crosstab(index=data[i], columns=data[j])\n",
    "        \n",
    "        ChiSqResult = chi2_contingency(CrosstabResult)\n",
    "        print(f\"P-Value χ² теста между группами {i} и {j} = {ChiSqResult[1]}\\n\")"
   ]
  },
  {
   "cell_type": "markdown",
   "id": "06f70b4f",
   "metadata": {},
   "source": [
    "## Загрузка данных"
   ]
  },
  {
   "cell_type": "code",
   "execution_count": 3,
   "id": "fb6b4692",
   "metadata": {
    "scrolled": true
   },
   "outputs": [
    {
     "data": {
      "text/html": [
       "<div>\n",
       "<style scoped>\n",
       "    .dataframe tbody tr th:only-of-type {\n",
       "        vertical-align: middle;\n",
       "    }\n",
       "\n",
       "    .dataframe tbody tr th {\n",
       "        vertical-align: top;\n",
       "    }\n",
       "\n",
       "    .dataframe thead th {\n",
       "        text-align: right;\n",
       "    }\n",
       "</style>\n",
       "<table border=\"1\" class=\"dataframe\">\n",
       "  <thead>\n",
       "    <tr style=\"text-align: right;\">\n",
       "      <th></th>\n",
       "      <th>ClientPeriod</th>\n",
       "      <th>MonthlySpending</th>\n",
       "      <th>TotalSpent</th>\n",
       "      <th>Sex</th>\n",
       "      <th>IsSeniorCitizen</th>\n",
       "      <th>HasPartner</th>\n",
       "      <th>HasChild</th>\n",
       "      <th>HasPhoneService</th>\n",
       "      <th>HasMultiplePhoneNumbers</th>\n",
       "      <th>HasInternetService</th>\n",
       "      <th>HasOnlineSecurityService</th>\n",
       "      <th>HasOnlineBackup</th>\n",
       "      <th>HasDeviceProtection</th>\n",
       "      <th>HasTechSupportAccess</th>\n",
       "      <th>HasOnlineTV</th>\n",
       "      <th>HasMovieSubscription</th>\n",
       "      <th>HasContractPhone</th>\n",
       "      <th>IsBillingPaperless</th>\n",
       "      <th>PaymentMethod</th>\n",
       "      <th>Churn</th>\n",
       "    </tr>\n",
       "  </thead>\n",
       "  <tbody>\n",
       "    <tr>\n",
       "      <th>0</th>\n",
       "      <td>55</td>\n",
       "      <td>19.50</td>\n",
       "      <td>1026.35</td>\n",
       "      <td>Male</td>\n",
       "      <td>0</td>\n",
       "      <td>Yes</td>\n",
       "      <td>Yes</td>\n",
       "      <td>Yes</td>\n",
       "      <td>No</td>\n",
       "      <td>No</td>\n",
       "      <td>No internet service</td>\n",
       "      <td>No internet service</td>\n",
       "      <td>No internet service</td>\n",
       "      <td>No internet service</td>\n",
       "      <td>No internet service</td>\n",
       "      <td>No internet service</td>\n",
       "      <td>One year</td>\n",
       "      <td>No</td>\n",
       "      <td>Mailed check</td>\n",
       "      <td>0</td>\n",
       "    </tr>\n",
       "    <tr>\n",
       "      <th>1</th>\n",
       "      <td>72</td>\n",
       "      <td>25.85</td>\n",
       "      <td>1872.2</td>\n",
       "      <td>Male</td>\n",
       "      <td>0</td>\n",
       "      <td>Yes</td>\n",
       "      <td>No</td>\n",
       "      <td>Yes</td>\n",
       "      <td>Yes</td>\n",
       "      <td>No</td>\n",
       "      <td>No internet service</td>\n",
       "      <td>No internet service</td>\n",
       "      <td>No internet service</td>\n",
       "      <td>No internet service</td>\n",
       "      <td>No internet service</td>\n",
       "      <td>No internet service</td>\n",
       "      <td>Two year</td>\n",
       "      <td>No</td>\n",
       "      <td>Credit card (automatic)</td>\n",
       "      <td>0</td>\n",
       "    </tr>\n",
       "    <tr>\n",
       "      <th>2</th>\n",
       "      <td>1</td>\n",
       "      <td>75.90</td>\n",
       "      <td>75.9</td>\n",
       "      <td>Male</td>\n",
       "      <td>0</td>\n",
       "      <td>No</td>\n",
       "      <td>No</td>\n",
       "      <td>Yes</td>\n",
       "      <td>No</td>\n",
       "      <td>Fiber optic</td>\n",
       "      <td>No</td>\n",
       "      <td>No</td>\n",
       "      <td>No</td>\n",
       "      <td>Yes</td>\n",
       "      <td>No</td>\n",
       "      <td>No</td>\n",
       "      <td>Month-to-month</td>\n",
       "      <td>Yes</td>\n",
       "      <td>Electronic check</td>\n",
       "      <td>1</td>\n",
       "    </tr>\n",
       "    <tr>\n",
       "      <th>3</th>\n",
       "      <td>32</td>\n",
       "      <td>79.30</td>\n",
       "      <td>2570</td>\n",
       "      <td>Female</td>\n",
       "      <td>1</td>\n",
       "      <td>Yes</td>\n",
       "      <td>No</td>\n",
       "      <td>Yes</td>\n",
       "      <td>Yes</td>\n",
       "      <td>Fiber optic</td>\n",
       "      <td>No</td>\n",
       "      <td>No</td>\n",
       "      <td>Yes</td>\n",
       "      <td>No</td>\n",
       "      <td>No</td>\n",
       "      <td>No</td>\n",
       "      <td>Month-to-month</td>\n",
       "      <td>No</td>\n",
       "      <td>Mailed check</td>\n",
       "      <td>0</td>\n",
       "    </tr>\n",
       "    <tr>\n",
       "      <th>4</th>\n",
       "      <td>60</td>\n",
       "      <td>115.25</td>\n",
       "      <td>6758.45</td>\n",
       "      <td>Female</td>\n",
       "      <td>0</td>\n",
       "      <td>Yes</td>\n",
       "      <td>Yes</td>\n",
       "      <td>Yes</td>\n",
       "      <td>Yes</td>\n",
       "      <td>Fiber optic</td>\n",
       "      <td>Yes</td>\n",
       "      <td>Yes</td>\n",
       "      <td>Yes</td>\n",
       "      <td>Yes</td>\n",
       "      <td>Yes</td>\n",
       "      <td>Yes</td>\n",
       "      <td>Two year</td>\n",
       "      <td>No</td>\n",
       "      <td>Credit card (automatic)</td>\n",
       "      <td>0</td>\n",
       "    </tr>\n",
       "  </tbody>\n",
       "</table>\n",
       "</div>"
      ],
      "text/plain": [
       "   ClientPeriod  MonthlySpending TotalSpent     Sex  IsSeniorCitizen  \\\n",
       "0            55            19.50    1026.35    Male                0   \n",
       "1            72            25.85     1872.2    Male                0   \n",
       "2             1            75.90       75.9    Male                0   \n",
       "3            32            79.30       2570  Female                1   \n",
       "4            60           115.25    6758.45  Female                0   \n",
       "\n",
       "  HasPartner HasChild HasPhoneService HasMultiplePhoneNumbers  \\\n",
       "0        Yes      Yes             Yes                      No   \n",
       "1        Yes       No             Yes                     Yes   \n",
       "2         No       No             Yes                      No   \n",
       "3        Yes       No             Yes                     Yes   \n",
       "4        Yes      Yes             Yes                     Yes   \n",
       "\n",
       "  HasInternetService HasOnlineSecurityService      HasOnlineBackup  \\\n",
       "0                 No      No internet service  No internet service   \n",
       "1                 No      No internet service  No internet service   \n",
       "2        Fiber optic                       No                   No   \n",
       "3        Fiber optic                       No                   No   \n",
       "4        Fiber optic                      Yes                  Yes   \n",
       "\n",
       "   HasDeviceProtection HasTechSupportAccess          HasOnlineTV  \\\n",
       "0  No internet service  No internet service  No internet service   \n",
       "1  No internet service  No internet service  No internet service   \n",
       "2                   No                  Yes                   No   \n",
       "3                  Yes                   No                   No   \n",
       "4                  Yes                  Yes                  Yes   \n",
       "\n",
       "  HasMovieSubscription HasContractPhone IsBillingPaperless  \\\n",
       "0  No internet service         One year                 No   \n",
       "1  No internet service         Two year                 No   \n",
       "2                   No   Month-to-month                Yes   \n",
       "3                   No   Month-to-month                 No   \n",
       "4                  Yes         Two year                 No   \n",
       "\n",
       "             PaymentMethod  Churn  \n",
       "0             Mailed check      0  \n",
       "1  Credit card (automatic)      0  \n",
       "2         Electronic check      1  \n",
       "3             Mailed check      0  \n",
       "4  Credit card (automatic)      0  "
      ]
     },
     "execution_count": 3,
     "metadata": {},
     "output_type": "execute_result"
    }
   ],
   "source": [
    "train = pd.read_csv('data/train.csv')\n",
    "train.head()"
   ]
  },
  {
   "cell_type": "code",
   "execution_count": 4,
   "id": "9ff473cd",
   "metadata": {
    "scrolled": true
   },
   "outputs": [
    {
     "data": {
      "text/html": [
       "<div>\n",
       "<style scoped>\n",
       "    .dataframe tbody tr th:only-of-type {\n",
       "        vertical-align: middle;\n",
       "    }\n",
       "\n",
       "    .dataframe tbody tr th {\n",
       "        vertical-align: top;\n",
       "    }\n",
       "\n",
       "    .dataframe thead th {\n",
       "        text-align: right;\n",
       "    }\n",
       "</style>\n",
       "<table border=\"1\" class=\"dataframe\">\n",
       "  <thead>\n",
       "    <tr style=\"text-align: right;\">\n",
       "      <th></th>\n",
       "      <th>ClientPeriod</th>\n",
       "      <th>MonthlySpending</th>\n",
       "      <th>TotalSpent</th>\n",
       "      <th>Sex</th>\n",
       "      <th>IsSeniorCitizen</th>\n",
       "      <th>HasPartner</th>\n",
       "      <th>HasChild</th>\n",
       "      <th>HasPhoneService</th>\n",
       "      <th>HasMultiplePhoneNumbers</th>\n",
       "      <th>HasInternetService</th>\n",
       "      <th>HasOnlineSecurityService</th>\n",
       "      <th>HasOnlineBackup</th>\n",
       "      <th>HasDeviceProtection</th>\n",
       "      <th>HasTechSupportAccess</th>\n",
       "      <th>HasOnlineTV</th>\n",
       "      <th>HasMovieSubscription</th>\n",
       "      <th>HasContractPhone</th>\n",
       "      <th>IsBillingPaperless</th>\n",
       "      <th>PaymentMethod</th>\n",
       "    </tr>\n",
       "  </thead>\n",
       "  <tbody>\n",
       "    <tr>\n",
       "      <th>0</th>\n",
       "      <td>42</td>\n",
       "      <td>56.10</td>\n",
       "      <td>2386.85</td>\n",
       "      <td>Male</td>\n",
       "      <td>0</td>\n",
       "      <td>Yes</td>\n",
       "      <td>No</td>\n",
       "      <td>Yes</td>\n",
       "      <td>Yes</td>\n",
       "      <td>DSL</td>\n",
       "      <td>Yes</td>\n",
       "      <td>No</td>\n",
       "      <td>No</td>\n",
       "      <td>No</td>\n",
       "      <td>No</td>\n",
       "      <td>No</td>\n",
       "      <td>One year</td>\n",
       "      <td>No</td>\n",
       "      <td>Credit card (automatic)</td>\n",
       "    </tr>\n",
       "    <tr>\n",
       "      <th>1</th>\n",
       "      <td>29</td>\n",
       "      <td>98.50</td>\n",
       "      <td>3004.15</td>\n",
       "      <td>Male</td>\n",
       "      <td>1</td>\n",
       "      <td>Yes</td>\n",
       "      <td>No</td>\n",
       "      <td>Yes</td>\n",
       "      <td>Yes</td>\n",
       "      <td>Fiber optic</td>\n",
       "      <td>No</td>\n",
       "      <td>No</td>\n",
       "      <td>Yes</td>\n",
       "      <td>No</td>\n",
       "      <td>Yes</td>\n",
       "      <td>Yes</td>\n",
       "      <td>Month-to-month</td>\n",
       "      <td>Yes</td>\n",
       "      <td>Electronic check</td>\n",
       "    </tr>\n",
       "    <tr>\n",
       "      <th>2</th>\n",
       "      <td>9</td>\n",
       "      <td>76.25</td>\n",
       "      <td>684.85</td>\n",
       "      <td>Male</td>\n",
       "      <td>0</td>\n",
       "      <td>No</td>\n",
       "      <td>No</td>\n",
       "      <td>Yes</td>\n",
       "      <td>Yes</td>\n",
       "      <td>Fiber optic</td>\n",
       "      <td>No</td>\n",
       "      <td>No</td>\n",
       "      <td>No</td>\n",
       "      <td>No</td>\n",
       "      <td>No</td>\n",
       "      <td>No</td>\n",
       "      <td>Month-to-month</td>\n",
       "      <td>Yes</td>\n",
       "      <td>Electronic check</td>\n",
       "    </tr>\n",
       "    <tr>\n",
       "      <th>3</th>\n",
       "      <td>67</td>\n",
       "      <td>74.00</td>\n",
       "      <td>4868.4</td>\n",
       "      <td>Female</td>\n",
       "      <td>0</td>\n",
       "      <td>Yes</td>\n",
       "      <td>Yes</td>\n",
       "      <td>Yes</td>\n",
       "      <td>Yes</td>\n",
       "      <td>DSL</td>\n",
       "      <td>Yes</td>\n",
       "      <td>Yes</td>\n",
       "      <td>No</td>\n",
       "      <td>Yes</td>\n",
       "      <td>Yes</td>\n",
       "      <td>No</td>\n",
       "      <td>Two year</td>\n",
       "      <td>No</td>\n",
       "      <td>Credit card (automatic)</td>\n",
       "    </tr>\n",
       "    <tr>\n",
       "      <th>4</th>\n",
       "      <td>71</td>\n",
       "      <td>20.10</td>\n",
       "      <td>1389.6</td>\n",
       "      <td>Female</td>\n",
       "      <td>0</td>\n",
       "      <td>Yes</td>\n",
       "      <td>Yes</td>\n",
       "      <td>Yes</td>\n",
       "      <td>No</td>\n",
       "      <td>No</td>\n",
       "      <td>No internet service</td>\n",
       "      <td>No internet service</td>\n",
       "      <td>No internet service</td>\n",
       "      <td>No internet service</td>\n",
       "      <td>No internet service</td>\n",
       "      <td>No internet service</td>\n",
       "      <td>Two year</td>\n",
       "      <td>No</td>\n",
       "      <td>Bank transfer (automatic)</td>\n",
       "    </tr>\n",
       "  </tbody>\n",
       "</table>\n",
       "</div>"
      ],
      "text/plain": [
       "   ClientPeriod  MonthlySpending TotalSpent     Sex  IsSeniorCitizen  \\\n",
       "0            42            56.10    2386.85    Male                0   \n",
       "1            29            98.50    3004.15    Male                1   \n",
       "2             9            76.25     684.85    Male                0   \n",
       "3            67            74.00     4868.4  Female                0   \n",
       "4            71            20.10     1389.6  Female                0   \n",
       "\n",
       "  HasPartner HasChild HasPhoneService HasMultiplePhoneNumbers  \\\n",
       "0        Yes       No             Yes                     Yes   \n",
       "1        Yes       No             Yes                     Yes   \n",
       "2         No       No             Yes                     Yes   \n",
       "3        Yes      Yes             Yes                     Yes   \n",
       "4        Yes      Yes             Yes                      No   \n",
       "\n",
       "  HasInternetService HasOnlineSecurityService      HasOnlineBackup  \\\n",
       "0                DSL                      Yes                   No   \n",
       "1        Fiber optic                       No                   No   \n",
       "2        Fiber optic                       No                   No   \n",
       "3                DSL                      Yes                  Yes   \n",
       "4                 No      No internet service  No internet service   \n",
       "\n",
       "   HasDeviceProtection HasTechSupportAccess          HasOnlineTV  \\\n",
       "0                   No                   No                   No   \n",
       "1                  Yes                   No                  Yes   \n",
       "2                   No                   No                   No   \n",
       "3                   No                  Yes                  Yes   \n",
       "4  No internet service  No internet service  No internet service   \n",
       "\n",
       "  HasMovieSubscription HasContractPhone IsBillingPaperless  \\\n",
       "0                   No         One year                 No   \n",
       "1                  Yes   Month-to-month                Yes   \n",
       "2                   No   Month-to-month                Yes   \n",
       "3                   No         Two year                 No   \n",
       "4  No internet service         Two year                 No   \n",
       "\n",
       "               PaymentMethod  \n",
       "0    Credit card (automatic)  \n",
       "1           Electronic check  \n",
       "2           Electronic check  \n",
       "3    Credit card (automatic)  \n",
       "4  Bank transfer (automatic)  "
      ]
     },
     "execution_count": 4,
     "metadata": {},
     "output_type": "execute_result"
    }
   ],
   "source": [
    "test = pd.read_csv('data/test.csv')\n",
    "test.head()"
   ]
  },
  {
   "cell_type": "markdown",
   "id": "d8e48aa6",
   "metadata": {},
   "source": [
    "## Основная информация о данных"
   ]
  },
  {
   "cell_type": "code",
   "execution_count": 5,
   "id": "2427c016",
   "metadata": {},
   "outputs": [
    {
     "name": "stdout",
     "output_type": "stream",
     "text": [
      "Форма тренировочной выборки: (5282, 20)\n",
      "Форма тестовой выборки: (1761, 19)\n"
     ]
    }
   ],
   "source": [
    "print('Форма тренировочной выборки: ' + str(train.shape))\n",
    "print('Форма тестовой выборки: ' + str(test.shape))"
   ]
  },
  {
   "cell_type": "markdown",
   "id": "2dee24b1",
   "metadata": {},
   "source": [
    "МЫ видим по 19 признаков в каждой выборке + целевой в тренировочной"
   ]
  },
  {
   "cell_type": "code",
   "execution_count": 6,
   "id": "b6b4fcd5",
   "metadata": {},
   "outputs": [
    {
     "name": "stdout",
     "output_type": "stream",
     "text": [
      "<class 'pandas.core.frame.DataFrame'>\n",
      "RangeIndex: 5282 entries, 0 to 5281\n",
      "Data columns (total 20 columns):\n",
      " #   Column                    Non-Null Count  Dtype  \n",
      "---  ------                    --------------  -----  \n",
      " 0   ClientPeriod              5282 non-null   int64  \n",
      " 1   MonthlySpending           5282 non-null   float64\n",
      " 2   TotalSpent                5282 non-null   object \n",
      " 3   Sex                       5282 non-null   object \n",
      " 4   IsSeniorCitizen           5282 non-null   int64  \n",
      " 5   HasPartner                5282 non-null   object \n",
      " 6   HasChild                  5282 non-null   object \n",
      " 7   HasPhoneService           5282 non-null   object \n",
      " 8   HasMultiplePhoneNumbers   5282 non-null   object \n",
      " 9   HasInternetService        5282 non-null   object \n",
      " 10  HasOnlineSecurityService  5282 non-null   object \n",
      " 11  HasOnlineBackup           5282 non-null   object \n",
      " 12  HasDeviceProtection       5282 non-null   object \n",
      " 13  HasTechSupportAccess      5282 non-null   object \n",
      " 14  HasOnlineTV               5282 non-null   object \n",
      " 15  HasMovieSubscription      5282 non-null   object \n",
      " 16  HasContractPhone          5282 non-null   object \n",
      " 17  IsBillingPaperless        5282 non-null   object \n",
      " 18  PaymentMethod             5282 non-null   object \n",
      " 19  Churn                     5282 non-null   int64  \n",
      "dtypes: float64(1), int64(3), object(16)\n",
      "memory usage: 825.4+ KB\n"
     ]
    }
   ],
   "source": [
    "train.info()"
   ]
  },
  {
   "cell_type": "markdown",
   "id": "2618380b",
   "metadata": {},
   "source": [
    "Мы наблюдаем, что у нас нет  значений NaN ни в одном признаке, всего наблюдений 5282. 3 признака (не считая целевой) - числовые, остальные - категориальные\n"
   ]
  },
  {
   "cell_type": "markdown",
   "id": "8a297d5c",
   "metadata": {},
   "source": [
    "# Анализ целевой переменной"
   ]
  },
  {
   "cell_type": "markdown",
   "id": "14a3ccbf",
   "metadata": {},
   "source": [
    "Здесь мы рассмотрим на сколько сбалансированы наши классы целевой переменной"
   ]
  },
  {
   "cell_type": "code",
   "execution_count": 7,
   "id": "7cd7e226",
   "metadata": {},
   "outputs": [
    {
     "data": {
      "text/plain": [
       "0    3898\n",
       "1    1384\n",
       "Name: Churn, dtype: int64"
      ]
     },
     "execution_count": 7,
     "metadata": {},
     "output_type": "execute_result"
    }
   ],
   "source": [
    "val_churn = train.Churn.value_counts()\n",
    "val_churn"
   ]
  },
  {
   "cell_type": "markdown",
   "id": "f2f258ab",
   "metadata": {},
   "source": [
    "Ушедших клиентов примерно в 3 раза больше, чем не ушедших, наши классы не сбалансированы, соотетственно мы не можем пользоваться метриками accuracy + обязательно использовать стратифицированную валидацию. Построим график распределения целевого признака для наглядности"
   ]
  },
  {
   "cell_type": "code",
   "execution_count": 8,
   "id": "6b94cd81",
   "metadata": {},
   "outputs": [
    {
     "data": {
      "text/plain": [
       "Text(0.5, 1.0, 'Распределение целевой переменной')"
      ]
     },
     "execution_count": 8,
     "metadata": {},
     "output_type": "execute_result"
    },
    {
     "data": {
      "image/png": "[encoded data removed]",
      "text/plain": [
       "<Figure size 504x504 with 1 Axes>"
      ]
     },
     "metadata": {},
     "output_type": "display_data"
    }
   ],
   "source": [
    "plt.figure(figsize=(7,7))\n",
    "val_churn.plot.pie(explode=[0.05,0.001], autopct='%1.1f%%', shadow=True, textprops={'fontsize':16}).\\\n",
    "    set_title('Распределение целевой переменной', fontsize=20)"
   ]
  },
  {
   "cell_type": "markdown",
   "id": "0d74be76",
   "metadata": {},
   "source": [
    "# Типы данных"
   ]
  },
  {
   "cell_type": "code",
   "execution_count": 9,
   "id": "83ee36ed",
   "metadata": {},
   "outputs": [
    {
     "data": {
      "text/plain": [
       "object     16\n",
       "int64       3\n",
       "float64     1\n",
       "dtype: int64"
      ]
     },
     "execution_count": 9,
     "metadata": {},
     "output_type": "execute_result"
    }
   ],
   "source": [
    "train.dtypes.value_counts()"
   ]
  },
  {
   "cell_type": "markdown",
   "id": "a64c7f1f",
   "metadata": {},
   "source": [
    "Посмотрим на количество уникальных значений в каждом признаке"
   ]
  },
  {
   "cell_type": "code",
   "execution_count": 10,
   "id": "a5816586",
   "metadata": {},
   "outputs": [
    {
     "data": {
      "text/html": [
       "<div>\n",
       "<style scoped>\n",
       "    .dataframe tbody tr th:only-of-type {\n",
       "        vertical-align: middle;\n",
       "    }\n",
       "\n",
       "    .dataframe tbody tr th {\n",
       "        vertical-align: top;\n",
       "    }\n",
       "\n",
       "    .dataframe thead th {\n",
       "        text-align: right;\n",
       "    }\n",
       "</style>\n",
       "<table border=\"1\" class=\"dataframe\">\n",
       "  <thead>\n",
       "    <tr style=\"text-align: right;\">\n",
       "      <th></th>\n",
       "      <th>count</th>\n",
       "      <th>dtype</th>\n",
       "    </tr>\n",
       "  </thead>\n",
       "  <tbody>\n",
       "    <tr>\n",
       "      <th>ClientPeriod</th>\n",
       "      <td>73</td>\n",
       "      <td>int64</td>\n",
       "    </tr>\n",
       "    <tr>\n",
       "      <th>MonthlySpending</th>\n",
       "      <td>1468</td>\n",
       "      <td>float64</td>\n",
       "    </tr>\n",
       "    <tr>\n",
       "      <th>TotalSpent</th>\n",
       "      <td>4978</td>\n",
       "      <td>object</td>\n",
       "    </tr>\n",
       "    <tr>\n",
       "      <th>Sex</th>\n",
       "      <td>2</td>\n",
       "      <td>object</td>\n",
       "    </tr>\n",
       "    <tr>\n",
       "      <th>IsSeniorCitizen</th>\n",
       "      <td>2</td>\n",
       "      <td>int64</td>\n",
       "    </tr>\n",
       "    <tr>\n",
       "      <th>HasPartner</th>\n",
       "      <td>2</td>\n",
       "      <td>object</td>\n",
       "    </tr>\n",
       "    <tr>\n",
       "      <th>HasChild</th>\n",
       "      <td>2</td>\n",
       "      <td>object</td>\n",
       "    </tr>\n",
       "    <tr>\n",
       "      <th>HasPhoneService</th>\n",
       "      <td>2</td>\n",
       "      <td>object</td>\n",
       "    </tr>\n",
       "    <tr>\n",
       "      <th>HasMultiplePhoneNumbers</th>\n",
       "      <td>3</td>\n",
       "      <td>object</td>\n",
       "    </tr>\n",
       "    <tr>\n",
       "      <th>HasInternetService</th>\n",
       "      <td>3</td>\n",
       "      <td>object</td>\n",
       "    </tr>\n",
       "    <tr>\n",
       "      <th>HasOnlineSecurityService</th>\n",
       "      <td>3</td>\n",
       "      <td>object</td>\n",
       "    </tr>\n",
       "    <tr>\n",
       "      <th>HasOnlineBackup</th>\n",
       "      <td>3</td>\n",
       "      <td>object</td>\n",
       "    </tr>\n",
       "    <tr>\n",
       "      <th>HasDeviceProtection</th>\n",
       "      <td>3</td>\n",
       "      <td>object</td>\n",
       "    </tr>\n",
       "    <tr>\n",
       "      <th>HasTechSupportAccess</th>\n",
       "      <td>3</td>\n",
       "      <td>object</td>\n",
       "    </tr>\n",
       "    <tr>\n",
       "      <th>HasOnlineTV</th>\n",
       "      <td>3</td>\n",
       "      <td>object</td>\n",
       "    </tr>\n",
       "    <tr>\n",
       "      <th>HasMovieSubscription</th>\n",
       "      <td>3</td>\n",
       "      <td>object</td>\n",
       "    </tr>\n",
       "    <tr>\n",
       "      <th>HasContractPhone</th>\n",
       "      <td>3</td>\n",
       "      <td>object</td>\n",
       "    </tr>\n",
       "    <tr>\n",
       "      <th>IsBillingPaperless</th>\n",
       "      <td>2</td>\n",
       "      <td>object</td>\n",
       "    </tr>\n",
       "    <tr>\n",
       "      <th>PaymentMethod</th>\n",
       "      <td>4</td>\n",
       "      <td>object</td>\n",
       "    </tr>\n",
       "    <tr>\n",
       "      <th>Churn</th>\n",
       "      <td>2</td>\n",
       "      <td>int64</td>\n",
       "    </tr>\n",
       "  </tbody>\n",
       "</table>\n",
       "</div>"
      ],
      "text/plain": [
       "                          count    dtype\n",
       "ClientPeriod                 73    int64\n",
       "MonthlySpending            1468  float64\n",
       "TotalSpent                 4978   object\n",
       "Sex                           2   object\n",
       "IsSeniorCitizen               2    int64\n",
       "HasPartner                    2   object\n",
       "HasChild                      2   object\n",
       "HasPhoneService               2   object\n",
       "HasMultiplePhoneNumbers       3   object\n",
       "HasInternetService            3   object\n",
       "HasOnlineSecurityService      3   object\n",
       "HasOnlineBackup               3   object\n",
       "HasDeviceProtection           3   object\n",
       "HasTechSupportAccess          3   object\n",
       "HasOnlineTV                   3   object\n",
       "HasMovieSubscription          3   object\n",
       "HasContractPhone              3   object\n",
       "IsBillingPaperless            2   object\n",
       "PaymentMethod                 4   object\n",
       "Churn                         2    int64"
      ]
     },
     "execution_count": 10,
     "metadata": {},
     "output_type": "execute_result"
    }
   ],
   "source": [
    "dtypes_count = pd.DataFrame({'count': train.nunique(), 'dtype': train.dtypes}, index=train.columns)\n",
    "dtypes_count"
   ]
  },
  {
   "cell_type": "markdown",
   "id": "de112aa1",
   "metadata": {},
   "source": [
    "По таблице можно заметить, что числовой признак IsSeniorCitizen является на самом деле категориальным. Итого имеем всего только три числовых признака: ClientPeriod, MonthlySpending, TotalSpent(у которого тип object - позже поменяем на float). Определим списка категориальных и числовых признаков, а  так же полный массив всех признаков feature_cols"
   ]
  },
  {
   "cell_type": "code",
   "execution_count": 11,
   "id": "3338702a",
   "metadata": {},
   "outputs": [],
   "source": [
    "num_cols = ['ClientPeriod', 'MonthlySpending', 'TotalSpent']\n",
    "cat_cols = [col for col in train.columns if col not in num_cols and col!='Churn']"
   ]
  },
  {
   "cell_type": "code",
   "execution_count": 12,
   "id": "1f6101c2",
   "metadata": {},
   "outputs": [],
   "source": [
    "feature_cols = num_cols + cat_cols\n",
    "target_col = 'Churn'"
   ]
  },
  {
   "cell_type": "markdown",
   "id": "28a11636",
   "metadata": {},
   "source": [
    "## Категориальные признаки"
   ]
  },
  {
   "cell_type": "markdown",
   "id": "4eb6871b",
   "metadata": {},
   "source": [
    "Посмотрим на датасет из одних категориальных признаков"
   ]
  },
  {
   "cell_type": "code",
   "execution_count": 13,
   "id": "96a9f55e",
   "metadata": {},
   "outputs": [
    {
     "data": {
      "text/html": [
       "<div>\n",
       "<style scoped>\n",
       "    .dataframe tbody tr th:only-of-type {\n",
       "        vertical-align: middle;\n",
       "    }\n",
       "\n",
       "    .dataframe tbody tr th {\n",
       "        vertical-align: top;\n",
       "    }\n",
       "\n",
       "    .dataframe thead th {\n",
       "        text-align: right;\n",
       "    }\n",
       "</style>\n",
       "<table border=\"1\" class=\"dataframe\">\n",
       "  <thead>\n",
       "    <tr style=\"text-align: right;\">\n",
       "      <th></th>\n",
       "      <th>Sex</th>\n",
       "      <th>IsSeniorCitizen</th>\n",
       "      <th>HasPartner</th>\n",
       "      <th>HasChild</th>\n",
       "      <th>HasPhoneService</th>\n",
       "      <th>HasMultiplePhoneNumbers</th>\n",
       "      <th>HasInternetService</th>\n",
       "      <th>HasOnlineSecurityService</th>\n",
       "      <th>HasOnlineBackup</th>\n",
       "      <th>HasDeviceProtection</th>\n",
       "      <th>HasTechSupportAccess</th>\n",
       "      <th>HasOnlineTV</th>\n",
       "      <th>HasMovieSubscription</th>\n",
       "      <th>HasContractPhone</th>\n",
       "      <th>IsBillingPaperless</th>\n",
       "      <th>PaymentMethod</th>\n",
       "    </tr>\n",
       "  </thead>\n",
       "  <tbody>\n",
       "    <tr>\n",
       "      <th>0</th>\n",
       "      <td>Male</td>\n",
       "      <td>0</td>\n",
       "      <td>Yes</td>\n",
       "      <td>Yes</td>\n",
       "      <td>Yes</td>\n",
       "      <td>No</td>\n",
       "      <td>No</td>\n",
       "      <td>No internet service</td>\n",
       "      <td>No internet service</td>\n",
       "      <td>No internet service</td>\n",
       "      <td>No internet service</td>\n",
       "      <td>No internet service</td>\n",
       "      <td>No internet service</td>\n",
       "      <td>One year</td>\n",
       "      <td>No</td>\n",
       "      <td>Mailed check</td>\n",
       "    </tr>\n",
       "    <tr>\n",
       "      <th>1</th>\n",
       "      <td>Male</td>\n",
       "      <td>0</td>\n",
       "      <td>Yes</td>\n",
       "      <td>No</td>\n",
       "      <td>Yes</td>\n",
       "      <td>Yes</td>\n",
       "      <td>No</td>\n",
       "      <td>No internet service</td>\n",
       "      <td>No internet service</td>\n",
       "      <td>No internet service</td>\n",
       "      <td>No internet service</td>\n",
       "      <td>No internet service</td>\n",
       "      <td>No internet service</td>\n",
       "      <td>Two year</td>\n",
       "      <td>No</td>\n",
       "      <td>Credit card (automatic)</td>\n",
       "    </tr>\n",
       "    <tr>\n",
       "      <th>2</th>\n",
       "      <td>Male</td>\n",
       "      <td>0</td>\n",
       "      <td>No</td>\n",
       "      <td>No</td>\n",
       "      <td>Yes</td>\n",
       "      <td>No</td>\n",
       "      <td>Fiber optic</td>\n",
       "      <td>No</td>\n",
       "      <td>No</td>\n",
       "      <td>No</td>\n",
       "      <td>Yes</td>\n",
       "      <td>No</td>\n",
       "      <td>No</td>\n",
       "      <td>Month-to-month</td>\n",
       "      <td>Yes</td>\n",
       "      <td>Electronic check</td>\n",
       "    </tr>\n",
       "    <tr>\n",
       "      <th>3</th>\n",
       "      <td>Female</td>\n",
       "      <td>1</td>\n",
       "      <td>Yes</td>\n",
       "      <td>No</td>\n",
       "      <td>Yes</td>\n",
       "      <td>Yes</td>\n",
       "      <td>Fiber optic</td>\n",
       "      <td>No</td>\n",
       "      <td>No</td>\n",
       "      <td>Yes</td>\n",
       "      <td>No</td>\n",
       "      <td>No</td>\n",
       "      <td>No</td>\n",
       "      <td>Month-to-month</td>\n",
       "      <td>No</td>\n",
       "      <td>Mailed check</td>\n",
       "    </tr>\n",
       "    <tr>\n",
       "      <th>4</th>\n",
       "      <td>Female</td>\n",
       "      <td>0</td>\n",
       "      <td>Yes</td>\n",
       "      <td>Yes</td>\n",
       "      <td>Yes</td>\n",
       "      <td>Yes</td>\n",
       "      <td>Fiber optic</td>\n",
       "      <td>Yes</td>\n",
       "      <td>Yes</td>\n",
       "      <td>Yes</td>\n",
       "      <td>Yes</td>\n",
       "      <td>Yes</td>\n",
       "      <td>Yes</td>\n",
       "      <td>Two year</td>\n",
       "      <td>No</td>\n",
       "      <td>Credit card (automatic)</td>\n",
       "    </tr>\n",
       "  </tbody>\n",
       "</table>\n",
       "</div>"
      ],
      "text/plain": [
       "      Sex  IsSeniorCitizen HasPartner HasChild HasPhoneService  \\\n",
       "0    Male                0        Yes      Yes             Yes   \n",
       "1    Male                0        Yes       No             Yes   \n",
       "2    Male                0         No       No             Yes   \n",
       "3  Female                1        Yes       No             Yes   \n",
       "4  Female                0        Yes      Yes             Yes   \n",
       "\n",
       "  HasMultiplePhoneNumbers HasInternetService HasOnlineSecurityService  \\\n",
       "0                      No                 No      No internet service   \n",
       "1                     Yes                 No      No internet service   \n",
       "2                      No        Fiber optic                       No   \n",
       "3                     Yes        Fiber optic                       No   \n",
       "4                     Yes        Fiber optic                      Yes   \n",
       "\n",
       "       HasOnlineBackup  HasDeviceProtection HasTechSupportAccess  \\\n",
       "0  No internet service  No internet service  No internet service   \n",
       "1  No internet service  No internet service  No internet service   \n",
       "2                   No                   No                  Yes   \n",
       "3                   No                  Yes                   No   \n",
       "4                  Yes                  Yes                  Yes   \n",
       "\n",
       "           HasOnlineTV HasMovieSubscription HasContractPhone  \\\n",
       "0  No internet service  No internet service         One year   \n",
       "1  No internet service  No internet service         Two year   \n",
       "2                   No                   No   Month-to-month   \n",
       "3                   No                   No   Month-to-month   \n",
       "4                  Yes                  Yes         Two year   \n",
       "\n",
       "  IsBillingPaperless            PaymentMethod  \n",
       "0                 No             Mailed check  \n",
       "1                 No  Credit card (automatic)  \n",
       "2                Yes         Electronic check  \n",
       "3                 No             Mailed check  \n",
       "4                 No  Credit card (automatic)  "
      ]
     },
     "execution_count": 13,
     "metadata": {},
     "output_type": "execute_result"
    }
   ],
   "source": [
    "train[cat_cols].head()"
   ]
  },
  {
   "cell_type": "markdown",
   "id": "a26a0b47",
   "metadata": {},
   "source": [
    "Наблюдаем странные значения в некоторых колонках, например в колонке HasOnlineSecurityService значение 'No internet service' при других имеющихся 'No' - может это на самом деле одно и тоже значение? Проверим"
   ]
  },
  {
   "cell_type": "code",
   "execution_count": 14,
   "id": "a6c0ffdb",
   "metadata": {},
   "outputs": [
    {
     "name": "stdout",
     "output_type": "stream",
     "text": [
      "Sex : ['Male' 'Female']\n",
      "IsSeniorCitizen : [0 1]\n",
      "HasPartner : ['Yes' 'No']\n",
      "HasChild : ['Yes' 'No']\n",
      "HasPhoneService : ['Yes' 'No']\n",
      "HasMultiplePhoneNumbers : ['No' 'Yes' 'No phone service']\n",
      "HasInternetService : ['No' 'Fiber optic' 'DSL']\n",
      "HasOnlineSecurityService : ['No internet service' 'No' 'Yes']\n",
      "HasOnlineBackup : ['No internet service' 'No' 'Yes']\n",
      "HasDeviceProtection : ['No internet service' 'No' 'Yes']\n",
      "HasTechSupportAccess : ['No internet service' 'Yes' 'No']\n",
      "HasOnlineTV : ['No internet service' 'No' 'Yes']\n",
      "HasMovieSubscription : ['No internet service' 'No' 'Yes']\n",
      "HasContractPhone : ['One year' 'Two year' 'Month-to-month']\n",
      "IsBillingPaperless : ['No' 'Yes']\n",
      "PaymentMethod : ['Mailed check' 'Credit card (automatic)' 'Electronic check'\n",
      " 'Bank transfer (automatic)']\n"
     ]
    }
   ],
   "source": [
    "for col in cat_cols:\n",
    "    print(col, ':', train[col].unique())"
   ]
  },
  {
   "cell_type": "markdown",
   "id": "e2ca227f",
   "metadata": {},
   "source": [
    "Значения 'No internet service' выглядят скорее как имеющийся 'No', логично будет эти значения заменить. Но это мы проделаем (возможно)позже, после тщательного анализа этих признаков и влияния их значений на целевую (если 'No' и 'No internet service' влияют на целевую похоже, то, скорее всего, они означают одно и то же)"
   ]
  },
  {
   "cell_type": "markdown",
   "id": "6baa2464",
   "metadata": {},
   "source": [
    "## Числовые признаки"
   ]
  },
  {
   "cell_type": "markdown",
   "id": "c626fb90",
   "metadata": {},
   "source": [
    "pd.info выше нам выдало, что у признака TotalSpent тип object, хотя это числовое значение. Преобразуем к типу float64"
   ]
  },
  {
   "cell_type": "code",
   "execution_count": 15,
   "id": "b078b47c",
   "metadata": {},
   "outputs": [],
   "source": [
    "train.TotalSpent = pd.to_numeric(train.TotalSpent.str.strip())"
   ]
  },
  {
   "cell_type": "code",
   "execution_count": 16,
   "id": "cfc59b61",
   "metadata": {},
   "outputs": [
    {
     "data": {
      "text/plain": [
       "0    1026.35\n",
       "1    1872.20\n",
       "2      75.90\n",
       "3    2570.00\n",
       "4    6758.45\n",
       "Name: TotalSpent, dtype: float64"
      ]
     },
     "execution_count": 16,
     "metadata": {},
     "output_type": "execute_result"
    }
   ],
   "source": [
    "train.TotalSpent.head()"
   ]
  },
  {
   "cell_type": "markdown",
   "id": "2a73bb65",
   "metadata": {},
   "source": [
    "# Анализ категориальных переменных"
   ]
  },
  {
   "cell_type": "markdown",
   "id": "a4c7305e",
   "metadata": {},
   "source": [
    "## Распределение признаков"
   ]
  },
  {
   "cell_type": "code",
   "execution_count": 17,
   "id": "1513f569",
   "metadata": {},
   "outputs": [
    {
     "data": {
      "image/png": "[encoded data removed]",
      "text/plain": [
       "<Figure size 864x1440 with 18 Axes>"
      ]
     },
     "metadata": {},
     "output_type": "display_data"
    }
   ],
   "source": [
    "fig, axes = plt.subplots(ceil(len(cat_cols)/3), 3, figsize=(12,20))\n",
    "for y, col in enumerate(cat_cols):\n",
    "    i, j  = divmod(y, 3)\n",
    "    sns.countplot(data=train, x=col, alpha=0.7, ax=axes[i,j])\n",
    "fig.tight_layout()    "
   ]
  },
  {
   "cell_type": "markdown",
   "id": "54e75b02",
   "metadata": {},
   "source": [
    "По графикам видим:\n",
    "+ значений 'No internet service' довольно много\n",
    "+ значения признаков HasPartner, 'Sex' распределены довольно равномерно \n",
    "+ в признаках IsSeniorCitizen, 'HasChild', 'HasPhoneService', 'HasContractPhone' довольно большой перевес в пользу одного значения"
   ]
  },
  {
   "cell_type": "markdown",
   "id": "45685d9a",
   "metadata": {},
   "source": [
    "## Влияние признаков на целевую переменную"
   ]
  },
  {
   "cell_type": "code",
   "execution_count": 18,
   "id": "a4bf7d24",
   "metadata": {},
   "outputs": [
    {
     "data": {
      "image/png": "[encoded data removed]",
      "text/plain": [
       "<Figure size 864x1440 with 18 Axes>"
      ]
     },
     "metadata": {},
     "output_type": "display_data"
    }
   ],
   "source": [
    "fig, axes = plt.subplots(ceil(len(cat_cols)/3), 3, figsize=(12,20))\n",
    "for y, col in enumerate(cat_cols):\n",
    "    i, j = divmod(y, 3)\n",
    "    sns.countplot(data=train, x=col, hue='Churn', alpha=0.7, ax=axes[i,j])\n",
    "fig.tight_layout() "
   ]
  },
  {
   "cell_type": "markdown",
   "id": "91c019d4",
   "metadata": {},
   "source": [
    "Самый важный вывод из данных графиков - это что значение 'No internet service' НЕ является аналогом значений 'No' в признаках, которые содержат эти значения, тк влияние этих признаков на целевую очень сильно отличается. Кроме того можно сделать следующие интересные выводы:\n",
    "+ Признаки Sex, HasPhoneService не заметно что влияют на целевую - для них проведем χ² тест - возможно, их стоит исключить из дальнейшего анализа\n",
    "\n",
    "+ Больше шансов, что пользователь уйдет, когда: IsSeniorSitizen = 1, HasParnter='No', HasChild='No', HasInternetService='FiberOptic', HasOnlineSecurityService='No', HasOnlineBackup='No', 'HasDeviceProtection' = 'No', HasTYechSupportAccess='No', HasContractPhone='Month-to-month', IsBillingPaperless='Yes', PaymentMethod='Electronic check'\n",
    "\n",
    "В целом признаки демонстрируют очень хорошее влияние на целевую переменную"
   ]
  },
  {
   "cell_type": "markdown",
   "id": "e4f7c77f",
   "metadata": {},
   "source": [
    "## Проверка зависимости целевой переменной"
   ]
  },
  {
   "cell_type": "markdown",
   "id": "f0857d15",
   "metadata": {},
   "source": [
    "Проведем χ² тест для того, чтоб понять на сколько равномерно распределение целевого признака по значениям Sex, HasPhoneService\n"
   ]
  },
  {
   "cell_type": "code",
   "execution_count": 19,
   "id": "a1d8b4bb",
   "metadata": {
    "scrolled": true
   },
   "outputs": [
    {
     "name": "stdout",
     "output_type": "stream",
     "text": [
      "P-Value χ² теста между группами Sex и Churn = 0.5661255394927714\n",
      "\n",
      "P-Value χ² теста между группами HasPhoneService и Churn = 0.46173681534370814\n",
      "\n"
     ]
    }
   ],
   "source": [
    "cols = ['Sex', 'HasPhoneService']\n",
    "for col in cols:\n",
    "    CrosstabResult = pd.crosstab(index=train[col], columns=train.Churn)\n",
    "    ChiSqResult = chi2_contingency(CrosstabResult)\n",
    "    print(f\"P-Value χ² теста между группами {col} и Churn = {ChiSqResult[1]}\\n\")"
   ]
  },
  {
   "cell_type": "markdown",
   "id": "429a6cf0",
   "metadata": {},
   "source": [
    "значение p-value << 0.05, поэтому делаем вывод, что наши переменные Sex, HasPhoneService действтельно никак не влияют на целевую, соответственно их можно исключить из дальнейшего анализа"
   ]
  },
  {
   "cell_type": "code",
   "execution_count": 20,
   "id": "c5fd5b57",
   "metadata": {},
   "outputs": [],
   "source": [
    "col_for_del = ['Sex', 'HasPhoneService']\n",
    "cat_cols = del_from_list(cat_cols, col_for_del)\n",
    "train = train.drop(col_for_del, axis=1)\n",
    "test = test.drop(col_for_del, axis=1)"
   ]
  },
  {
   "cell_type": "markdown",
   "id": "8ac6671a",
   "metadata": {},
   "source": [
    "Выведем получившуюся выборку из одних категориальных признаков"
   ]
  },
  {
   "cell_type": "code",
   "execution_count": 21,
   "id": "53fd73d7",
   "metadata": {},
   "outputs": [
    {
     "data": {
      "text/html": [
       "<div>\n",
       "<style scoped>\n",
       "    .dataframe tbody tr th:only-of-type {\n",
       "        vertical-align: middle;\n",
       "    }\n",
       "\n",
       "    .dataframe tbody tr th {\n",
       "        vertical-align: top;\n",
       "    }\n",
       "\n",
       "    .dataframe thead th {\n",
       "        text-align: right;\n",
       "    }\n",
       "</style>\n",
       "<table border=\"1\" class=\"dataframe\">\n",
       "  <thead>\n",
       "    <tr style=\"text-align: right;\">\n",
       "      <th></th>\n",
       "      <th>HasChild</th>\n",
       "      <th>HasContractPhone</th>\n",
       "      <th>HasDeviceProtection</th>\n",
       "      <th>HasInternetService</th>\n",
       "      <th>HasMovieSubscription</th>\n",
       "      <th>HasMultiplePhoneNumbers</th>\n",
       "      <th>HasOnlineBackup</th>\n",
       "      <th>HasOnlineSecurityService</th>\n",
       "      <th>HasOnlineTV</th>\n",
       "      <th>HasPartner</th>\n",
       "      <th>HasTechSupportAccess</th>\n",
       "      <th>IsBillingPaperless</th>\n",
       "      <th>IsSeniorCitizen</th>\n",
       "      <th>PaymentMethod</th>\n",
       "    </tr>\n",
       "  </thead>\n",
       "  <tbody>\n",
       "    <tr>\n",
       "      <th>0</th>\n",
       "      <td>Yes</td>\n",
       "      <td>One year</td>\n",
       "      <td>No internet service</td>\n",
       "      <td>No</td>\n",
       "      <td>No internet service</td>\n",
       "      <td>No</td>\n",
       "      <td>No internet service</td>\n",
       "      <td>No internet service</td>\n",
       "      <td>No internet service</td>\n",
       "      <td>Yes</td>\n",
       "      <td>No internet service</td>\n",
       "      <td>No</td>\n",
       "      <td>0</td>\n",
       "      <td>Mailed check</td>\n",
       "    </tr>\n",
       "    <tr>\n",
       "      <th>1</th>\n",
       "      <td>No</td>\n",
       "      <td>Two year</td>\n",
       "      <td>No internet service</td>\n",
       "      <td>No</td>\n",
       "      <td>No internet service</td>\n",
       "      <td>Yes</td>\n",
       "      <td>No internet service</td>\n",
       "      <td>No internet service</td>\n",
       "      <td>No internet service</td>\n",
       "      <td>Yes</td>\n",
       "      <td>No internet service</td>\n",
       "      <td>No</td>\n",
       "      <td>0</td>\n",
       "      <td>Credit card (automatic)</td>\n",
       "    </tr>\n",
       "    <tr>\n",
       "      <th>2</th>\n",
       "      <td>No</td>\n",
       "      <td>Month-to-month</td>\n",
       "      <td>No</td>\n",
       "      <td>Fiber optic</td>\n",
       "      <td>No</td>\n",
       "      <td>No</td>\n",
       "      <td>No</td>\n",
       "      <td>No</td>\n",
       "      <td>No</td>\n",
       "      <td>No</td>\n",
       "      <td>Yes</td>\n",
       "      <td>Yes</td>\n",
       "      <td>0</td>\n",
       "      <td>Electronic check</td>\n",
       "    </tr>\n",
       "    <tr>\n",
       "      <th>3</th>\n",
       "      <td>No</td>\n",
       "      <td>Month-to-month</td>\n",
       "      <td>Yes</td>\n",
       "      <td>Fiber optic</td>\n",
       "      <td>No</td>\n",
       "      <td>Yes</td>\n",
       "      <td>No</td>\n",
       "      <td>No</td>\n",
       "      <td>No</td>\n",
       "      <td>Yes</td>\n",
       "      <td>No</td>\n",
       "      <td>No</td>\n",
       "      <td>1</td>\n",
       "      <td>Mailed check</td>\n",
       "    </tr>\n",
       "    <tr>\n",
       "      <th>4</th>\n",
       "      <td>Yes</td>\n",
       "      <td>Two year</td>\n",
       "      <td>Yes</td>\n",
       "      <td>Fiber optic</td>\n",
       "      <td>Yes</td>\n",
       "      <td>Yes</td>\n",
       "      <td>Yes</td>\n",
       "      <td>Yes</td>\n",
       "      <td>Yes</td>\n",
       "      <td>Yes</td>\n",
       "      <td>Yes</td>\n",
       "      <td>No</td>\n",
       "      <td>0</td>\n",
       "      <td>Credit card (automatic)</td>\n",
       "    </tr>\n",
       "  </tbody>\n",
       "</table>\n",
       "</div>"
      ],
      "text/plain": [
       "  HasChild HasContractPhone  HasDeviceProtection HasInternetService  \\\n",
       "0      Yes         One year  No internet service                 No   \n",
       "1       No         Two year  No internet service                 No   \n",
       "2       No   Month-to-month                   No        Fiber optic   \n",
       "3       No   Month-to-month                  Yes        Fiber optic   \n",
       "4      Yes         Two year                  Yes        Fiber optic   \n",
       "\n",
       "  HasMovieSubscription HasMultiplePhoneNumbers      HasOnlineBackup  \\\n",
       "0  No internet service                      No  No internet service   \n",
       "1  No internet service                     Yes  No internet service   \n",
       "2                   No                      No                   No   \n",
       "3                   No                     Yes                   No   \n",
       "4                  Yes                     Yes                  Yes   \n",
       "\n",
       "  HasOnlineSecurityService          HasOnlineTV HasPartner  \\\n",
       "0      No internet service  No internet service        Yes   \n",
       "1      No internet service  No internet service        Yes   \n",
       "2                       No                   No         No   \n",
       "3                       No                   No        Yes   \n",
       "4                      Yes                  Yes        Yes   \n",
       "\n",
       "  HasTechSupportAccess IsBillingPaperless  IsSeniorCitizen  \\\n",
       "0  No internet service                 No                0   \n",
       "1  No internet service                 No                0   \n",
       "2                  Yes                Yes                0   \n",
       "3                   No                 No                1   \n",
       "4                  Yes                 No                0   \n",
       "\n",
       "             PaymentMethod  \n",
       "0             Mailed check  \n",
       "1  Credit card (automatic)  \n",
       "2         Electronic check  \n",
       "3             Mailed check  \n",
       "4  Credit card (automatic)  "
      ]
     },
     "execution_count": 21,
     "metadata": {},
     "output_type": "execute_result"
    }
   ],
   "source": [
    "train[cat_cols].head()"
   ]
  },
  {
   "cell_type": "markdown",
   "id": "0941b6de",
   "metadata": {},
   "source": [
    "По первым 5 строчкам видим схожесть в значениях признаков HasOnlineTV, HasMovieSubscription, HasOnlineBackup, HasOnlineSecurityService(размещены в порядке увеличения значимости влияния на целевую по графикам из п.5.2). Каждый признак сравним с другим (проверка на мулльтиколлинеарность модели)"
   ]
  },
  {
   "cell_type": "markdown",
   "id": "88ced968",
   "metadata": {},
   "source": [
    "## Взаимосвязь между признаками"
   ]
  },
  {
   "cell_type": "markdown",
   "id": "e8743398",
   "metadata": {},
   "source": [
    "Анадиз будем проводить для признаков в порядке возрастания их влияния на целевую, т.е. вначале самая слабо влияющая HasOnlineTV"
   ]
  },
  {
   "cell_type": "markdown",
   "id": "150311e6",
   "metadata": {},
   "source": [
    "**HasOnlineTV**"
   ]
  },
  {
   "cell_type": "code",
   "execution_count": 22,
   "id": "297135da",
   "metadata": {},
   "outputs": [
    {
     "data": {
      "image/png": "[encoded data removed]",
      "text/plain": [
       "<Figure size 1440x576 with 3 Axes>"
      ]
     },
     "metadata": {},
     "output_type": "display_data"
    }
   ],
   "source": [
    "cols = ['HasOnlineBackup', 'HasOnlineSecurityService', 'HasMovieSubscription']\n",
    "fig, axes = plt.subplots(ncols=3, figsize=(20,8))\n",
    "for y, col in enumerate(cols):\n",
    "    sns.countplot(data=train, x=col, hue='HasOnlineTV', alpha=0.7, ax=axes[y])"
   ]
  },
  {
   "cell_type": "markdown",
   "id": "6e43da63",
   "metadata": {},
   "source": [
    "Проведем χ² тест, чтоб обнаружить связаны ли признаки 'HasOnlineBackup', 'HasOnlineSecurityService', 'HasMovieSubscription' с 'HasOnlineTV'. При этом заметим, что значение 'No internet service', которое копируется в данных признаках, может перетянуть все на себя, поэтому для честности, стоит провести тест только для наблюдений, значение которых отлично от него. Конечно, в будущем нужно будет обязательно разобраться с этими повторами, возможно, путем разделения выборки на 2 части и отдельного моделирования для каждой из них."
   ]
  },
  {
   "cell_type": "code",
   "execution_count": 23,
   "id": "d72cec81",
   "metadata": {},
   "outputs": [
    {
     "data": {
      "text/html": [
       "<div>\n",
       "<style scoped>\n",
       "    .dataframe tbody tr th:only-of-type {\n",
       "        vertical-align: middle;\n",
       "    }\n",
       "\n",
       "    .dataframe tbody tr th {\n",
       "        vertical-align: top;\n",
       "    }\n",
       "\n",
       "    .dataframe thead th {\n",
       "        text-align: right;\n",
       "    }\n",
       "</style>\n",
       "<table border=\"1\" class=\"dataframe\">\n",
       "  <thead>\n",
       "    <tr style=\"text-align: right;\">\n",
       "      <th></th>\n",
       "      <th>ClientPeriod</th>\n",
       "      <th>MonthlySpending</th>\n",
       "      <th>TotalSpent</th>\n",
       "      <th>IsSeniorCitizen</th>\n",
       "      <th>HasPartner</th>\n",
       "      <th>HasChild</th>\n",
       "      <th>HasMultiplePhoneNumbers</th>\n",
       "      <th>HasInternetService</th>\n",
       "      <th>HasOnlineSecurityService</th>\n",
       "      <th>HasOnlineBackup</th>\n",
       "      <th>HasDeviceProtection</th>\n",
       "      <th>HasTechSupportAccess</th>\n",
       "      <th>HasOnlineTV</th>\n",
       "      <th>HasMovieSubscription</th>\n",
       "      <th>HasContractPhone</th>\n",
       "      <th>IsBillingPaperless</th>\n",
       "      <th>PaymentMethod</th>\n",
       "      <th>Churn</th>\n",
       "    </tr>\n",
       "  </thead>\n",
       "  <tbody>\n",
       "    <tr>\n",
       "      <th>2</th>\n",
       "      <td>1</td>\n",
       "      <td>75.90</td>\n",
       "      <td>75.90</td>\n",
       "      <td>0</td>\n",
       "      <td>No</td>\n",
       "      <td>No</td>\n",
       "      <td>No</td>\n",
       "      <td>Fiber optic</td>\n",
       "      <td>No</td>\n",
       "      <td>No</td>\n",
       "      <td>No</td>\n",
       "      <td>Yes</td>\n",
       "      <td>No</td>\n",
       "      <td>No</td>\n",
       "      <td>Month-to-month</td>\n",
       "      <td>Yes</td>\n",
       "      <td>Electronic check</td>\n",
       "      <td>1</td>\n",
       "    </tr>\n",
       "    <tr>\n",
       "      <th>3</th>\n",
       "      <td>32</td>\n",
       "      <td>79.30</td>\n",
       "      <td>2570.00</td>\n",
       "      <td>1</td>\n",
       "      <td>Yes</td>\n",
       "      <td>No</td>\n",
       "      <td>Yes</td>\n",
       "      <td>Fiber optic</td>\n",
       "      <td>No</td>\n",
       "      <td>No</td>\n",
       "      <td>Yes</td>\n",
       "      <td>No</td>\n",
       "      <td>No</td>\n",
       "      <td>No</td>\n",
       "      <td>Month-to-month</td>\n",
       "      <td>No</td>\n",
       "      <td>Mailed check</td>\n",
       "      <td>0</td>\n",
       "    </tr>\n",
       "    <tr>\n",
       "      <th>4</th>\n",
       "      <td>60</td>\n",
       "      <td>115.25</td>\n",
       "      <td>6758.45</td>\n",
       "      <td>0</td>\n",
       "      <td>Yes</td>\n",
       "      <td>Yes</td>\n",
       "      <td>Yes</td>\n",
       "      <td>Fiber optic</td>\n",
       "      <td>Yes</td>\n",
       "      <td>Yes</td>\n",
       "      <td>Yes</td>\n",
       "      <td>Yes</td>\n",
       "      <td>Yes</td>\n",
       "      <td>Yes</td>\n",
       "      <td>Two year</td>\n",
       "      <td>No</td>\n",
       "      <td>Credit card (automatic)</td>\n",
       "      <td>0</td>\n",
       "    </tr>\n",
       "    <tr>\n",
       "      <th>6</th>\n",
       "      <td>27</td>\n",
       "      <td>90.15</td>\n",
       "      <td>2423.40</td>\n",
       "      <td>0</td>\n",
       "      <td>Yes</td>\n",
       "      <td>No</td>\n",
       "      <td>Yes</td>\n",
       "      <td>Fiber optic</td>\n",
       "      <td>No</td>\n",
       "      <td>No</td>\n",
       "      <td>Yes</td>\n",
       "      <td>No</td>\n",
       "      <td>No</td>\n",
       "      <td>Yes</td>\n",
       "      <td>Month-to-month</td>\n",
       "      <td>No</td>\n",
       "      <td>Bank transfer (automatic)</td>\n",
       "      <td>0</td>\n",
       "    </tr>\n",
       "    <tr>\n",
       "      <th>7</th>\n",
       "      <td>1</td>\n",
       "      <td>45.70</td>\n",
       "      <td>45.70</td>\n",
       "      <td>0</td>\n",
       "      <td>No</td>\n",
       "      <td>No</td>\n",
       "      <td>No</td>\n",
       "      <td>DSL</td>\n",
       "      <td>No</td>\n",
       "      <td>No</td>\n",
       "      <td>No</td>\n",
       "      <td>No</td>\n",
       "      <td>No</td>\n",
       "      <td>No</td>\n",
       "      <td>Month-to-month</td>\n",
       "      <td>Yes</td>\n",
       "      <td>Mailed check</td>\n",
       "      <td>1</td>\n",
       "    </tr>\n",
       "  </tbody>\n",
       "</table>\n",
       "</div>"
      ],
      "text/plain": [
       "   ClientPeriod  MonthlySpending  TotalSpent  IsSeniorCitizen HasPartner  \\\n",
       "2             1            75.90       75.90                0         No   \n",
       "3            32            79.30     2570.00                1        Yes   \n",
       "4            60           115.25     6758.45                0        Yes   \n",
       "6            27            90.15     2423.40                0        Yes   \n",
       "7             1            45.70       45.70                0         No   \n",
       "\n",
       "  HasChild HasMultiplePhoneNumbers HasInternetService  \\\n",
       "2       No                      No        Fiber optic   \n",
       "3       No                     Yes        Fiber optic   \n",
       "4      Yes                     Yes        Fiber optic   \n",
       "6       No                     Yes        Fiber optic   \n",
       "7       No                      No                DSL   \n",
       "\n",
       "  HasOnlineSecurityService HasOnlineBackup HasDeviceProtection  \\\n",
       "2                       No              No                  No   \n",
       "3                       No              No                 Yes   \n",
       "4                      Yes             Yes                 Yes   \n",
       "6                       No              No                 Yes   \n",
       "7                       No              No                  No   \n",
       "\n",
       "  HasTechSupportAccess HasOnlineTV HasMovieSubscription HasContractPhone  \\\n",
       "2                  Yes          No                   No   Month-to-month   \n",
       "3                   No          No                   No   Month-to-month   \n",
       "4                  Yes         Yes                  Yes         Two year   \n",
       "6                   No          No                  Yes   Month-to-month   \n",
       "7                   No          No                   No   Month-to-month   \n",
       "\n",
       "  IsBillingPaperless              PaymentMethod  Churn  \n",
       "2                Yes           Electronic check      1  \n",
       "3                 No               Mailed check      0  \n",
       "4                 No    Credit card (automatic)      0  \n",
       "6                 No  Bank transfer (automatic)      0  \n",
       "7                Yes               Mailed check      1  "
      ]
     },
     "execution_count": 23,
     "metadata": {},
     "output_type": "execute_result"
    }
   ],
   "source": [
    "train_with_internet = train[train['HasMovieSubscription'] != 'No internet service']\n",
    "train_with_internet.head()"
   ]
  },
  {
   "cell_type": "code",
   "execution_count": 24,
   "id": "38a77ea2",
   "metadata": {},
   "outputs": [
    {
     "name": "stdout",
     "output_type": "stream",
     "text": [
      "P-Value χ² теста между группами HasOnlineTV и HasOnlineBackup = 2.289132206313967e-21\n",
      "\n",
      "P-Value χ² теста между группами HasOnlineTV и HasOnlineSecurityService = 0.02214081044582294\n",
      "\n",
      "P-Value χ² теста между группами HasOnlineTV и HasMovieSubscription = 1.7272315502196066e-183\n",
      "\n"
     ]
    }
   ],
   "source": [
    "ksi(train_with_internet, ['HasOnlineTV', 'HasOnlineTV', 'HasOnlineTV'], \\\n",
    "    ['HasOnlineBackup','HasOnlineSecurityService', 'HasMovieSubscription'])"
   ]
  },
  {
   "cell_type": "markdown",
   "id": "128c858e",
   "metadata": {},
   "source": [
    "Значение p-value << 0.5, значения распределены не равномерно между этими признаками => есть взаимосвязь => для предупреждения мультиколлинеарности модели исключаем признак HasOnlineTV, тем более что график из п.5.2 демонстрирует , что данный признак слабо влияет на целевую (значение 'No internet service' здесь и далее будем опускать, тк оно копируется в других признаках). "
   ]
  },
  {
   "cell_type": "code",
   "execution_count": 25,
   "id": "347940d1",
   "metadata": {},
   "outputs": [],
   "source": [
    "col_for_del = ['HasOnlineTV']\n",
    "cat_cols = del_from_list(cat_cols, col_for_del)\n",
    "train = train.drop(col_for_del, axis=1)\n",
    "test = test.drop(col_for_del, axis=1)"
   ]
  },
  {
   "cell_type": "markdown",
   "id": "02d90434",
   "metadata": {},
   "source": [
    "**HasMovieSubscription**"
   ]
  },
  {
   "cell_type": "code",
   "execution_count": 26,
   "id": "e9ba5c86",
   "metadata": {},
   "outputs": [
    {
     "data": {
      "image/png": "[encoded data removed]",
      "text/plain": [
       "<Figure size 1440x576 with 2 Axes>"
      ]
     },
     "metadata": {},
     "output_type": "display_data"
    }
   ],
   "source": [
    "cols = ['HasOnlineBackup', 'HasOnlineSecurityService']\n",
    "fig, axes = plt.subplots(ncols=2, figsize=(20,8))\n",
    "for y, col in enumerate(cols):\n",
    "    sns.countplot(data=train, x=col, hue='HasMovieSubscription', alpha=0.7, ax=axes[y])"
   ]
  },
  {
   "cell_type": "markdown",
   "id": "945f6464",
   "metadata": {},
   "source": [
    "По данным графикам не наблюдается сильной взаимосвязи значений с признаком HasMovieSubscription, проведем χ² тест для выявления влияния этого признака на целевую:"
   ]
  },
  {
   "cell_type": "code",
   "execution_count": 27,
   "id": "b60832f2",
   "metadata": {},
   "outputs": [
    {
     "name": "stdout",
     "output_type": "stream",
     "text": [
      "P-Value χ² теста между группами HasMovieSubscription и Churn = 0.0007782786957002362\n",
      "\n"
     ]
    }
   ],
   "source": [
    "ksi(train_with_internet, ['HasMovieSubscription'],  ['Churn'])"
   ]
  },
  {
   "cell_type": "markdown",
   "id": "eba8b7c4",
   "metadata": {},
   "source": [
    "Тест показал, что распределение все ж не равномерно (P-Value < 0.05), поэтому оставим данный признак в анализе"
   ]
  },
  {
   "cell_type": "markdown",
   "id": "ec980f7a",
   "metadata": {},
   "source": [
    "**HasOnlineBackup**"
   ]
  },
  {
   "cell_type": "code",
   "execution_count": 28,
   "id": "2cdb7ce0",
   "metadata": {},
   "outputs": [
    {
     "data": {
      "text/plain": [
       "<AxesSubplot:xlabel='HasOnlineSecurityService', ylabel='count'>"
      ]
     },
     "execution_count": 28,
     "metadata": {},
     "output_type": "execute_result"
    },
    {
     "data": {
      "image/png": "[encoded data removed]",
      "text/plain": [
       "<Figure size 360x360 with 1 Axes>"
      ]
     },
     "metadata": {},
     "output_type": "display_data"
    }
   ],
   "source": [
    "plt.figure(figsize=(5,5))\n",
    "sns.countplot(data=train, x='HasOnlineSecurityService', hue='HasOnlineBackup', alpha=0.7)"
   ]
  },
  {
   "cell_type": "markdown",
   "id": "19a4040b",
   "metadata": {},
   "source": [
    "Критичной взаимосвязи не наблюдаем + есть влияние на целевую, оставляем в анализе оба признака."
   ]
  },
  {
   "cell_type": "markdown",
   "id": "4a9a7639",
   "metadata": {},
   "source": [
    "**А теперь убедимся, что если в одном признаке из HasOnlineSecurityService, HasOnlineBackup, HasDeviceProtection, HasTechSupportAccess, HasMovieSubscription значение 'No internet service', значит в остальных всех так же должно быть (иначе - ошибочное значение)**"
   ]
  },
  {
   "cell_type": "code",
   "execution_count": 29,
   "id": "f770971c",
   "metadata": {},
   "outputs": [
    {
     "name": "stdout",
     "output_type": "stream",
     "text": [
      "Наблюдений с искомым значением в колонке HasOnlineSecurityService : 1141\n",
      "\n",
      "Наблюдений с искомым значением в колонке HasOnlineBackup : 1141\n",
      "\n",
      "Наблюдений с искомым значением в колонке HasDeviceProtection : 1141\n",
      "\n",
      "Наблюдений с искомым значением в колонке HasTechSupportAccess : 1141\n",
      "\n",
      "Наблюдений с искомым значением в колонке HasMovieSubscription : 1141\n",
      "\n"
     ]
    }
   ],
   "source": [
    "cols_internet = ['HasOnlineSecurityService', 'HasOnlineBackup', 'HasDeviceProtection', 'HasTechSupportAccess', \\\n",
    "                 'HasMovieSubscription']\n",
    "for col in cols_internet:\n",
    "    print('Наблюдений с искомым значением в колонке', col,':',(train[col]=='No internet service').sum(), end='\\n\\n')\n"
   ]
  },
  {
   "cell_type": "markdown",
   "id": "94435817",
   "metadata": {},
   "source": [
    " мы наблюдаем,что количесвто искомых значений во всех признаках одинаково, но нужно убедиться, что они принадлежат одним и тем же строкам"
   ]
  },
  {
   "cell_type": "code",
   "execution_count": 30,
   "id": "915b31b8",
   "metadata": {},
   "outputs": [
    {
     "name": "stdout",
     "output_type": "stream",
     "text": [
      "Наблюдений с искомым значением в колонке HasOnlineSecurityService : 0\n",
      "\n",
      "Наблюдений с искомым значением в колонке HasOnlineBackup : 0\n",
      "\n",
      "Наблюдений с искомым значением в колонке HasDeviceProtection : 0\n",
      "\n",
      "Наблюдений с искомым значением в колонке HasTechSupportAccess : 0\n",
      "\n",
      "Наблюдений с искомым значением в колонке HasMovieSubscription : 0\n",
      "\n"
     ]
    }
   ],
   "source": [
    "for col in cols_internet:\n",
    "    print('Наблюдений с искомым значением в колонке', col,':',(train_with_internet[col]=='No internet service').sum(), end='\\n\\n')\n"
   ]
  },
  {
   "cell_type": "markdown",
   "id": "ca34c2c0",
   "metadata": {},
   "source": [
    "Да, у нас все заполнено правильно, ошибок нет."
   ]
  },
  {
   "cell_type": "markdown",
   "id": "602ef828",
   "metadata": {},
   "source": [
    "# Анализ числовых переменных"
   ]
  },
  {
   "cell_type": "markdown",
   "id": "722e4c2c",
   "metadata": {},
   "source": [
    "## Распределение признаков"
   ]
  },
  {
   "cell_type": "code",
   "execution_count": 31,
   "id": "6d05bd51",
   "metadata": {},
   "outputs": [
    {
     "data": {
      "image/png": "[encoded data removed]",
      "text/plain": [
       "<Figure size 1152x720 with 4 Axes>"
      ]
     },
     "metadata": {},
     "output_type": "display_data"
    }
   ],
   "source": [
    "ig_ = train[num_cols].hist(figsize=(16, 10), bins=50, color=COLOR_PLOT,\n",
    "                         edgecolor=\"black\", xlabelsize=8, ylabelsize=8)"
   ]
  },
  {
   "cell_type": "markdown",
   "id": "f376fc09",
   "metadata": {},
   "source": [
    "Распределения не нормальные, у признака TotalSpent распределение похоже на логонормальное, у ClientPeriod большая часть наблюдений либо низкие, либо высокие значения принимают "
   ]
  },
  {
   "cell_type": "code",
   "execution_count": 32,
   "id": "14063166",
   "metadata": {},
   "outputs": [
    {
     "data": {
      "text/html": [
       "<div>\n",
       "<style scoped>\n",
       "    .dataframe tbody tr th:only-of-type {\n",
       "        vertical-align: middle;\n",
       "    }\n",
       "\n",
       "    .dataframe tbody tr th {\n",
       "        vertical-align: top;\n",
       "    }\n",
       "\n",
       "    .dataframe thead th {\n",
       "        text-align: right;\n",
       "    }\n",
       "</style>\n",
       "<table border=\"1\" class=\"dataframe\">\n",
       "  <thead>\n",
       "    <tr style=\"text-align: right;\">\n",
       "      <th></th>\n",
       "      <th>ClientPeriod</th>\n",
       "      <th>MonthlySpending</th>\n",
       "      <th>TotalSpent</th>\n",
       "    </tr>\n",
       "  </thead>\n",
       "  <tbody>\n",
       "    <tr>\n",
       "      <th>count</th>\n",
       "      <td>5282.000000</td>\n",
       "      <td>5282.000000</td>\n",
       "      <td>5273.000000</td>\n",
       "    </tr>\n",
       "    <tr>\n",
       "      <th>mean</th>\n",
       "      <td>32.397009</td>\n",
       "      <td>64.924754</td>\n",
       "      <td>2291.390461</td>\n",
       "    </tr>\n",
       "    <tr>\n",
       "      <th>std</th>\n",
       "      <td>24.550326</td>\n",
       "      <td>30.176464</td>\n",
       "      <td>2269.014233</td>\n",
       "    </tr>\n",
       "    <tr>\n",
       "      <th>min</th>\n",
       "      <td>0.000000</td>\n",
       "      <td>18.250000</td>\n",
       "      <td>18.800000</td>\n",
       "    </tr>\n",
       "    <tr>\n",
       "      <th>25%</th>\n",
       "      <td>9.000000</td>\n",
       "      <td>35.462500</td>\n",
       "      <td>401.100000</td>\n",
       "    </tr>\n",
       "    <tr>\n",
       "      <th>50%</th>\n",
       "      <td>29.000000</td>\n",
       "      <td>70.400000</td>\n",
       "      <td>1410.250000</td>\n",
       "    </tr>\n",
       "    <tr>\n",
       "      <th>75%</th>\n",
       "      <td>55.000000</td>\n",
       "      <td>90.050000</td>\n",
       "      <td>3807.350000</td>\n",
       "    </tr>\n",
       "    <tr>\n",
       "      <th>max</th>\n",
       "      <td>72.000000</td>\n",
       "      <td>118.750000</td>\n",
       "      <td>8684.800000</td>\n",
       "    </tr>\n",
       "  </tbody>\n",
       "</table>\n",
       "</div>"
      ],
      "text/plain": [
       "       ClientPeriod  MonthlySpending   TotalSpent\n",
       "count   5282.000000      5282.000000  5273.000000\n",
       "mean      32.397009        64.924754  2291.390461\n",
       "std       24.550326        30.176464  2269.014233\n",
       "min        0.000000        18.250000    18.800000\n",
       "25%        9.000000        35.462500   401.100000\n",
       "50%       29.000000        70.400000  1410.250000\n",
       "75%       55.000000        90.050000  3807.350000\n",
       "max       72.000000       118.750000  8684.800000"
      ]
     },
     "execution_count": 32,
     "metadata": {},
     "output_type": "execute_result"
    }
   ],
   "source": [
    "train[num_cols].describe()"
   ]
  },
  {
   "cell_type": "markdown",
   "id": "6dac1c1b",
   "metadata": {},
   "source": [
    "Видим, что медиана ClientPeriod = 29, медиана MonthlySpending = 70.4, минимальное значение при этом 18.25, а у признака TotalSpent медиана = 1410.25, а вот величина среднего аж в 1.5 раз больше, что обуславливается тем, что имеются наблюдения с очень большим значением, разница между 3-ьим квантилем и максимум очень большая - нужно проверить эту переменную на выбросы"
   ]
  },
  {
   "cell_type": "markdown",
   "id": "943e94f1",
   "metadata": {},
   "source": [
    "## Работа с выбросами"
   ]
  },
  {
   "cell_type": "code",
   "execution_count": 33,
   "id": "e8b9fbab",
   "metadata": {},
   "outputs": [
    {
     "data": {
      "text/plain": [
       "<AxesSubplot:xlabel='TotalSpent'>"
      ]
     },
     "execution_count": 33,
     "metadata": {},
     "output_type": "execute_result"
    },
    {
     "data": {
      "image/png": "[encoded data removed]",
      "text/plain": [
       "<Figure size 720x360 with 1 Axes>"
      ]
     },
     "metadata": {},
     "output_type": "display_data"
    }
   ],
   "source": [
    "plt.figure(figsize=(10,5))\n",
    "sns.boxplot(data=train, x='TotalSpent')"
   ]
  },
  {
   "cell_type": "markdown",
   "id": "91f912bd",
   "metadata": {},
   "source": [
    "Выбросы не замечены."
   ]
  },
  {
   "cell_type": "markdown",
   "id": "9a889119",
   "metadata": {},
   "source": [
    "##  Влияние признаков на целевую переменную + NaN"
   ]
  },
  {
   "cell_type": "code",
   "execution_count": 34,
   "id": "cecbb7c4",
   "metadata": {},
   "outputs": [
    {
     "data": {
      "image/png": "[encoded data removed]",
      "text/plain": [
       "<Figure size 1440x360 with 3 Axes>"
      ]
     },
     "metadata": {},
     "output_type": "display_data"
    }
   ],
   "source": [
    "fig, axes = plt.subplots(ncols=3, figsize=(20,5))\n",
    "for y, col in enumerate(num_cols):\n",
    "    sns.kdeplot(data=train, x=col, hue='Churn', alpha=0.7, ax=axes[y])\n"
   ]
  },
  {
   "cell_type": "markdown",
   "id": "b734c5df",
   "metadata": {},
   "source": [
    "Большая вероятность ухода клиента при значениях:  \n",
    "+ ClientPeriod < 2\n",
    "+ MonthlySpending : от 60 до 100\n",
    "\n",
    "Самые лояльные клиенты при значениях:\n",
    "+ ClientPeriod > 60\n",
    "+ MonthlySpending от 0 до 30\n",
    "\n",
    "А вот для признака TotalSpent проведем тест на равенство средних, тк визуально не сильно заметно влияние этого признака на целевую"
   ]
  },
  {
   "cell_type": "code",
   "execution_count": 35,
   "id": "be4c2460",
   "metadata": {},
   "outputs": [
    {
     "data": {
      "text/plain": [
       "1525.8318641618523"
      ]
     },
     "execution_count": 35,
     "metadata": {},
     "output_type": "execute_result"
    }
   ],
   "source": [
    "train[train.Churn == 1].TotalSpent.mean()"
   ]
  },
  {
   "cell_type": "code",
   "execution_count": 36,
   "id": "82349a17",
   "metadata": {},
   "outputs": [
    {
     "data": {
      "text/plain": [
       "2563.8340447415794"
      ]
     },
     "execution_count": 36,
     "metadata": {},
     "output_type": "execute_result"
    }
   ],
   "source": [
    "train[train.Churn == 0].TotalSpent.mean()"
   ]
  },
  {
   "cell_type": "markdown",
   "id": "eda0faee",
   "metadata": {},
   "source": [
    "Вроде разница средних значений весьма внушительная. Но, чтобы подтвердить цифрами это различие, проведем непараметрический тест Манна-Уитни, тк распределение признака (см. п. 6.1) не нормальное. Только для этого нужно прежде разобраться с отстствующими значениями, которые после преобразования признака TotalSpent в тип float у нас появились (в начале анализа info нам выдавал, что nan не существует, тк в TotalSpent присутствовали пустые строки)"
   ]
  },
  {
   "cell_type": "code",
   "execution_count": 37,
   "id": "6d115b5f",
   "metadata": {},
   "outputs": [
    {
     "data": {
      "text/plain": [
       "9"
      ]
     },
     "execution_count": 37,
     "metadata": {},
     "output_type": "execute_result"
    }
   ],
   "source": [
    "train.TotalSpent.isna().sum()"
   ]
  },
  {
   "cell_type": "markdown",
   "id": "49b8f6bb",
   "metadata": {},
   "source": [
    "Мы имеем 9 отсутствующих значений, проведем замену их на медианное значение"
   ]
  },
  {
   "cell_type": "code",
   "execution_count": 38,
   "id": "865e244f",
   "metadata": {},
   "outputs": [],
   "source": [
    "train.TotalSpent.fillna(train.TotalSpent.median(), inplace=True)"
   ]
  },
  {
   "cell_type": "code",
   "execution_count": 39,
   "id": "1dd7e446",
   "metadata": {},
   "outputs": [
    {
     "name": "stdout",
     "output_type": "stream",
     "text": [
      "Statistics=1872844.500, p=0.000\n"
     ]
    }
   ],
   "source": [
    "stat, p = mannwhitneyu(train[train.Churn == 1].TotalSpent, train[train.Churn == 0].TotalSpent)\n",
    "print('Statistics=%.3f, p=%.3f' % (stat, p))"
   ]
  },
  {
   "cell_type": "markdown",
   "id": "2a9b8330",
   "metadata": {},
   "source": [
    "p << 0.05, поэтому мы подтверждаем, что средние в переменной TotalSpent различаются у ушедших клиентов и не ушедших, соответсвенно, оставляем эту переменную для дальнейшего анализа"
   ]
  },
  {
   "cell_type": "markdown",
   "id": "5c8e6f8f",
   "metadata": {},
   "source": [
    "## Корреляционный анализ"
   ]
  },
  {
   "cell_type": "code",
   "execution_count": 40,
   "id": "83690d41",
   "metadata": {},
   "outputs": [
    {
     "data": {
      "image/png": "[encoded data removed]",
      "text/plain": [
       "<Figure size 360x360 with 2 Axes>"
      ]
     },
     "metadata": {},
     "output_type": "display_data"
    }
   ],
   "source": [
    "plt.figure(figsize=(5,5))\n",
    "train_num_corr = train[num_cols]\n",
    "#признаки распределены не нормально, поэтому используем непараметрическую корреляцию Спирмана\n",
    "corr_matrix =  train_num_corr.corr(method='spearman')\n",
    "#для лучшей визуализации обнуляем корреляции, которые ниже заданного порога\n",
    "corr_matrix[abs(corr_matrix) <= TRESHOLD_FOR_CORR] = 0\n",
    "mask = np.triu(np.ones_like(corr_matrix, dtype=bool))\n",
    "cmap = \"viridis\"\n",
    "sns.heatmap(corr_matrix,  mask=mask, linewidths=0.1, vmax=1.0, vmin=-1.0,  square=True, cmap=cmap, \n",
    "            annot=True, fmt=\".1f\");"
   ]
  },
  {
   "cell_type": "markdown",
   "id": "82426c5d",
   "metadata": {},
   "source": [
    "Вот это да! Корреляция между признаками ClientPeriod и TotalSpent 0.9!! Это очень большое значение, т.к. у TotalSpent так же корреляция выше, чем у ClientPeriod , с признаком MonthlySpending, плюс именно у этого признака мы восстанавливали пропущенные значения, из анализа удалим именно признак TotalSpent."
   ]
  },
  {
   "cell_type": "code",
   "execution_count": 41,
   "id": "e3265dce",
   "metadata": {},
   "outputs": [],
   "source": [
    "col_for_del = ['TotalSpent']\n",
    "num_cols = del_from_list(num_cols, col_for_del)\n",
    "train = train.drop(col_for_del, axis=1)\n",
    "test = test.drop(col_for_del, axis=1)"
   ]
  },
  {
   "cell_type": "markdown",
   "id": "c60457c8",
   "metadata": {},
   "source": [
    "# Feature engineering"
   ]
  },
  {
   "cell_type": "markdown",
   "id": "960348ab",
   "metadata": {},
   "source": [
    "Исходя из графиков п.6.3 мы можем ввести дополнительные признаки категориальные, в зависимости от поведения признаков ClientPeriod и MonthlySpending"
   ]
  },
  {
   "cell_type": "markdown",
   "id": "f5ec8110",
   "metadata": {},
   "source": [
    "**ClientPeriod**"
   ]
  },
  {
   "cell_type": "code",
   "execution_count": 42,
   "id": "782d4a7e",
   "metadata": {},
   "outputs": [],
   "source": [
    "train['ClientPeriodInterval'] = np.nan\n",
    "train.loc[train.ClientPeriod<=2, 'ClientPeriodInterval'] = '0-2'\n",
    "train.loc[(train.ClientPeriod<=20) & (train.ClientPeriod>2), 'ClientPeriodInterval'] = '2-20'\n",
    "train.loc[(train.ClientPeriod<=40) & (train.ClientPeriod>20), 'ClientPeriodInterval'] = '20-40'\n",
    "train.loc[(train.ClientPeriod<=60) & (train.ClientPeriod>40), 'ClientPeriodInterval'] = '40-60'\n",
    "train.ClientPeriodInterval.fillna('60+', inplace=True)\n",
    "\n",
    "test['ClientPeriodInterval'] = np.nan\n",
    "test.loc[test.ClientPeriod<=2, 'ClientPeriodInterval'] = '0-2'\n",
    "test.loc[(test.ClientPeriod<=20) & (test.ClientPeriod>2), 'ClientPeriodInterval'] = '2-20'\n",
    "test.loc[(test.ClientPeriod<=40) & (test.ClientPeriod>20), 'ClientPeriodInterval'] = '20-40'\n",
    "test.loc[(test.ClientPeriod<=60) & (test.ClientPeriod>40), 'ClientPeriodInterval'] = '40-60'\n",
    "test.ClientPeriodInterval.fillna('60+', inplace=True)"
   ]
  },
  {
   "cell_type": "code",
   "execution_count": 43,
   "id": "f2729879",
   "metadata": {},
   "outputs": [
    {
     "data": {
      "image/png": "[encoded data removed]",
      "text/plain": [
       "<Figure size 720x288 with 1 Axes>"
      ]
     },
     "metadata": {},
     "output_type": "display_data"
    }
   ],
   "source": [
    "plt.figure(figsize=(10,4))\n",
    "sns.countplot(data=train, x='ClientPeriodInterval', hue='Churn')\n",
    "\n",
    "plt.title('Влияние на целевую ClientPeriodInterval');"
   ]
  },
  {
   "cell_type": "markdown",
   "id": "9e7a8b58",
   "metadata": {},
   "source": [
    "Самые большие шансы, что пользователь уйдет - ClientPeriodInterval = '0-2', меньше шансов у кого '60+'"
   ]
  },
  {
   "cell_type": "markdown",
   "id": "74606034",
   "metadata": {},
   "source": [
    "**MonthlySpending**"
   ]
  },
  {
   "cell_type": "code",
   "execution_count": 44,
   "id": "7a4bc49d",
   "metadata": {},
   "outputs": [],
   "source": [
    "train['MonthlySpendingInterval'] = np.nan\n",
    "train.loc[train.MonthlySpending<=30, 'MonthlySpendingInterval'] = '0-30'\n",
    "train.loc[(train.MonthlySpending<=60) & (train.MonthlySpending>30), 'MonthlySpendingInterval'] = '30-60'\n",
    "train.loc[(train.MonthlySpending<=100) & (train.MonthlySpending>60), 'MonthlySpendingInterval'] = '60-100'\n",
    "train.MonthlySpendingInterval.fillna('100+', inplace=True)\n",
    "\n",
    "test['MonthlySpendingInterval'] = np.nan\n",
    "test.loc[test.MonthlySpending<=30, 'MonthlySpendingInterval'] = '0-30'\n",
    "test.loc[(test.MonthlySpending<=60) & (test.MonthlySpending>30), 'MonthlySpendingInterval'] = '30-60'\n",
    "test.loc[(test.MonthlySpending<=100) & (test.MonthlySpending>60), 'MonthlySpendingInterval'] = '60-100'\n",
    "test.MonthlySpendingInterval.fillna('100+', inplace=True)"
   ]
  },
  {
   "cell_type": "code",
   "execution_count": 45,
   "id": "f5450336",
   "metadata": {},
   "outputs": [
    {
     "data": {
      "image/png": "[encoded data removed]",
      "text/plain": [
       "<Figure size 720x288 with 1 Axes>"
      ]
     },
     "metadata": {},
     "output_type": "display_data"
    }
   ],
   "source": [
    "plt.figure(figsize=(10,4))\n",
    "sns.countplot(data=train, x='MonthlySpendingInterval', hue='Churn')\n",
    "\n",
    "plt.title('Влияние на целевую MonthlySpendingInterval');"
   ]
  },
  {
   "cell_type": "markdown",
   "id": "e86ca6ba",
   "metadata": {},
   "source": [
    "Меньше всего потерять клиента шансов когда MonthlySpendingInterval = '0-30'"
   ]
  },
  {
   "cell_type": "markdown",
   "id": "797c3281",
   "metadata": {},
   "source": [
    "**HasNotInternet**"
   ]
  },
  {
   "cell_type": "markdown",
   "id": "86945fea",
   "metadata": {},
   "source": [
    "Введем новый признак HasNotInternet и попробуем с ним настроить наши модели, понаблюдаем нужно ли будет или нет рассматривать отдельно тех, у кого интернет есть и у кого его нет. Если нам все равно придется разбивать наши выборки, нам все равно пригодится этот признак.\n",
    "\n",
    "Мы можем его определить по любому имеющемуся признаку с таким значением, тк, как мы убедились выше, значение 'No internet service' копируется "
   ]
  },
  {
   "cell_type": "code",
   "execution_count": 46,
   "id": "9f8d0b9e",
   "metadata": {},
   "outputs": [
    {
     "data": {
      "text/html": [
       "<div>\n",
       "<style scoped>\n",
       "    .dataframe tbody tr th:only-of-type {\n",
       "        vertical-align: middle;\n",
       "    }\n",
       "\n",
       "    .dataframe tbody tr th {\n",
       "        vertical-align: top;\n",
       "    }\n",
       "\n",
       "    .dataframe thead th {\n",
       "        text-align: right;\n",
       "    }\n",
       "</style>\n",
       "<table border=\"1\" class=\"dataframe\">\n",
       "  <thead>\n",
       "    <tr style=\"text-align: right;\">\n",
       "      <th></th>\n",
       "      <th>ClientPeriod</th>\n",
       "      <th>MonthlySpending</th>\n",
       "      <th>IsSeniorCitizen</th>\n",
       "      <th>HasPartner</th>\n",
       "      <th>HasChild</th>\n",
       "      <th>HasMultiplePhoneNumbers</th>\n",
       "      <th>HasInternetService</th>\n",
       "      <th>HasOnlineSecurityService</th>\n",
       "      <th>HasOnlineBackup</th>\n",
       "      <th>HasDeviceProtection</th>\n",
       "      <th>HasTechSupportAccess</th>\n",
       "      <th>HasMovieSubscription</th>\n",
       "      <th>HasContractPhone</th>\n",
       "      <th>IsBillingPaperless</th>\n",
       "      <th>PaymentMethod</th>\n",
       "      <th>Churn</th>\n",
       "      <th>ClientPeriodInterval</th>\n",
       "      <th>MonthlySpendingInterval</th>\n",
       "      <th>HasNotInternet</th>\n",
       "    </tr>\n",
       "  </thead>\n",
       "  <tbody>\n",
       "    <tr>\n",
       "      <th>0</th>\n",
       "      <td>55</td>\n",
       "      <td>19.50</td>\n",
       "      <td>0</td>\n",
       "      <td>Yes</td>\n",
       "      <td>Yes</td>\n",
       "      <td>No</td>\n",
       "      <td>No</td>\n",
       "      <td>No internet service</td>\n",
       "      <td>No internet service</td>\n",
       "      <td>No internet service</td>\n",
       "      <td>No internet service</td>\n",
       "      <td>No internet service</td>\n",
       "      <td>One year</td>\n",
       "      <td>No</td>\n",
       "      <td>Mailed check</td>\n",
       "      <td>0</td>\n",
       "      <td>40-60</td>\n",
       "      <td>0-30</td>\n",
       "      <td>1</td>\n",
       "    </tr>\n",
       "    <tr>\n",
       "      <th>1</th>\n",
       "      <td>72</td>\n",
       "      <td>25.85</td>\n",
       "      <td>0</td>\n",
       "      <td>Yes</td>\n",
       "      <td>No</td>\n",
       "      <td>Yes</td>\n",
       "      <td>No</td>\n",
       "      <td>No internet service</td>\n",
       "      <td>No internet service</td>\n",
       "      <td>No internet service</td>\n",
       "      <td>No internet service</td>\n",
       "      <td>No internet service</td>\n",
       "      <td>Two year</td>\n",
       "      <td>No</td>\n",
       "      <td>Credit card (automatic)</td>\n",
       "      <td>0</td>\n",
       "      <td>60+</td>\n",
       "      <td>0-30</td>\n",
       "      <td>1</td>\n",
       "    </tr>\n",
       "    <tr>\n",
       "      <th>2</th>\n",
       "      <td>1</td>\n",
       "      <td>75.90</td>\n",
       "      <td>0</td>\n",
       "      <td>No</td>\n",
       "      <td>No</td>\n",
       "      <td>No</td>\n",
       "      <td>Fiber optic</td>\n",
       "      <td>No</td>\n",
       "      <td>No</td>\n",
       "      <td>No</td>\n",
       "      <td>Yes</td>\n",
       "      <td>No</td>\n",
       "      <td>Month-to-month</td>\n",
       "      <td>Yes</td>\n",
       "      <td>Electronic check</td>\n",
       "      <td>1</td>\n",
       "      <td>0-2</td>\n",
       "      <td>60-100</td>\n",
       "      <td>0</td>\n",
       "    </tr>\n",
       "    <tr>\n",
       "      <th>3</th>\n",
       "      <td>32</td>\n",
       "      <td>79.30</td>\n",
       "      <td>1</td>\n",
       "      <td>Yes</td>\n",
       "      <td>No</td>\n",
       "      <td>Yes</td>\n",
       "      <td>Fiber optic</td>\n",
       "      <td>No</td>\n",
       "      <td>No</td>\n",
       "      <td>Yes</td>\n",
       "      <td>No</td>\n",
       "      <td>No</td>\n",
       "      <td>Month-to-month</td>\n",
       "      <td>No</td>\n",
       "      <td>Mailed check</td>\n",
       "      <td>0</td>\n",
       "      <td>20-40</td>\n",
       "      <td>60-100</td>\n",
       "      <td>0</td>\n",
       "    </tr>\n",
       "    <tr>\n",
       "      <th>4</th>\n",
       "      <td>60</td>\n",
       "      <td>115.25</td>\n",
       "      <td>0</td>\n",
       "      <td>Yes</td>\n",
       "      <td>Yes</td>\n",
       "      <td>Yes</td>\n",
       "      <td>Fiber optic</td>\n",
       "      <td>Yes</td>\n",
       "      <td>Yes</td>\n",
       "      <td>Yes</td>\n",
       "      <td>Yes</td>\n",
       "      <td>Yes</td>\n",
       "      <td>Two year</td>\n",
       "      <td>No</td>\n",
       "      <td>Credit card (automatic)</td>\n",
       "      <td>0</td>\n",
       "      <td>40-60</td>\n",
       "      <td>100+</td>\n",
       "      <td>0</td>\n",
       "    </tr>\n",
       "  </tbody>\n",
       "</table>\n",
       "</div>"
      ],
      "text/plain": [
       "   ClientPeriod  MonthlySpending  IsSeniorCitizen HasPartner HasChild  \\\n",
       "0            55            19.50                0        Yes      Yes   \n",
       "1            72            25.85                0        Yes       No   \n",
       "2             1            75.90                0         No       No   \n",
       "3            32            79.30                1        Yes       No   \n",
       "4            60           115.25                0        Yes      Yes   \n",
       "\n",
       "  HasMultiplePhoneNumbers HasInternetService HasOnlineSecurityService  \\\n",
       "0                      No                 No      No internet service   \n",
       "1                     Yes                 No      No internet service   \n",
       "2                      No        Fiber optic                       No   \n",
       "3                     Yes        Fiber optic                       No   \n",
       "4                     Yes        Fiber optic                      Yes   \n",
       "\n",
       "       HasOnlineBackup  HasDeviceProtection HasTechSupportAccess  \\\n",
       "0  No internet service  No internet service  No internet service   \n",
       "1  No internet service  No internet service  No internet service   \n",
       "2                   No                   No                  Yes   \n",
       "3                   No                  Yes                   No   \n",
       "4                  Yes                  Yes                  Yes   \n",
       "\n",
       "  HasMovieSubscription HasContractPhone IsBillingPaperless  \\\n",
       "0  No internet service         One year                 No   \n",
       "1  No internet service         Two year                 No   \n",
       "2                   No   Month-to-month                Yes   \n",
       "3                   No   Month-to-month                 No   \n",
       "4                  Yes         Two year                 No   \n",
       "\n",
       "             PaymentMethod  Churn ClientPeriodInterval  \\\n",
       "0             Mailed check      0                40-60   \n",
       "1  Credit card (automatic)      0                  60+   \n",
       "2         Electronic check      1                  0-2   \n",
       "3             Mailed check      0                20-40   \n",
       "4  Credit card (automatic)      0                40-60   \n",
       "\n",
       "  MonthlySpendingInterval  HasNotInternet  \n",
       "0                    0-30               1  \n",
       "1                    0-30               1  \n",
       "2                  60-100               0  \n",
       "3                  60-100               0  \n",
       "4                    100+               0  "
      ]
     },
     "execution_count": 46,
     "metadata": {},
     "output_type": "execute_result"
    }
   ],
   "source": [
    "train['HasNotInternet'] = (train['HasMovieSubscription'] == 'No internet service').astype(int)\n",
    "train.head()"
   ]
  },
  {
   "cell_type": "code",
   "execution_count": 47,
   "id": "db6e6d7b",
   "metadata": {},
   "outputs": [],
   "source": [
    "test['HasNotInternet'] = (test['HasMovieSubscription'] == 'No internet service').astype(int)"
   ]
  },
  {
   "cell_type": "code",
   "execution_count": 48,
   "id": "d7d65558",
   "metadata": {},
   "outputs": [],
   "source": [
    "cat_cols = add_into_list(cat_cols, ['ClientPeriodInterval', 'MonthlySpendingInterval', 'HasNotInternet'])"
   ]
  },
  {
   "cell_type": "markdown",
   "id": "1ef8ff03",
   "metadata": {},
   "source": [
    "**HasInternetService**"
   ]
  },
  {
   "cell_type": "markdown",
   "id": "0620d01b",
   "metadata": {},
   "source": [
    "Проверим, а не является ли значение 'No' признака HasInternetService аналогом 'No internet service'"
   ]
  },
  {
   "cell_type": "code",
   "execution_count": 49,
   "id": "0dd515dc",
   "metadata": {
    "scrolled": true
   },
   "outputs": [
    {
     "data": {
      "text/plain": [
       "0"
      ]
     },
     "execution_count": 49,
     "metadata": {},
     "output_type": "execute_result"
    }
   ],
   "source": [
    "(train.HasInternetService == 'No').sum()  - (train.HasOnlineBackup == 'No internet service').sum()"
   ]
  },
  {
   "cell_type": "code",
   "execution_count": 50,
   "id": "621e49e4",
   "metadata": {},
   "outputs": [
    {
     "data": {
      "text/plain": [
       "0"
      ]
     },
     "execution_count": 50,
     "metadata": {},
     "output_type": "execute_result"
    }
   ],
   "source": [
    "((train.HasInternetService == 'No') & (train.HasOnlineBackup != 'No internet service')).sum()"
   ]
  },
  {
   "cell_type": "markdown",
   "id": "41e656ef",
   "metadata": {},
   "source": [
    "Значение No признака HasInternetService полностью повторяет значения 'No internet service'. Несмотря на это, мы ничего делать не будем, тк после получения дамми переменных колонки, соответствующие знчению No для HasInternetService окажутся аналогичные другим, мы просто произвдем удаление дубликатов."
   ]
  },
  {
   "cell_type": "markdown",
   "id": "edad8c1c",
   "metadata": {},
   "source": [
    "# Подготовка данных к моделированию"
   ]
  },
  {
   "cell_type": "markdown",
   "id": "f5fb6740",
   "metadata": {},
   "source": [
    "## Разделение тренировочной выборки на признаки и целевую переменную"
   ]
  },
  {
   "cell_type": "code",
   "execution_count": 51,
   "id": "4a4926e8",
   "metadata": {},
   "outputs": [
    {
     "data": {
      "text/html": [
       "<div>\n",
       "<style scoped>\n",
       "    .dataframe tbody tr th:only-of-type {\n",
       "        vertical-align: middle;\n",
       "    }\n",
       "\n",
       "    .dataframe tbody tr th {\n",
       "        vertical-align: top;\n",
       "    }\n",
       "\n",
       "    .dataframe thead th {\n",
       "        text-align: right;\n",
       "    }\n",
       "</style>\n",
       "<table border=\"1\" class=\"dataframe\">\n",
       "  <thead>\n",
       "    <tr style=\"text-align: right;\">\n",
       "      <th></th>\n",
       "      <th>ClientPeriod</th>\n",
       "      <th>MonthlySpending</th>\n",
       "      <th>IsSeniorCitizen</th>\n",
       "      <th>HasPartner</th>\n",
       "      <th>HasChild</th>\n",
       "      <th>HasMultiplePhoneNumbers</th>\n",
       "      <th>HasInternetService</th>\n",
       "      <th>HasOnlineSecurityService</th>\n",
       "      <th>HasOnlineBackup</th>\n",
       "      <th>HasDeviceProtection</th>\n",
       "      <th>HasTechSupportAccess</th>\n",
       "      <th>HasMovieSubscription</th>\n",
       "      <th>HasContractPhone</th>\n",
       "      <th>IsBillingPaperless</th>\n",
       "      <th>PaymentMethod</th>\n",
       "      <th>ClientPeriodInterval</th>\n",
       "      <th>MonthlySpendingInterval</th>\n",
       "      <th>HasNotInternet</th>\n",
       "    </tr>\n",
       "  </thead>\n",
       "  <tbody>\n",
       "    <tr>\n",
       "      <th>0</th>\n",
       "      <td>42</td>\n",
       "      <td>56.10</td>\n",
       "      <td>0</td>\n",
       "      <td>Yes</td>\n",
       "      <td>No</td>\n",
       "      <td>Yes</td>\n",
       "      <td>DSL</td>\n",
       "      <td>Yes</td>\n",
       "      <td>No</td>\n",
       "      <td>No</td>\n",
       "      <td>No</td>\n",
       "      <td>No</td>\n",
       "      <td>One year</td>\n",
       "      <td>No</td>\n",
       "      <td>Credit card (automatic)</td>\n",
       "      <td>40-60</td>\n",
       "      <td>30-60</td>\n",
       "      <td>0</td>\n",
       "    </tr>\n",
       "    <tr>\n",
       "      <th>1</th>\n",
       "      <td>29</td>\n",
       "      <td>98.50</td>\n",
       "      <td>1</td>\n",
       "      <td>Yes</td>\n",
       "      <td>No</td>\n",
       "      <td>Yes</td>\n",
       "      <td>Fiber optic</td>\n",
       "      <td>No</td>\n",
       "      <td>No</td>\n",
       "      <td>Yes</td>\n",
       "      <td>No</td>\n",
       "      <td>Yes</td>\n",
       "      <td>Month-to-month</td>\n",
       "      <td>Yes</td>\n",
       "      <td>Electronic check</td>\n",
       "      <td>20-40</td>\n",
       "      <td>60-100</td>\n",
       "      <td>0</td>\n",
       "    </tr>\n",
       "    <tr>\n",
       "      <th>2</th>\n",
       "      <td>9</td>\n",
       "      <td>76.25</td>\n",
       "      <td>0</td>\n",
       "      <td>No</td>\n",
       "      <td>No</td>\n",
       "      <td>Yes</td>\n",
       "      <td>Fiber optic</td>\n",
       "      <td>No</td>\n",
       "      <td>No</td>\n",
       "      <td>No</td>\n",
       "      <td>No</td>\n",
       "      <td>No</td>\n",
       "      <td>Month-to-month</td>\n",
       "      <td>Yes</td>\n",
       "      <td>Electronic check</td>\n",
       "      <td>2-20</td>\n",
       "      <td>60-100</td>\n",
       "      <td>0</td>\n",
       "    </tr>\n",
       "    <tr>\n",
       "      <th>3</th>\n",
       "      <td>67</td>\n",
       "      <td>74.00</td>\n",
       "      <td>0</td>\n",
       "      <td>Yes</td>\n",
       "      <td>Yes</td>\n",
       "      <td>Yes</td>\n",
       "      <td>DSL</td>\n",
       "      <td>Yes</td>\n",
       "      <td>Yes</td>\n",
       "      <td>No</td>\n",
       "      <td>Yes</td>\n",
       "      <td>No</td>\n",
       "      <td>Two year</td>\n",
       "      <td>No</td>\n",
       "      <td>Credit card (automatic)</td>\n",
       "      <td>60+</td>\n",
       "      <td>60-100</td>\n",
       "      <td>0</td>\n",
       "    </tr>\n",
       "    <tr>\n",
       "      <th>4</th>\n",
       "      <td>71</td>\n",
       "      <td>20.10</td>\n",
       "      <td>0</td>\n",
       "      <td>Yes</td>\n",
       "      <td>Yes</td>\n",
       "      <td>No</td>\n",
       "      <td>No</td>\n",
       "      <td>No internet service</td>\n",
       "      <td>No internet service</td>\n",
       "      <td>No internet service</td>\n",
       "      <td>No internet service</td>\n",
       "      <td>No internet service</td>\n",
       "      <td>Two year</td>\n",
       "      <td>No</td>\n",
       "      <td>Bank transfer (automatic)</td>\n",
       "      <td>60+</td>\n",
       "      <td>0-30</td>\n",
       "      <td>1</td>\n",
       "    </tr>\n",
       "  </tbody>\n",
       "</table>\n",
       "</div>"
      ],
      "text/plain": [
       "   ClientPeriod  MonthlySpending  IsSeniorCitizen HasPartner HasChild  \\\n",
       "0            42            56.10                0        Yes       No   \n",
       "1            29            98.50                1        Yes       No   \n",
       "2             9            76.25                0         No       No   \n",
       "3            67            74.00                0        Yes      Yes   \n",
       "4            71            20.10                0        Yes      Yes   \n",
       "\n",
       "  HasMultiplePhoneNumbers HasInternetService HasOnlineSecurityService  \\\n",
       "0                     Yes                DSL                      Yes   \n",
       "1                     Yes        Fiber optic                       No   \n",
       "2                     Yes        Fiber optic                       No   \n",
       "3                     Yes                DSL                      Yes   \n",
       "4                      No                 No      No internet service   \n",
       "\n",
       "       HasOnlineBackup  HasDeviceProtection HasTechSupportAccess  \\\n",
       "0                   No                   No                   No   \n",
       "1                   No                  Yes                   No   \n",
       "2                   No                   No                   No   \n",
       "3                  Yes                   No                  Yes   \n",
       "4  No internet service  No internet service  No internet service   \n",
       "\n",
       "  HasMovieSubscription HasContractPhone IsBillingPaperless  \\\n",
       "0                   No         One year                 No   \n",
       "1                  Yes   Month-to-month                Yes   \n",
       "2                   No   Month-to-month                Yes   \n",
       "3                   No         Two year                 No   \n",
       "4  No internet service         Two year                 No   \n",
       "\n",
       "               PaymentMethod ClientPeriodInterval MonthlySpendingInterval  \\\n",
       "0    Credit card (automatic)                40-60                   30-60   \n",
       "1           Electronic check                20-40                  60-100   \n",
       "2           Electronic check                 2-20                  60-100   \n",
       "3    Credit card (automatic)                  60+                  60-100   \n",
       "4  Bank transfer (automatic)                  60+                    0-30   \n",
       "\n",
       "   HasNotInternet  \n",
       "0               0  \n",
       "1               0  \n",
       "2               0  \n",
       "3               0  \n",
       "4               1  "
      ]
     },
     "execution_count": 51,
     "metadata": {},
     "output_type": "execute_result"
    }
   ],
   "source": [
    "X = train.drop(columns=['Churn'], axis=1).copy()\n",
    "y = train.Churn.copy()\n",
    "#сохраним копию, тк для catboost нам не нужно будет заниматься модифицированием категориальных данных и нормировкой чисовых\n",
    "X_catboost = X.copy()\n",
    "\n",
    "X_test = test.copy()\n",
    "X_test_catboost = X_test.copy()\n",
    "\n",
    "test.head()"
   ]
  },
  {
   "cell_type": "markdown",
   "id": "c05a9d85",
   "metadata": {},
   "source": [
    "## Удаление признаков"
   ]
  },
  {
   "cell_type": "markdown",
   "id": "811ba102",
   "metadata": {},
   "source": [
    "Здесь мы будем удалять некоторые признаки, которые могут мешать обучению модели всвязи с высокой корреляцией с другими признаками, и смотреть, как реагирует модель"
   ]
  },
  {
   "cell_type": "code",
   "execution_count": 52,
   "id": "8558a687",
   "metadata": {},
   "outputs": [],
   "source": [
    "#HasInternetService HasPartner  HasTechSupportAccess\n",
    "#col_for_del = ['HasPartner']\n",
    "#col_for_del = ['HasInternetService']\n",
    "#X = X.drop(col_for_del, axis=1)\n",
    "#X_test = X_test.drop(col_for_del, axis=1)"
   ]
  },
  {
   "cell_type": "code",
   "execution_count": 53,
   "id": "5db7022a",
   "metadata": {},
   "outputs": [],
   "source": [
    "#num_cols = del_from_list(num_cols, ['ClientPeriod', 'MonthlySpending'])\n"
   ]
  },
  {
   "cell_type": "code",
   "execution_count": 54,
   "id": "cf5a59f8",
   "metadata": {},
   "outputs": [],
   "source": [
    "#cat_cols = add_into_list(cat_cols, ['HasPartner'])\n",
    "#cat_cols"
   ]
  },
  {
   "cell_type": "code",
   "execution_count": 55,
   "id": "a8bd539d",
   "metadata": {},
   "outputs": [
    {
     "name": "stdout",
     "output_type": "stream",
     "text": [
      "количество пропущенных значений в тренировочной: 0\n",
      "количество пропущенных значений в тестовой: 0\n"
     ]
    }
   ],
   "source": [
    "print('количество пропущенных значений в тренировочной:', X.isna().sum().sum())\n",
    "print('количество пропущенных значений в тестовой:', X_test.isna().sum().sum())"
   ]
  },
  {
   "cell_type": "markdown",
   "id": "bb399b76",
   "metadata": {},
   "source": [
    "## Нормализация числовых признаков"
   ]
  },
  {
   "cell_type": "code",
   "execution_count": 56,
   "id": "0cf2fca7",
   "metadata": {},
   "outputs": [
    {
     "data": {
      "text/html": [
       "<div>\n",
       "<style scoped>\n",
       "    .dataframe tbody tr th:only-of-type {\n",
       "        vertical-align: middle;\n",
       "    }\n",
       "\n",
       "    .dataframe tbody tr th {\n",
       "        vertical-align: top;\n",
       "    }\n",
       "\n",
       "    .dataframe thead th {\n",
       "        text-align: right;\n",
       "    }\n",
       "</style>\n",
       "<table border=\"1\" class=\"dataframe\">\n",
       "  <thead>\n",
       "    <tr style=\"text-align: right;\">\n",
       "      <th></th>\n",
       "      <th>ClientPeriod</th>\n",
       "      <th>MonthlySpending</th>\n",
       "    </tr>\n",
       "  </thead>\n",
       "  <tbody>\n",
       "    <tr>\n",
       "      <th>0</th>\n",
       "      <td>55</td>\n",
       "      <td>19.50</td>\n",
       "    </tr>\n",
       "    <tr>\n",
       "      <th>1</th>\n",
       "      <td>72</td>\n",
       "      <td>25.85</td>\n",
       "    </tr>\n",
       "    <tr>\n",
       "      <th>2</th>\n",
       "      <td>1</td>\n",
       "      <td>75.90</td>\n",
       "    </tr>\n",
       "    <tr>\n",
       "      <th>3</th>\n",
       "      <td>32</td>\n",
       "      <td>79.30</td>\n",
       "    </tr>\n",
       "    <tr>\n",
       "      <th>4</th>\n",
       "      <td>60</td>\n",
       "      <td>115.25</td>\n",
       "    </tr>\n",
       "  </tbody>\n",
       "</table>\n",
       "</div>"
      ],
      "text/plain": [
       "   ClientPeriod  MonthlySpending\n",
       "0            55            19.50\n",
       "1            72            25.85\n",
       "2             1            75.90\n",
       "3            32            79.30\n",
       "4            60           115.25"
      ]
     },
     "execution_count": 56,
     "metadata": {},
     "output_type": "execute_result"
    }
   ],
   "source": [
    "X[num_cols].head()"
   ]
  },
  {
   "cell_type": "code",
   "execution_count": 57,
   "id": "bfa32622",
   "metadata": {},
   "outputs": [
    {
     "data": {
      "text/html": [
       "<div>\n",
       "<style scoped>\n",
       "    .dataframe tbody tr th:only-of-type {\n",
       "        vertical-align: middle;\n",
       "    }\n",
       "\n",
       "    .dataframe tbody tr th {\n",
       "        vertical-align: top;\n",
       "    }\n",
       "\n",
       "    .dataframe thead th {\n",
       "        text-align: right;\n",
       "    }\n",
       "</style>\n",
       "<table border=\"1\" class=\"dataframe\">\n",
       "  <thead>\n",
       "    <tr style=\"text-align: right;\">\n",
       "      <th></th>\n",
       "      <th>ClientPeriod</th>\n",
       "      <th>MonthlySpending</th>\n",
       "    </tr>\n",
       "  </thead>\n",
       "  <tbody>\n",
       "    <tr>\n",
       "      <th>0</th>\n",
       "      <td>0.920767</td>\n",
       "      <td>-1.505447</td>\n",
       "    </tr>\n",
       "    <tr>\n",
       "      <th>1</th>\n",
       "      <td>1.613288</td>\n",
       "      <td>-1.294998</td>\n",
       "    </tr>\n",
       "    <tr>\n",
       "      <th>2</th>\n",
       "      <td>-1.279005</td>\n",
       "      <td>0.363737</td>\n",
       "    </tr>\n",
       "    <tr>\n",
       "      <th>3</th>\n",
       "      <td>-0.016173</td>\n",
       "      <td>0.476418</td>\n",
       "    </tr>\n",
       "    <tr>\n",
       "      <th>4</th>\n",
       "      <td>1.124450</td>\n",
       "      <td>1.667856</td>\n",
       "    </tr>\n",
       "  </tbody>\n",
       "</table>\n",
       "</div>"
      ],
      "text/plain": [
       "   ClientPeriod  MonthlySpending\n",
       "0      0.920767        -1.505447\n",
       "1      1.613288        -1.294998\n",
       "2     -1.279005         0.363737\n",
       "3     -0.016173         0.476418\n",
       "4      1.124450         1.667856"
      ]
     },
     "execution_count": 57,
     "metadata": {},
     "output_type": "execute_result"
    }
   ],
   "source": [
    "sc = StandardScaler()\n",
    "\n",
    "X[num_cols] = sc.fit_transform(X[num_cols])\n",
    "X_test[num_cols] = sc.transform(X_test[num_cols])\n",
    "X[num_cols].head()"
   ]
  },
  {
   "cell_type": "markdown",
   "id": "6901f0fa",
   "metadata": {},
   "source": [
    "## Кодирование Категориальных признаков"
   ]
  },
  {
   "cell_type": "markdown",
   "id": "6c0cec94",
   "metadata": {},
   "source": [
    "Признаки, у которых только 2 значения, оставим без изменений, только так, чтоб значения были 0 или 1:"
   ]
  },
  {
   "cell_type": "code",
   "execution_count": 58,
   "id": "ce7025c2",
   "metadata": {},
   "outputs": [
    {
     "data": {
      "text/plain": [
       "['HasChild',\n",
       " 'HasPartner',\n",
       " 'IsBillingPaperless',\n",
       " 'IsSeniorCitizen',\n",
       " 'HasNotInternet']"
      ]
     },
     "execution_count": 58,
     "metadata": {},
     "output_type": "execute_result"
    }
   ],
   "source": [
    "binary_cols = X[cat_cols].nunique()[(X[cat_cols].nunique() == 2)].index.to_list()\n",
    "binary_cols"
   ]
  },
  {
   "cell_type": "code",
   "execution_count": 59,
   "id": "7a18cb1c",
   "metadata": {},
   "outputs": [
    {
     "data": {
      "text/html": [
       "<div>\n",
       "<style scoped>\n",
       "    .dataframe tbody tr th:only-of-type {\n",
       "        vertical-align: middle;\n",
       "    }\n",
       "\n",
       "    .dataframe tbody tr th {\n",
       "        vertical-align: top;\n",
       "    }\n",
       "\n",
       "    .dataframe thead th {\n",
       "        text-align: right;\n",
       "    }\n",
       "</style>\n",
       "<table border=\"1\" class=\"dataframe\">\n",
       "  <thead>\n",
       "    <tr style=\"text-align: right;\">\n",
       "      <th></th>\n",
       "      <th>ClientPeriod</th>\n",
       "      <th>MonthlySpending</th>\n",
       "      <th>IsSeniorCitizen</th>\n",
       "      <th>HasPartner</th>\n",
       "      <th>HasChild</th>\n",
       "      <th>HasMultiplePhoneNumbers</th>\n",
       "      <th>HasInternetService</th>\n",
       "      <th>HasOnlineSecurityService</th>\n",
       "      <th>HasOnlineBackup</th>\n",
       "      <th>HasDeviceProtection</th>\n",
       "      <th>HasTechSupportAccess</th>\n",
       "      <th>HasMovieSubscription</th>\n",
       "      <th>HasContractPhone</th>\n",
       "      <th>IsBillingPaperless</th>\n",
       "      <th>PaymentMethod</th>\n",
       "      <th>ClientPeriodInterval</th>\n",
       "      <th>MonthlySpendingInterval</th>\n",
       "      <th>HasNotInternet</th>\n",
       "    </tr>\n",
       "  </thead>\n",
       "  <tbody>\n",
       "    <tr>\n",
       "      <th>0</th>\n",
       "      <td>0.920767</td>\n",
       "      <td>-1.505447</td>\n",
       "      <td>0</td>\n",
       "      <td>Yes</td>\n",
       "      <td>Yes</td>\n",
       "      <td>No</td>\n",
       "      <td>No</td>\n",
       "      <td>No internet service</td>\n",
       "      <td>No internet service</td>\n",
       "      <td>No internet service</td>\n",
       "      <td>No internet service</td>\n",
       "      <td>No internet service</td>\n",
       "      <td>One year</td>\n",
       "      <td>No</td>\n",
       "      <td>Mailed check</td>\n",
       "      <td>40-60</td>\n",
       "      <td>0-30</td>\n",
       "      <td>1</td>\n",
       "    </tr>\n",
       "    <tr>\n",
       "      <th>1</th>\n",
       "      <td>1.613288</td>\n",
       "      <td>-1.294998</td>\n",
       "      <td>0</td>\n",
       "      <td>Yes</td>\n",
       "      <td>No</td>\n",
       "      <td>Yes</td>\n",
       "      <td>No</td>\n",
       "      <td>No internet service</td>\n",
       "      <td>No internet service</td>\n",
       "      <td>No internet service</td>\n",
       "      <td>No internet service</td>\n",
       "      <td>No internet service</td>\n",
       "      <td>Two year</td>\n",
       "      <td>No</td>\n",
       "      <td>Credit card (automatic)</td>\n",
       "      <td>60+</td>\n",
       "      <td>0-30</td>\n",
       "      <td>1</td>\n",
       "    </tr>\n",
       "    <tr>\n",
       "      <th>2</th>\n",
       "      <td>-1.279005</td>\n",
       "      <td>0.363737</td>\n",
       "      <td>0</td>\n",
       "      <td>No</td>\n",
       "      <td>No</td>\n",
       "      <td>No</td>\n",
       "      <td>Fiber optic</td>\n",
       "      <td>No</td>\n",
       "      <td>No</td>\n",
       "      <td>No</td>\n",
       "      <td>Yes</td>\n",
       "      <td>No</td>\n",
       "      <td>Month-to-month</td>\n",
       "      <td>Yes</td>\n",
       "      <td>Electronic check</td>\n",
       "      <td>0-2</td>\n",
       "      <td>60-100</td>\n",
       "      <td>0</td>\n",
       "    </tr>\n",
       "    <tr>\n",
       "      <th>3</th>\n",
       "      <td>-0.016173</td>\n",
       "      <td>0.476418</td>\n",
       "      <td>1</td>\n",
       "      <td>Yes</td>\n",
       "      <td>No</td>\n",
       "      <td>Yes</td>\n",
       "      <td>Fiber optic</td>\n",
       "      <td>No</td>\n",
       "      <td>No</td>\n",
       "      <td>Yes</td>\n",
       "      <td>No</td>\n",
       "      <td>No</td>\n",
       "      <td>Month-to-month</td>\n",
       "      <td>No</td>\n",
       "      <td>Mailed check</td>\n",
       "      <td>20-40</td>\n",
       "      <td>60-100</td>\n",
       "      <td>0</td>\n",
       "    </tr>\n",
       "    <tr>\n",
       "      <th>4</th>\n",
       "      <td>1.124450</td>\n",
       "      <td>1.667856</td>\n",
       "      <td>0</td>\n",
       "      <td>Yes</td>\n",
       "      <td>Yes</td>\n",
       "      <td>Yes</td>\n",
       "      <td>Fiber optic</td>\n",
       "      <td>Yes</td>\n",
       "      <td>Yes</td>\n",
       "      <td>Yes</td>\n",
       "      <td>Yes</td>\n",
       "      <td>Yes</td>\n",
       "      <td>Two year</td>\n",
       "      <td>No</td>\n",
       "      <td>Credit card (automatic)</td>\n",
       "      <td>40-60</td>\n",
       "      <td>100+</td>\n",
       "      <td>0</td>\n",
       "    </tr>\n",
       "  </tbody>\n",
       "</table>\n",
       "</div>"
      ],
      "text/plain": [
       "   ClientPeriod  MonthlySpending  IsSeniorCitizen HasPartner HasChild  \\\n",
       "0      0.920767        -1.505447                0        Yes      Yes   \n",
       "1      1.613288        -1.294998                0        Yes       No   \n",
       "2     -1.279005         0.363737                0         No       No   \n",
       "3     -0.016173         0.476418                1        Yes       No   \n",
       "4      1.124450         1.667856                0        Yes      Yes   \n",
       "\n",
       "  HasMultiplePhoneNumbers HasInternetService HasOnlineSecurityService  \\\n",
       "0                      No                 No      No internet service   \n",
       "1                     Yes                 No      No internet service   \n",
       "2                      No        Fiber optic                       No   \n",
       "3                     Yes        Fiber optic                       No   \n",
       "4                     Yes        Fiber optic                      Yes   \n",
       "\n",
       "       HasOnlineBackup  HasDeviceProtection HasTechSupportAccess  \\\n",
       "0  No internet service  No internet service  No internet service   \n",
       "1  No internet service  No internet service  No internet service   \n",
       "2                   No                   No                  Yes   \n",
       "3                   No                  Yes                   No   \n",
       "4                  Yes                  Yes                  Yes   \n",
       "\n",
       "  HasMovieSubscription HasContractPhone IsBillingPaperless  \\\n",
       "0  No internet service         One year                 No   \n",
       "1  No internet service         Two year                 No   \n",
       "2                   No   Month-to-month                Yes   \n",
       "3                   No   Month-to-month                 No   \n",
       "4                  Yes         Two year                 No   \n",
       "\n",
       "             PaymentMethod ClientPeriodInterval MonthlySpendingInterval  \\\n",
       "0             Mailed check                40-60                    0-30   \n",
       "1  Credit card (automatic)                  60+                    0-30   \n",
       "2         Electronic check                  0-2                  60-100   \n",
       "3             Mailed check                20-40                  60-100   \n",
       "4  Credit card (automatic)                40-60                    100+   \n",
       "\n",
       "   HasNotInternet  \n",
       "0               1  \n",
       "1               1  \n",
       "2               0  \n",
       "3               0  \n",
       "4               0  "
      ]
     },
     "execution_count": 59,
     "metadata": {},
     "output_type": "execute_result"
    }
   ],
   "source": [
    "X.head()"
   ]
  },
  {
   "cell_type": "code",
   "execution_count": 60,
   "id": "d1423073",
   "metadata": {},
   "outputs": [],
   "source": [
    "for col in binary_cols:\n",
    "    X[col] = (X[col] == 'Yes').astype(int)\n",
    "    X_test[col] = (X_test[col] == 'Yes').astype(int)"
   ]
  },
  {
   "cell_type": "code",
   "execution_count": 61,
   "id": "bba08cfc",
   "metadata": {},
   "outputs": [
    {
     "data": {
      "text/html": [
       "<div>\n",
       "<style scoped>\n",
       "    .dataframe tbody tr th:only-of-type {\n",
       "        vertical-align: middle;\n",
       "    }\n",
       "\n",
       "    .dataframe tbody tr th {\n",
       "        vertical-align: top;\n",
       "    }\n",
       "\n",
       "    .dataframe thead th {\n",
       "        text-align: right;\n",
       "    }\n",
       "</style>\n",
       "<table border=\"1\" class=\"dataframe\">\n",
       "  <thead>\n",
       "    <tr style=\"text-align: right;\">\n",
       "      <th></th>\n",
       "      <th>ClientPeriod</th>\n",
       "      <th>MonthlySpending</th>\n",
       "      <th>IsSeniorCitizen</th>\n",
       "      <th>HasPartner</th>\n",
       "      <th>HasChild</th>\n",
       "      <th>HasMultiplePhoneNumbers</th>\n",
       "      <th>HasInternetService</th>\n",
       "      <th>HasOnlineSecurityService</th>\n",
       "      <th>HasOnlineBackup</th>\n",
       "      <th>HasDeviceProtection</th>\n",
       "      <th>HasTechSupportAccess</th>\n",
       "      <th>HasMovieSubscription</th>\n",
       "      <th>HasContractPhone</th>\n",
       "      <th>IsBillingPaperless</th>\n",
       "      <th>PaymentMethod</th>\n",
       "      <th>ClientPeriodInterval</th>\n",
       "      <th>MonthlySpendingInterval</th>\n",
       "      <th>HasNotInternet</th>\n",
       "    </tr>\n",
       "  </thead>\n",
       "  <tbody>\n",
       "    <tr>\n",
       "      <th>0</th>\n",
       "      <td>0.920767</td>\n",
       "      <td>-1.505447</td>\n",
       "      <td>0</td>\n",
       "      <td>1</td>\n",
       "      <td>1</td>\n",
       "      <td>No</td>\n",
       "      <td>No</td>\n",
       "      <td>No internet service</td>\n",
       "      <td>No internet service</td>\n",
       "      <td>No internet service</td>\n",
       "      <td>No internet service</td>\n",
       "      <td>No internet service</td>\n",
       "      <td>One year</td>\n",
       "      <td>0</td>\n",
       "      <td>Mailed check</td>\n",
       "      <td>40-60</td>\n",
       "      <td>0-30</td>\n",
       "      <td>0</td>\n",
       "    </tr>\n",
       "    <tr>\n",
       "      <th>1</th>\n",
       "      <td>1.613288</td>\n",
       "      <td>-1.294998</td>\n",
       "      <td>0</td>\n",
       "      <td>1</td>\n",
       "      <td>0</td>\n",
       "      <td>Yes</td>\n",
       "      <td>No</td>\n",
       "      <td>No internet service</td>\n",
       "      <td>No internet service</td>\n",
       "      <td>No internet service</td>\n",
       "      <td>No internet service</td>\n",
       "      <td>No internet service</td>\n",
       "      <td>Two year</td>\n",
       "      <td>0</td>\n",
       "      <td>Credit card (automatic)</td>\n",
       "      <td>60+</td>\n",
       "      <td>0-30</td>\n",
       "      <td>0</td>\n",
       "    </tr>\n",
       "    <tr>\n",
       "      <th>2</th>\n",
       "      <td>-1.279005</td>\n",
       "      <td>0.363737</td>\n",
       "      <td>0</td>\n",
       "      <td>0</td>\n",
       "      <td>0</td>\n",
       "      <td>No</td>\n",
       "      <td>Fiber optic</td>\n",
       "      <td>No</td>\n",
       "      <td>No</td>\n",
       "      <td>No</td>\n",
       "      <td>Yes</td>\n",
       "      <td>No</td>\n",
       "      <td>Month-to-month</td>\n",
       "      <td>1</td>\n",
       "      <td>Electronic check</td>\n",
       "      <td>0-2</td>\n",
       "      <td>60-100</td>\n",
       "      <td>0</td>\n",
       "    </tr>\n",
       "    <tr>\n",
       "      <th>3</th>\n",
       "      <td>-0.016173</td>\n",
       "      <td>0.476418</td>\n",
       "      <td>0</td>\n",
       "      <td>1</td>\n",
       "      <td>0</td>\n",
       "      <td>Yes</td>\n",
       "      <td>Fiber optic</td>\n",
       "      <td>No</td>\n",
       "      <td>No</td>\n",
       "      <td>Yes</td>\n",
       "      <td>No</td>\n",
       "      <td>No</td>\n",
       "      <td>Month-to-month</td>\n",
       "      <td>0</td>\n",
       "      <td>Mailed check</td>\n",
       "      <td>20-40</td>\n",
       "      <td>60-100</td>\n",
       "      <td>0</td>\n",
       "    </tr>\n",
       "    <tr>\n",
       "      <th>4</th>\n",
       "      <td>1.124450</td>\n",
       "      <td>1.667856</td>\n",
       "      <td>0</td>\n",
       "      <td>1</td>\n",
       "      <td>1</td>\n",
       "      <td>Yes</td>\n",
       "      <td>Fiber optic</td>\n",
       "      <td>Yes</td>\n",
       "      <td>Yes</td>\n",
       "      <td>Yes</td>\n",
       "      <td>Yes</td>\n",
       "      <td>Yes</td>\n",
       "      <td>Two year</td>\n",
       "      <td>0</td>\n",
       "      <td>Credit card (automatic)</td>\n",
       "      <td>40-60</td>\n",
       "      <td>100+</td>\n",
       "      <td>0</td>\n",
       "    </tr>\n",
       "  </tbody>\n",
       "</table>\n",
       "</div>"
      ],
      "text/plain": [
       "   ClientPeriod  MonthlySpending  IsSeniorCitizen  HasPartner  HasChild  \\\n",
       "0      0.920767        -1.505447                0           1         1   \n",
       "1      1.613288        -1.294998                0           1         0   \n",
       "2     -1.279005         0.363737                0           0         0   \n",
       "3     -0.016173         0.476418                0           1         0   \n",
       "4      1.124450         1.667856                0           1         1   \n",
       "\n",
       "  HasMultiplePhoneNumbers HasInternetService HasOnlineSecurityService  \\\n",
       "0                      No                 No      No internet service   \n",
       "1                     Yes                 No      No internet service   \n",
       "2                      No        Fiber optic                       No   \n",
       "3                     Yes        Fiber optic                       No   \n",
       "4                     Yes        Fiber optic                      Yes   \n",
       "\n",
       "       HasOnlineBackup  HasDeviceProtection HasTechSupportAccess  \\\n",
       "0  No internet service  No internet service  No internet service   \n",
       "1  No internet service  No internet service  No internet service   \n",
       "2                   No                   No                  Yes   \n",
       "3                   No                  Yes                   No   \n",
       "4                  Yes                  Yes                  Yes   \n",
       "\n",
       "  HasMovieSubscription HasContractPhone  IsBillingPaperless  \\\n",
       "0  No internet service         One year                   0   \n",
       "1  No internet service         Two year                   0   \n",
       "2                   No   Month-to-month                   1   \n",
       "3                   No   Month-to-month                   0   \n",
       "4                  Yes         Two year                   0   \n",
       "\n",
       "             PaymentMethod ClientPeriodInterval MonthlySpendingInterval  \\\n",
       "0             Mailed check                40-60                    0-30   \n",
       "1  Credit card (automatic)                  60+                    0-30   \n",
       "2         Electronic check                  0-2                  60-100   \n",
       "3             Mailed check                20-40                  60-100   \n",
       "4  Credit card (automatic)                40-60                    100+   \n",
       "\n",
       "   HasNotInternet  \n",
       "0               0  \n",
       "1               0  \n",
       "2               0  \n",
       "3               0  \n",
       "4               0  "
      ]
     },
     "execution_count": 61,
     "metadata": {},
     "output_type": "execute_result"
    }
   ],
   "source": [
    "X.head()"
   ]
  },
  {
   "cell_type": "markdown",
   "id": "57868594",
   "metadata": {},
   "source": [
    "К остальным категориальным признакам применим One Hot Encoder"
   ]
  },
  {
   "cell_type": "code",
   "execution_count": 62,
   "id": "ca478347",
   "metadata": {},
   "outputs": [
    {
     "data": {
      "text/plain": [
       "['HasContractPhone',\n",
       " 'HasDeviceProtection',\n",
       " 'HasInternetService',\n",
       " 'HasMovieSubscription',\n",
       " 'HasMultiplePhoneNumbers',\n",
       " 'HasOnlineBackup',\n",
       " 'HasOnlineSecurityService',\n",
       " 'HasTechSupportAccess',\n",
       " 'PaymentMethod',\n",
       " 'ClientPeriodInterval',\n",
       " 'MonthlySpendingInterval']"
      ]
     },
     "execution_count": 62,
     "metadata": {},
     "output_type": "execute_result"
    }
   ],
   "source": [
    "last_cat_col = [col for col in cat_cols if col not in binary_cols]\n",
    "last_cat_col"
   ]
  },
  {
   "cell_type": "code",
   "execution_count": 63,
   "id": "7575085a",
   "metadata": {},
   "outputs": [
    {
     "data": {
      "text/plain": [
       "5282"
      ]
     },
     "execution_count": 63,
     "metadata": {},
     "output_type": "execute_result"
    }
   ],
   "source": [
    "# запомним количество элементов тренировочной выборки\n",
    "ceil_train = X.shape[0]\n",
    "ceil_train"
   ]
  },
  {
   "cell_type": "code",
   "execution_count": 64,
   "id": "57e7d73c",
   "metadata": {},
   "outputs": [
    {
     "data": {
      "text/html": [
       "<div>\n",
       "<style scoped>\n",
       "    .dataframe tbody tr th:only-of-type {\n",
       "        vertical-align: middle;\n",
       "    }\n",
       "\n",
       "    .dataframe tbody tr th {\n",
       "        vertical-align: top;\n",
       "    }\n",
       "\n",
       "    .dataframe thead th {\n",
       "        text-align: right;\n",
       "    }\n",
       "</style>\n",
       "<table border=\"1\" class=\"dataframe\">\n",
       "  <thead>\n",
       "    <tr style=\"text-align: right;\">\n",
       "      <th></th>\n",
       "      <th>ClientPeriod</th>\n",
       "      <th>MonthlySpending</th>\n",
       "      <th>IsSeniorCitizen</th>\n",
       "      <th>HasPartner</th>\n",
       "      <th>HasChild</th>\n",
       "      <th>HasMultiplePhoneNumbers</th>\n",
       "      <th>HasInternetService</th>\n",
       "      <th>HasOnlineSecurityService</th>\n",
       "      <th>HasOnlineBackup</th>\n",
       "      <th>HasDeviceProtection</th>\n",
       "      <th>HasTechSupportAccess</th>\n",
       "      <th>HasMovieSubscription</th>\n",
       "      <th>HasContractPhone</th>\n",
       "      <th>IsBillingPaperless</th>\n",
       "      <th>PaymentMethod</th>\n",
       "      <th>ClientPeriodInterval</th>\n",
       "      <th>MonthlySpendingInterval</th>\n",
       "      <th>HasNotInternet</th>\n",
       "    </tr>\n",
       "  </thead>\n",
       "  <tbody>\n",
       "    <tr>\n",
       "      <th>0</th>\n",
       "      <td>0.920767</td>\n",
       "      <td>-1.505447</td>\n",
       "      <td>0</td>\n",
       "      <td>1</td>\n",
       "      <td>1</td>\n",
       "      <td>No</td>\n",
       "      <td>No</td>\n",
       "      <td>No internet service</td>\n",
       "      <td>No internet service</td>\n",
       "      <td>No internet service</td>\n",
       "      <td>No internet service</td>\n",
       "      <td>No internet service</td>\n",
       "      <td>One year</td>\n",
       "      <td>0</td>\n",
       "      <td>Mailed check</td>\n",
       "      <td>40-60</td>\n",
       "      <td>0-30</td>\n",
       "      <td>0</td>\n",
       "    </tr>\n",
       "    <tr>\n",
       "      <th>1</th>\n",
       "      <td>1.613288</td>\n",
       "      <td>-1.294998</td>\n",
       "      <td>0</td>\n",
       "      <td>1</td>\n",
       "      <td>0</td>\n",
       "      <td>Yes</td>\n",
       "      <td>No</td>\n",
       "      <td>No internet service</td>\n",
       "      <td>No internet service</td>\n",
       "      <td>No internet service</td>\n",
       "      <td>No internet service</td>\n",
       "      <td>No internet service</td>\n",
       "      <td>Two year</td>\n",
       "      <td>0</td>\n",
       "      <td>Credit card (automatic)</td>\n",
       "      <td>60+</td>\n",
       "      <td>0-30</td>\n",
       "      <td>0</td>\n",
       "    </tr>\n",
       "    <tr>\n",
       "      <th>2</th>\n",
       "      <td>-1.279005</td>\n",
       "      <td>0.363737</td>\n",
       "      <td>0</td>\n",
       "      <td>0</td>\n",
       "      <td>0</td>\n",
       "      <td>No</td>\n",
       "      <td>Fiber optic</td>\n",
       "      <td>No</td>\n",
       "      <td>No</td>\n",
       "      <td>No</td>\n",
       "      <td>Yes</td>\n",
       "      <td>No</td>\n",
       "      <td>Month-to-month</td>\n",
       "      <td>1</td>\n",
       "      <td>Electronic check</td>\n",
       "      <td>0-2</td>\n",
       "      <td>60-100</td>\n",
       "      <td>0</td>\n",
       "    </tr>\n",
       "    <tr>\n",
       "      <th>3</th>\n",
       "      <td>-0.016173</td>\n",
       "      <td>0.476418</td>\n",
       "      <td>0</td>\n",
       "      <td>1</td>\n",
       "      <td>0</td>\n",
       "      <td>Yes</td>\n",
       "      <td>Fiber optic</td>\n",
       "      <td>No</td>\n",
       "      <td>No</td>\n",
       "      <td>Yes</td>\n",
       "      <td>No</td>\n",
       "      <td>No</td>\n",
       "      <td>Month-to-month</td>\n",
       "      <td>0</td>\n",
       "      <td>Mailed check</td>\n",
       "      <td>20-40</td>\n",
       "      <td>60-100</td>\n",
       "      <td>0</td>\n",
       "    </tr>\n",
       "    <tr>\n",
       "      <th>4</th>\n",
       "      <td>1.124450</td>\n",
       "      <td>1.667856</td>\n",
       "      <td>0</td>\n",
       "      <td>1</td>\n",
       "      <td>1</td>\n",
       "      <td>Yes</td>\n",
       "      <td>Fiber optic</td>\n",
       "      <td>Yes</td>\n",
       "      <td>Yes</td>\n",
       "      <td>Yes</td>\n",
       "      <td>Yes</td>\n",
       "      <td>Yes</td>\n",
       "      <td>Two year</td>\n",
       "      <td>0</td>\n",
       "      <td>Credit card (automatic)</td>\n",
       "      <td>40-60</td>\n",
       "      <td>100+</td>\n",
       "      <td>0</td>\n",
       "    </tr>\n",
       "  </tbody>\n",
       "</table>\n",
       "</div>"
      ],
      "text/plain": [
       "   ClientPeriod  MonthlySpending  IsSeniorCitizen  HasPartner  HasChild  \\\n",
       "0      0.920767        -1.505447                0           1         1   \n",
       "1      1.613288        -1.294998                0           1         0   \n",
       "2     -1.279005         0.363737                0           0         0   \n",
       "3     -0.016173         0.476418                0           1         0   \n",
       "4      1.124450         1.667856                0           1         1   \n",
       "\n",
       "  HasMultiplePhoneNumbers HasInternetService HasOnlineSecurityService  \\\n",
       "0                      No                 No      No internet service   \n",
       "1                     Yes                 No      No internet service   \n",
       "2                      No        Fiber optic                       No   \n",
       "3                     Yes        Fiber optic                       No   \n",
       "4                     Yes        Fiber optic                      Yes   \n",
       "\n",
       "       HasOnlineBackup  HasDeviceProtection HasTechSupportAccess  \\\n",
       "0  No internet service  No internet service  No internet service   \n",
       "1  No internet service  No internet service  No internet service   \n",
       "2                   No                   No                  Yes   \n",
       "3                   No                  Yes                   No   \n",
       "4                  Yes                  Yes                  Yes   \n",
       "\n",
       "  HasMovieSubscription HasContractPhone  IsBillingPaperless  \\\n",
       "0  No internet service         One year                   0   \n",
       "1  No internet service         Two year                   0   \n",
       "2                   No   Month-to-month                   1   \n",
       "3                   No   Month-to-month                   0   \n",
       "4                  Yes         Two year                   0   \n",
       "\n",
       "             PaymentMethod ClientPeriodInterval MonthlySpendingInterval  \\\n",
       "0             Mailed check                40-60                    0-30   \n",
       "1  Credit card (automatic)                  60+                    0-30   \n",
       "2         Electronic check                  0-2                  60-100   \n",
       "3             Mailed check                20-40                  60-100   \n",
       "4  Credit card (automatic)                40-60                    100+   \n",
       "\n",
       "   HasNotInternet  \n",
       "0               0  \n",
       "1               0  \n",
       "2               0  \n",
       "3               0  \n",
       "4               0  "
      ]
     },
     "execution_count": 64,
     "metadata": {},
     "output_type": "execute_result"
    }
   ],
   "source": [
    "all_ds = X.append(X_test, ignore_index=True)\n",
    "all_ds.head()"
   ]
  },
  {
   "cell_type": "code",
   "execution_count": 65,
   "id": "e78898ac",
   "metadata": {},
   "outputs": [
    {
     "data": {
      "text/html": [
       "<div>\n",
       "<style scoped>\n",
       "    .dataframe tbody tr th:only-of-type {\n",
       "        vertical-align: middle;\n",
       "    }\n",
       "\n",
       "    .dataframe tbody tr th {\n",
       "        vertical-align: top;\n",
       "    }\n",
       "\n",
       "    .dataframe thead th {\n",
       "        text-align: right;\n",
       "    }\n",
       "</style>\n",
       "<table border=\"1\" class=\"dataframe\">\n",
       "  <thead>\n",
       "    <tr style=\"text-align: right;\">\n",
       "      <th></th>\n",
       "      <th>ClientPeriod</th>\n",
       "      <th>MonthlySpending</th>\n",
       "      <th>IsSeniorCitizen</th>\n",
       "      <th>HasPartner</th>\n",
       "      <th>HasChild</th>\n",
       "      <th>IsBillingPaperless</th>\n",
       "      <th>HasNotInternet</th>\n",
       "      <th>HasContractPhone_Month-to-month</th>\n",
       "      <th>HasContractPhone_One year</th>\n",
       "      <th>HasContractPhone_Two year</th>\n",
       "      <th>...</th>\n",
       "      <th>PaymentMethod_Mailed check</th>\n",
       "      <th>ClientPeriodInterval_0-2</th>\n",
       "      <th>ClientPeriodInterval_2-20</th>\n",
       "      <th>ClientPeriodInterval_20-40</th>\n",
       "      <th>ClientPeriodInterval_40-60</th>\n",
       "      <th>ClientPeriodInterval_60+</th>\n",
       "      <th>MonthlySpendingInterval_0-30</th>\n",
       "      <th>MonthlySpendingInterval_100+</th>\n",
       "      <th>MonthlySpendingInterval_30-60</th>\n",
       "      <th>MonthlySpendingInterval_60-100</th>\n",
       "    </tr>\n",
       "  </thead>\n",
       "  <tbody>\n",
       "    <tr>\n",
       "      <th>0</th>\n",
       "      <td>0.920767</td>\n",
       "      <td>-1.505447</td>\n",
       "      <td>0</td>\n",
       "      <td>1</td>\n",
       "      <td>1</td>\n",
       "      <td>0</td>\n",
       "      <td>0</td>\n",
       "      <td>0</td>\n",
       "      <td>1</td>\n",
       "      <td>0</td>\n",
       "      <td>...</td>\n",
       "      <td>1</td>\n",
       "      <td>0</td>\n",
       "      <td>0</td>\n",
       "      <td>0</td>\n",
       "      <td>1</td>\n",
       "      <td>0</td>\n",
       "      <td>1</td>\n",
       "      <td>0</td>\n",
       "      <td>0</td>\n",
       "      <td>0</td>\n",
       "    </tr>\n",
       "    <tr>\n",
       "      <th>1</th>\n",
       "      <td>1.613288</td>\n",
       "      <td>-1.294998</td>\n",
       "      <td>0</td>\n",
       "      <td>1</td>\n",
       "      <td>0</td>\n",
       "      <td>0</td>\n",
       "      <td>0</td>\n",
       "      <td>0</td>\n",
       "      <td>0</td>\n",
       "      <td>1</td>\n",
       "      <td>...</td>\n",
       "      <td>0</td>\n",
       "      <td>0</td>\n",
       "      <td>0</td>\n",
       "      <td>0</td>\n",
       "      <td>0</td>\n",
       "      <td>1</td>\n",
       "      <td>1</td>\n",
       "      <td>0</td>\n",
       "      <td>0</td>\n",
       "      <td>0</td>\n",
       "    </tr>\n",
       "    <tr>\n",
       "      <th>2</th>\n",
       "      <td>-1.279005</td>\n",
       "      <td>0.363737</td>\n",
       "      <td>0</td>\n",
       "      <td>0</td>\n",
       "      <td>0</td>\n",
       "      <td>1</td>\n",
       "      <td>0</td>\n",
       "      <td>1</td>\n",
       "      <td>0</td>\n",
       "      <td>0</td>\n",
       "      <td>...</td>\n",
       "      <td>0</td>\n",
       "      <td>1</td>\n",
       "      <td>0</td>\n",
       "      <td>0</td>\n",
       "      <td>0</td>\n",
       "      <td>0</td>\n",
       "      <td>0</td>\n",
       "      <td>0</td>\n",
       "      <td>0</td>\n",
       "      <td>1</td>\n",
       "    </tr>\n",
       "    <tr>\n",
       "      <th>3</th>\n",
       "      <td>-0.016173</td>\n",
       "      <td>0.476418</td>\n",
       "      <td>0</td>\n",
       "      <td>1</td>\n",
       "      <td>0</td>\n",
       "      <td>0</td>\n",
       "      <td>0</td>\n",
       "      <td>1</td>\n",
       "      <td>0</td>\n",
       "      <td>0</td>\n",
       "      <td>...</td>\n",
       "      <td>1</td>\n",
       "      <td>0</td>\n",
       "      <td>0</td>\n",
       "      <td>1</td>\n",
       "      <td>0</td>\n",
       "      <td>0</td>\n",
       "      <td>0</td>\n",
       "      <td>0</td>\n",
       "      <td>0</td>\n",
       "      <td>1</td>\n",
       "    </tr>\n",
       "    <tr>\n",
       "      <th>4</th>\n",
       "      <td>1.124450</td>\n",
       "      <td>1.667856</td>\n",
       "      <td>0</td>\n",
       "      <td>1</td>\n",
       "      <td>1</td>\n",
       "      <td>0</td>\n",
       "      <td>0</td>\n",
       "      <td>0</td>\n",
       "      <td>0</td>\n",
       "      <td>1</td>\n",
       "      <td>...</td>\n",
       "      <td>0</td>\n",
       "      <td>0</td>\n",
       "      <td>0</td>\n",
       "      <td>0</td>\n",
       "      <td>1</td>\n",
       "      <td>0</td>\n",
       "      <td>0</td>\n",
       "      <td>1</td>\n",
       "      <td>0</td>\n",
       "      <td>0</td>\n",
       "    </tr>\n",
       "  </tbody>\n",
       "</table>\n",
       "<p>5 rows × 44 columns</p>\n",
       "</div>"
      ],
      "text/plain": [
       "   ClientPeriod  MonthlySpending  IsSeniorCitizen  HasPartner  HasChild  \\\n",
       "0      0.920767        -1.505447                0           1         1   \n",
       "1      1.613288        -1.294998                0           1         0   \n",
       "2     -1.279005         0.363737                0           0         0   \n",
       "3     -0.016173         0.476418                0           1         0   \n",
       "4      1.124450         1.667856                0           1         1   \n",
       "\n",
       "   IsBillingPaperless  HasNotInternet  HasContractPhone_Month-to-month  \\\n",
       "0                   0               0                                0   \n",
       "1                   0               0                                0   \n",
       "2                   1               0                                1   \n",
       "3                   0               0                                1   \n",
       "4                   0               0                                0   \n",
       "\n",
       "   HasContractPhone_One year  HasContractPhone_Two year  ...  \\\n",
       "0                          1                          0  ...   \n",
       "1                          0                          1  ...   \n",
       "2                          0                          0  ...   \n",
       "3                          0                          0  ...   \n",
       "4                          0                          1  ...   \n",
       "\n",
       "   PaymentMethod_Mailed check  ClientPeriodInterval_0-2  \\\n",
       "0                           1                         0   \n",
       "1                           0                         0   \n",
       "2                           0                         1   \n",
       "3                           1                         0   \n",
       "4                           0                         0   \n",
       "\n",
       "   ClientPeriodInterval_2-20  ClientPeriodInterval_20-40  \\\n",
       "0                          0                           0   \n",
       "1                          0                           0   \n",
       "2                          0                           0   \n",
       "3                          0                           1   \n",
       "4                          0                           0   \n",
       "\n",
       "   ClientPeriodInterval_40-60  ClientPeriodInterval_60+  \\\n",
       "0                           1                         0   \n",
       "1                           0                         1   \n",
       "2                           0                         0   \n",
       "3                           0                         0   \n",
       "4                           1                         0   \n",
       "\n",
       "   MonthlySpendingInterval_0-30  MonthlySpendingInterval_100+  \\\n",
       "0                             1                             0   \n",
       "1                             1                             0   \n",
       "2                             0                             0   \n",
       "3                             0                             0   \n",
       "4                             0                             1   \n",
       "\n",
       "   MonthlySpendingInterval_30-60  MonthlySpendingInterval_60-100  \n",
       "0                              0                               0  \n",
       "1                              0                               0  \n",
       "2                              0                               1  \n",
       "3                              0                               1  \n",
       "4                              0                               0  \n",
       "\n",
       "[5 rows x 44 columns]"
      ]
     },
     "execution_count": 65,
     "metadata": {},
     "output_type": "execute_result"
    }
   ],
   "source": [
    "all_ds = pd.get_dummies(all_ds, columns=[col for col in last_cat_col])\n",
    "all_ds.head()"
   ]
  },
  {
   "cell_type": "markdown",
   "id": "a2db8060",
   "metadata": {},
   "source": [
    "Т.к. у нас были идеально повторяющиеся значения  'No internet service' во многих признаках, при кодировании должны были появиться идеально коррелирующие столбцы. Удалим их!"
   ]
  },
  {
   "cell_type": "code",
   "execution_count": 66,
   "id": "289f4c60",
   "metadata": {},
   "outputs": [
    {
     "data": {
      "text/html": [
       "<div>\n",
       "<style scoped>\n",
       "    .dataframe tbody tr th:only-of-type {\n",
       "        vertical-align: middle;\n",
       "    }\n",
       "\n",
       "    .dataframe tbody tr th {\n",
       "        vertical-align: top;\n",
       "    }\n",
       "\n",
       "    .dataframe thead th {\n",
       "        text-align: right;\n",
       "    }\n",
       "</style>\n",
       "<table border=\"1\" class=\"dataframe\">\n",
       "  <thead>\n",
       "    <tr style=\"text-align: right;\">\n",
       "      <th></th>\n",
       "      <th>ClientPeriod</th>\n",
       "      <th>MonthlySpending</th>\n",
       "      <th>IsSeniorCitizen</th>\n",
       "      <th>HasPartner</th>\n",
       "      <th>HasChild</th>\n",
       "      <th>IsBillingPaperless</th>\n",
       "      <th>HasContractPhone_Month-to-month</th>\n",
       "      <th>HasContractPhone_One year</th>\n",
       "      <th>HasContractPhone_Two year</th>\n",
       "      <th>HasDeviceProtection_No</th>\n",
       "      <th>...</th>\n",
       "      <th>PaymentMethod_Mailed check</th>\n",
       "      <th>ClientPeriodInterval_0-2</th>\n",
       "      <th>ClientPeriodInterval_2-20</th>\n",
       "      <th>ClientPeriodInterval_20-40</th>\n",
       "      <th>ClientPeriodInterval_40-60</th>\n",
       "      <th>ClientPeriodInterval_60+</th>\n",
       "      <th>MonthlySpendingInterval_0-30</th>\n",
       "      <th>MonthlySpendingInterval_100+</th>\n",
       "      <th>MonthlySpendingInterval_30-60</th>\n",
       "      <th>MonthlySpendingInterval_60-100</th>\n",
       "    </tr>\n",
       "  </thead>\n",
       "  <tbody>\n",
       "    <tr>\n",
       "      <th>0</th>\n",
       "      <td>0.920767</td>\n",
       "      <td>-1.505447</td>\n",
       "      <td>0.0</td>\n",
       "      <td>1.0</td>\n",
       "      <td>1.0</td>\n",
       "      <td>0.0</td>\n",
       "      <td>0.0</td>\n",
       "      <td>1.0</td>\n",
       "      <td>0.0</td>\n",
       "      <td>0.0</td>\n",
       "      <td>...</td>\n",
       "      <td>1.0</td>\n",
       "      <td>0.0</td>\n",
       "      <td>0.0</td>\n",
       "      <td>0.0</td>\n",
       "      <td>1.0</td>\n",
       "      <td>0.0</td>\n",
       "      <td>1.0</td>\n",
       "      <td>0.0</td>\n",
       "      <td>0.0</td>\n",
       "      <td>0.0</td>\n",
       "    </tr>\n",
       "    <tr>\n",
       "      <th>1</th>\n",
       "      <td>1.613288</td>\n",
       "      <td>-1.294998</td>\n",
       "      <td>0.0</td>\n",
       "      <td>1.0</td>\n",
       "      <td>0.0</td>\n",
       "      <td>0.0</td>\n",
       "      <td>0.0</td>\n",
       "      <td>0.0</td>\n",
       "      <td>1.0</td>\n",
       "      <td>0.0</td>\n",
       "      <td>...</td>\n",
       "      <td>0.0</td>\n",
       "      <td>0.0</td>\n",
       "      <td>0.0</td>\n",
       "      <td>0.0</td>\n",
       "      <td>0.0</td>\n",
       "      <td>1.0</td>\n",
       "      <td>1.0</td>\n",
       "      <td>0.0</td>\n",
       "      <td>0.0</td>\n",
       "      <td>0.0</td>\n",
       "    </tr>\n",
       "    <tr>\n",
       "      <th>2</th>\n",
       "      <td>-1.279005</td>\n",
       "      <td>0.363737</td>\n",
       "      <td>0.0</td>\n",
       "      <td>0.0</td>\n",
       "      <td>0.0</td>\n",
       "      <td>1.0</td>\n",
       "      <td>1.0</td>\n",
       "      <td>0.0</td>\n",
       "      <td>0.0</td>\n",
       "      <td>1.0</td>\n",
       "      <td>...</td>\n",
       "      <td>0.0</td>\n",
       "      <td>1.0</td>\n",
       "      <td>0.0</td>\n",
       "      <td>0.0</td>\n",
       "      <td>0.0</td>\n",
       "      <td>0.0</td>\n",
       "      <td>0.0</td>\n",
       "      <td>0.0</td>\n",
       "      <td>0.0</td>\n",
       "      <td>1.0</td>\n",
       "    </tr>\n",
       "    <tr>\n",
       "      <th>3</th>\n",
       "      <td>-0.016173</td>\n",
       "      <td>0.476418</td>\n",
       "      <td>0.0</td>\n",
       "      <td>1.0</td>\n",
       "      <td>0.0</td>\n",
       "      <td>0.0</td>\n",
       "      <td>1.0</td>\n",
       "      <td>0.0</td>\n",
       "      <td>0.0</td>\n",
       "      <td>0.0</td>\n",
       "      <td>...</td>\n",
       "      <td>1.0</td>\n",
       "      <td>0.0</td>\n",
       "      <td>0.0</td>\n",
       "      <td>1.0</td>\n",
       "      <td>0.0</td>\n",
       "      <td>0.0</td>\n",
       "      <td>0.0</td>\n",
       "      <td>0.0</td>\n",
       "      <td>0.0</td>\n",
       "      <td>1.0</td>\n",
       "    </tr>\n",
       "    <tr>\n",
       "      <th>4</th>\n",
       "      <td>1.124450</td>\n",
       "      <td>1.667856</td>\n",
       "      <td>0.0</td>\n",
       "      <td>1.0</td>\n",
       "      <td>1.0</td>\n",
       "      <td>0.0</td>\n",
       "      <td>0.0</td>\n",
       "      <td>0.0</td>\n",
       "      <td>1.0</td>\n",
       "      <td>0.0</td>\n",
       "      <td>...</td>\n",
       "      <td>0.0</td>\n",
       "      <td>0.0</td>\n",
       "      <td>0.0</td>\n",
       "      <td>0.0</td>\n",
       "      <td>1.0</td>\n",
       "      <td>0.0</td>\n",
       "      <td>0.0</td>\n",
       "      <td>1.0</td>\n",
       "      <td>0.0</td>\n",
       "      <td>0.0</td>\n",
       "    </tr>\n",
       "  </tbody>\n",
       "</table>\n",
       "<p>5 rows × 38 columns</p>\n",
       "</div>"
      ],
      "text/plain": [
       "   ClientPeriod  MonthlySpending  IsSeniorCitizen  HasPartner  HasChild  \\\n",
       "0      0.920767        -1.505447              0.0         1.0       1.0   \n",
       "1      1.613288        -1.294998              0.0         1.0       0.0   \n",
       "2     -1.279005         0.363737              0.0         0.0       0.0   \n",
       "3     -0.016173         0.476418              0.0         1.0       0.0   \n",
       "4      1.124450         1.667856              0.0         1.0       1.0   \n",
       "\n",
       "   IsBillingPaperless  HasContractPhone_Month-to-month  \\\n",
       "0                 0.0                              0.0   \n",
       "1                 0.0                              0.0   \n",
       "2                 1.0                              1.0   \n",
       "3                 0.0                              1.0   \n",
       "4                 0.0                              0.0   \n",
       "\n",
       "   HasContractPhone_One year  HasContractPhone_Two year  \\\n",
       "0                        1.0                        0.0   \n",
       "1                        0.0                        1.0   \n",
       "2                        0.0                        0.0   \n",
       "3                        0.0                        0.0   \n",
       "4                        0.0                        1.0   \n",
       "\n",
       "   HasDeviceProtection_No  ...  PaymentMethod_Mailed check  \\\n",
       "0                     0.0  ...                         1.0   \n",
       "1                     0.0  ...                         0.0   \n",
       "2                     1.0  ...                         0.0   \n",
       "3                     0.0  ...                         1.0   \n",
       "4                     0.0  ...                         0.0   \n",
       "\n",
       "   ClientPeriodInterval_0-2  ClientPeriodInterval_2-20  \\\n",
       "0                       0.0                        0.0   \n",
       "1                       0.0                        0.0   \n",
       "2                       1.0                        0.0   \n",
       "3                       0.0                        0.0   \n",
       "4                       0.0                        0.0   \n",
       "\n",
       "   ClientPeriodInterval_20-40  ClientPeriodInterval_40-60  \\\n",
       "0                         0.0                         1.0   \n",
       "1                         0.0                         0.0   \n",
       "2                         0.0                         0.0   \n",
       "3                         1.0                         0.0   \n",
       "4                         0.0                         1.0   \n",
       "\n",
       "   ClientPeriodInterval_60+  MonthlySpendingInterval_0-30  \\\n",
       "0                       0.0                           1.0   \n",
       "1                       1.0                           1.0   \n",
       "2                       0.0                           0.0   \n",
       "3                       0.0                           0.0   \n",
       "4                       0.0                           0.0   \n",
       "\n",
       "   MonthlySpendingInterval_100+  MonthlySpendingInterval_30-60  \\\n",
       "0                           0.0                            0.0   \n",
       "1                           0.0                            0.0   \n",
       "2                           0.0                            0.0   \n",
       "3                           0.0                            0.0   \n",
       "4                           1.0                            0.0   \n",
       "\n",
       "   MonthlySpendingInterval_60-100  \n",
       "0                             0.0  \n",
       "1                             0.0  \n",
       "2                             1.0  \n",
       "3                             1.0  \n",
       "4                             0.0  \n",
       "\n",
       "[5 rows x 38 columns]"
      ]
     },
     "execution_count": 66,
     "metadata": {},
     "output_type": "execute_result"
    }
   ],
   "source": [
    "all_ds = all_ds.T.drop_duplicates().T\n",
    "all_ds.head()"
   ]
  },
  {
   "cell_type": "markdown",
   "id": "dc391996",
   "metadata": {},
   "source": [
    "Таким образом, мы избавились от одинаковых значений, остался только один признак, отвечающий за то, есть интерент или нет, это 'HasDeviceProtection_No internet service', давайте его переименуем!"
   ]
  },
  {
   "cell_type": "code",
   "execution_count": 67,
   "id": "1e572eee",
   "metadata": {},
   "outputs": [],
   "source": [
    "all_ds.rename(columns = {'HasDeviceProtection_No internet service' : 'NoInternet'}, inplace=True)\n"
   ]
  },
  {
   "cell_type": "markdown",
   "id": "ac980dd5",
   "metadata": {},
   "source": [
    "Вернемся обратно к тренировочной и тестовой выборкам"
   ]
  },
  {
   "cell_type": "code",
   "execution_count": 68,
   "id": "fdab4cde",
   "metadata": {},
   "outputs": [],
   "source": [
    "X = all_ds[:ceil_train]\n",
    "X_test = all_ds[ceil_train:]"
   ]
  },
  {
   "cell_type": "markdown",
   "id": "ade51ec5",
   "metadata": {},
   "source": [
    "Перед построением моделей проверим, что тестовая и тренировочная выборки состоят из одинаковых признаков:"
   ]
  },
  {
   "cell_type": "code",
   "execution_count": 69,
   "id": "710bd9be",
   "metadata": {},
   "outputs": [
    {
     "name": "stdout",
     "output_type": "stream",
     "text": [
      "Признаки, которые есть в тренировочной, но которых нет в тестовой:  []\n",
      "Признаки, которые есть в тестовой, но которых нет в тренировочной:  []\n"
     ]
    }
   ],
   "source": [
    "col_in_train_notin_test = [col for col in X.columns if col not in X_test.columns]\n",
    "col_in_test_notin_train = [col for col in X_test.columns if col not in X.columns]\n",
    "print('Признаки, которые есть в тренировочной, но которых нет в тестовой: ', col_in_train_notin_test)\n",
    "print('Признаки, которые есть в тестовой, но которых нет в тренировочной: ', col_in_test_notin_train)"
   ]
  },
  {
   "cell_type": "markdown",
   "id": "f147b6aa",
   "metadata": {},
   "source": [
    "# Моделирование"
   ]
  },
  {
   "cell_type": "markdown",
   "id": "5a03ee4e",
   "metadata": {},
   "source": [
    "## Сравнение простых моделей с параметрами по умолчанию для выбора наилучшей модели"
   ]
  },
  {
   "cell_type": "markdown",
   "id": "a09f4f51",
   "metadata": {},
   "source": [
    "Будем сравнивать предсказания следующих методов классификации:\n",
    "+ Support Vector Machines\n",
    "+ LGBM\n",
    "+ Logistic Regression\n"
   ]
  },
  {
   "cell_type": "code",
   "execution_count": 70,
   "id": "c9a364e4",
   "metadata": {},
   "outputs": [],
   "source": [
    "X_train, X_valid, y_train, y_valid = train_test_split(X,\n",
    "                                                    y,\n",
    "                                                    test_size=SPLIT_TEST_SIZE,\n",
    "                                                    random_state=RANDOM_STATE)"
   ]
  },
  {
   "cell_type": "code",
   "execution_count": 71,
   "id": "a7fa9446",
   "metadata": {},
   "outputs": [
    {
     "data": {
      "text/html": [
       "<div>\n",
       "<style scoped>\n",
       "    .dataframe tbody tr th:only-of-type {\n",
       "        vertical-align: middle;\n",
       "    }\n",
       "\n",
       "    .dataframe tbody tr th {\n",
       "        vertical-align: top;\n",
       "    }\n",
       "\n",
       "    .dataframe thead th {\n",
       "        text-align: right;\n",
       "    }\n",
       "</style>\n",
       "<table border=\"1\" class=\"dataframe\">\n",
       "  <thead>\n",
       "    <tr style=\"text-align: right;\">\n",
       "      <th></th>\n",
       "      <th>ClientPeriod</th>\n",
       "      <th>MonthlySpending</th>\n",
       "      <th>IsSeniorCitizen</th>\n",
       "      <th>HasPartner</th>\n",
       "      <th>HasChild</th>\n",
       "      <th>IsBillingPaperless</th>\n",
       "      <th>HasContractPhone_Month-to-month</th>\n",
       "      <th>HasContractPhone_One year</th>\n",
       "      <th>HasContractPhone_Two year</th>\n",
       "      <th>HasDeviceProtection_No</th>\n",
       "      <th>...</th>\n",
       "      <th>PaymentMethod_Mailed check</th>\n",
       "      <th>ClientPeriodInterval_0-2</th>\n",
       "      <th>ClientPeriodInterval_2-20</th>\n",
       "      <th>ClientPeriodInterval_20-40</th>\n",
       "      <th>ClientPeriodInterval_40-60</th>\n",
       "      <th>ClientPeriodInterval_60+</th>\n",
       "      <th>MonthlySpendingInterval_0-30</th>\n",
       "      <th>MonthlySpendingInterval_100+</th>\n",
       "      <th>MonthlySpendingInterval_30-60</th>\n",
       "      <th>MonthlySpendingInterval_60-100</th>\n",
       "    </tr>\n",
       "  </thead>\n",
       "  <tbody>\n",
       "    <tr>\n",
       "      <th>2311</th>\n",
       "      <td>0.024564</td>\n",
       "      <td>0.942057</td>\n",
       "      <td>0.0</td>\n",
       "      <td>1.0</td>\n",
       "      <td>0.0</td>\n",
       "      <td>1.0</td>\n",
       "      <td>1.0</td>\n",
       "      <td>0.0</td>\n",
       "      <td>0.0</td>\n",
       "      <td>0.0</td>\n",
       "      <td>...</td>\n",
       "      <td>0.0</td>\n",
       "      <td>0.0</td>\n",
       "      <td>0.0</td>\n",
       "      <td>1.0</td>\n",
       "      <td>0.0</td>\n",
       "      <td>0.0</td>\n",
       "      <td>0.0</td>\n",
       "      <td>0.0</td>\n",
       "      <td>0.0</td>\n",
       "      <td>1.0</td>\n",
       "    </tr>\n",
       "    <tr>\n",
       "      <th>1664</th>\n",
       "      <td>-0.708693</td>\n",
       "      <td>0.600699</td>\n",
       "      <td>0.0</td>\n",
       "      <td>1.0</td>\n",
       "      <td>0.0</td>\n",
       "      <td>1.0</td>\n",
       "      <td>1.0</td>\n",
       "      <td>0.0</td>\n",
       "      <td>0.0</td>\n",
       "      <td>0.0</td>\n",
       "      <td>...</td>\n",
       "      <td>0.0</td>\n",
       "      <td>0.0</td>\n",
       "      <td>1.0</td>\n",
       "      <td>0.0</td>\n",
       "      <td>0.0</td>\n",
       "      <td>0.0</td>\n",
       "      <td>0.0</td>\n",
       "      <td>0.0</td>\n",
       "      <td>0.0</td>\n",
       "      <td>1.0</td>\n",
       "    </tr>\n",
       "    <tr>\n",
       "      <th>4578</th>\n",
       "      <td>-1.279005</td>\n",
       "      <td>-0.476402</td>\n",
       "      <td>0.0</td>\n",
       "      <td>0.0</td>\n",
       "      <td>0.0</td>\n",
       "      <td>0.0</td>\n",
       "      <td>1.0</td>\n",
       "      <td>0.0</td>\n",
       "      <td>0.0</td>\n",
       "      <td>1.0</td>\n",
       "      <td>...</td>\n",
       "      <td>1.0</td>\n",
       "      <td>1.0</td>\n",
       "      <td>0.0</td>\n",
       "      <td>0.0</td>\n",
       "      <td>0.0</td>\n",
       "      <td>0.0</td>\n",
       "      <td>0.0</td>\n",
       "      <td>0.0</td>\n",
       "      <td>1.0</td>\n",
       "      <td>0.0</td>\n",
       "    </tr>\n",
       "    <tr>\n",
       "      <th>595</th>\n",
       "      <td>1.368869</td>\n",
       "      <td>1.303299</td>\n",
       "      <td>0.0</td>\n",
       "      <td>0.0</td>\n",
       "      <td>0.0</td>\n",
       "      <td>1.0</td>\n",
       "      <td>0.0</td>\n",
       "      <td>1.0</td>\n",
       "      <td>0.0</td>\n",
       "      <td>1.0</td>\n",
       "      <td>...</td>\n",
       "      <td>0.0</td>\n",
       "      <td>0.0</td>\n",
       "      <td>0.0</td>\n",
       "      <td>0.0</td>\n",
       "      <td>0.0</td>\n",
       "      <td>1.0</td>\n",
       "      <td>0.0</td>\n",
       "      <td>1.0</td>\n",
       "      <td>0.0</td>\n",
       "      <td>0.0</td>\n",
       "    </tr>\n",
       "    <tr>\n",
       "      <th>869</th>\n",
       "      <td>-1.238268</td>\n",
       "      <td>0.332252</td>\n",
       "      <td>0.0</td>\n",
       "      <td>0.0</td>\n",
       "      <td>0.0</td>\n",
       "      <td>0.0</td>\n",
       "      <td>1.0</td>\n",
       "      <td>0.0</td>\n",
       "      <td>0.0</td>\n",
       "      <td>1.0</td>\n",
       "      <td>...</td>\n",
       "      <td>0.0</td>\n",
       "      <td>1.0</td>\n",
       "      <td>0.0</td>\n",
       "      <td>0.0</td>\n",
       "      <td>0.0</td>\n",
       "      <td>0.0</td>\n",
       "      <td>0.0</td>\n",
       "      <td>0.0</td>\n",
       "      <td>0.0</td>\n",
       "      <td>1.0</td>\n",
       "    </tr>\n",
       "  </tbody>\n",
       "</table>\n",
       "<p>5 rows × 38 columns</p>\n",
       "</div>"
      ],
      "text/plain": [
       "      ClientPeriod  MonthlySpending  IsSeniorCitizen  HasPartner  HasChild  \\\n",
       "2311      0.024564         0.942057              0.0         1.0       0.0   \n",
       "1664     -0.708693         0.600699              0.0         1.0       0.0   \n",
       "4578     -1.279005        -0.476402              0.0         0.0       0.0   \n",
       "595       1.368869         1.303299              0.0         0.0       0.0   \n",
       "869      -1.238268         0.332252              0.0         0.0       0.0   \n",
       "\n",
       "      IsBillingPaperless  HasContractPhone_Month-to-month  \\\n",
       "2311                 1.0                              1.0   \n",
       "1664                 1.0                              1.0   \n",
       "4578                 0.0                              1.0   \n",
       "595                  1.0                              0.0   \n",
       "869                  0.0                              1.0   \n",
       "\n",
       "      HasContractPhone_One year  HasContractPhone_Two year  \\\n",
       "2311                        0.0                        0.0   \n",
       "1664                        0.0                        0.0   \n",
       "4578                        0.0                        0.0   \n",
       "595                         1.0                        0.0   \n",
       "869                         0.0                        0.0   \n",
       "\n",
       "      HasDeviceProtection_No  ...  PaymentMethod_Mailed check  \\\n",
       "2311                     0.0  ...                         0.0   \n",
       "1664                     0.0  ...                         0.0   \n",
       "4578                     1.0  ...                         1.0   \n",
       "595                      1.0  ...                         0.0   \n",
       "869                      1.0  ...                         0.0   \n",
       "\n",
       "      ClientPeriodInterval_0-2  ClientPeriodInterval_2-20  \\\n",
       "2311                       0.0                        0.0   \n",
       "1664                       0.0                        1.0   \n",
       "4578                       1.0                        0.0   \n",
       "595                        0.0                        0.0   \n",
       "869                        1.0                        0.0   \n",
       "\n",
       "      ClientPeriodInterval_20-40  ClientPeriodInterval_40-60  \\\n",
       "2311                         1.0                         0.0   \n",
       "1664                         0.0                         0.0   \n",
       "4578                         0.0                         0.0   \n",
       "595                          0.0                         0.0   \n",
       "869                          0.0                         0.0   \n",
       "\n",
       "      ClientPeriodInterval_60+  MonthlySpendingInterval_0-30  \\\n",
       "2311                       0.0                           0.0   \n",
       "1664                       0.0                           0.0   \n",
       "4578                       0.0                           0.0   \n",
       "595                        1.0                           0.0   \n",
       "869                        0.0                           0.0   \n",
       "\n",
       "      MonthlySpendingInterval_100+  MonthlySpendingInterval_30-60  \\\n",
       "2311                           0.0                            0.0   \n",
       "1664                           0.0                            0.0   \n",
       "4578                           0.0                            1.0   \n",
       "595                            1.0                            0.0   \n",
       "869                            0.0                            0.0   \n",
       "\n",
       "      MonthlySpendingInterval_60-100  \n",
       "2311                             1.0  \n",
       "1664                             1.0  \n",
       "4578                             0.0  \n",
       "595                              0.0  \n",
       "869                              1.0  \n",
       "\n",
       "[5 rows x 38 columns]"
      ]
     },
     "execution_count": 71,
     "metadata": {},
     "output_type": "execute_result"
    }
   ],
   "source": [
    "X_train.head()\n"
   ]
  },
  {
   "cell_type": "code",
   "execution_count": 72,
   "id": "0c524a77",
   "metadata": {},
   "outputs": [
    {
     "name": "stdout",
     "output_type": "stream",
     "text": [
      "model: SVC(probability=True, random_state=100)\n",
      "roc auc_score: 0.781134166380068\n",
      "______________________________ \n",
      "\n",
      "model: LGBMClassifier(random_state=100)\n",
      "roc auc_score: 0.8312077266995299\n",
      "______________________________ \n",
      "\n",
      "model: LogisticRegression(max_iter=3000, random_state=100)\n",
      "roc auc_score: 0.8527933814819061\n",
      "______________________________ \n",
      "\n"
     ]
    }
   ],
   "source": [
    "models = [SVC(random_state=RANDOM_STATE, probability=True),  LGBMClassifier(random_state=RANDOM_STATE), \\\n",
    "          LogisticRegression(random_state=RANDOM_STATE, max_iter=3000)]\n",
    "for m in models:\n",
    "    m.fit(X_train, y_train)\n",
    "    y_pred = m.predict_proba(X_valid)[:,1]\n",
    "    \n",
    "    print(f'model: {str(m)}')\n",
    "    print(f'roc auc_score: {str(roc_auc_score(y_valid, y_pred))}')\n",
    "    print('_'*30, '\\n')"
   ]
  },
  {
   "cell_type": "markdown",
   "id": "3b63701b",
   "metadata": {},
   "source": [
    "Выберем две модели LGBM и LogisticRegression, на основе их будем предсказывать, но сначала для них подберем наилучшие параметры"
   ]
  },
  {
   "cell_type": "markdown",
   "id": "b5bdf937",
   "metadata": {},
   "source": [
    "## Подбор параметров"
   ]
  },
  {
   "cell_type": "code",
   "execution_count": 73,
   "id": "8ce31038",
   "metadata": {},
   "outputs": [],
   "source": [
    "classifiers = {\n",
    " #   \"XGBoost\" : XGBClassifier(random_state=RANDOM_STATE, use_label_encoder=False, eval_metric='logloss'), # XGBoost takes too long\n",
    "    'LGBM' : LGBMClassifier(random_state=RANDOM_STATE),\n",
    "    'Logistic' : LogisticRegression(random_state=RANDOM_STATE, max_iter=3000)\n",
    "    \n",
    "}\n",
    "\n",
    "boosted_grid = {\n",
    "    'n_estimators': [10, 30],\n",
    "    'max_depth': [2, 4, 6],\n",
    "    'learning_rate': [0.01, 0.1, 0.5]\n",
    "}\n",
    "\n",
    "log_grid = {\n",
    "    'C' : [100, 10, 1, 0.1, 0.01, 0.001]\n",
    "}\n",
    "\n",
    "grid = {\n",
    "    'LGBM' : boosted_grid,\n",
    "    'Logistic' : log_grid\n",
    "    \n",
    "}"
   ]
  },
  {
   "cell_type": "code",
   "execution_count": 74,
   "id": "26c62aa2",
   "metadata": {},
   "outputs": [],
   "source": [
    "i = 0\n",
    "clf_best_params = classifiers.copy()\n",
    "clf_predict_proba = classifiers.copy()\n",
    "valid_scores = pd.DataFrame({'Classifier': classifiers.keys(), 'ROC-AUC score': np.zeros(len(classifiers)),\\\n",
    "                             'Training time': np.zeros(len(classifiers))})\n",
    "\n",
    "cv = StratifiedKFold(n_splits=NUM_SPLIT_FOR_GRID, shuffle=True, random_state=RANDOM_STATE)\n",
    "\n",
    "for key, classifier in classifiers.items():\n",
    "    start = time.time()\n",
    "    \n",
    "    clf = GridSearchCV(estimator=classifier, param_grid=grid[key], n_jobs=-1, cv=cv, scoring='roc_auc')\n",
    "    clf.fit(X_train, y_train)\n",
    "    y_pred = clf.predict_proba(X_valid)[:,1]\n",
    "    valid_scores.iloc[i, 1] = roc_auc_score(y_valid, y_pred)\n",
    "    clf_best_params[key] = clf.best_params_\n",
    "    clf_predict_proba[key] = y_pred\n",
    "    \n",
    "    stop=time.time()\n",
    "    valid_scores.iloc[i, 2] = round((stop - start)/60,2)\n",
    "    i+=1\n",
    "#0.844468  'LGBM': {'learning_rate': 0.1, 'max_depth': 4, 'n_estimators': 30}"
   ]
  },
  {
   "cell_type": "code",
   "execution_count": 75,
   "id": "d99a6af1",
   "metadata": {},
   "outputs": [
    {
     "data": {
      "text/html": [
       "<div>\n",
       "<style scoped>\n",
       "    .dataframe tbody tr th:only-of-type {\n",
       "        vertical-align: middle;\n",
       "    }\n",
       "\n",
       "    .dataframe tbody tr th {\n",
       "        vertical-align: top;\n",
       "    }\n",
       "\n",
       "    .dataframe thead th {\n",
       "        text-align: right;\n",
       "    }\n",
       "</style>\n",
       "<table border=\"1\" class=\"dataframe\">\n",
       "  <thead>\n",
       "    <tr style=\"text-align: right;\">\n",
       "      <th></th>\n",
       "      <th>Classifier</th>\n",
       "      <th>ROC-AUC score</th>\n",
       "      <th>Training time</th>\n",
       "    </tr>\n",
       "  </thead>\n",
       "  <tbody>\n",
       "    <tr>\n",
       "      <th>0</th>\n",
       "      <td>LGBM</td>\n",
       "      <td>0.844468</td>\n",
       "      <td>0.15</td>\n",
       "    </tr>\n",
       "    <tr>\n",
       "      <th>1</th>\n",
       "      <td>Logistic</td>\n",
       "      <td>0.851781</td>\n",
       "      <td>0.03</td>\n",
       "    </tr>\n",
       "  </tbody>\n",
       "</table>\n",
       "</div>"
      ],
      "text/plain": [
       "  Classifier  ROC-AUC score  Training time\n",
       "0       LGBM       0.844468           0.15\n",
       "1   Logistic       0.851781           0.03"
      ]
     },
     "execution_count": 75,
     "metadata": {},
     "output_type": "execute_result"
    }
   ],
   "source": [
    "valid_scores"
   ]
  },
  {
   "cell_type": "code",
   "execution_count": 76,
   "id": "49205088",
   "metadata": {},
   "outputs": [
    {
     "data": {
      "text/plain": [
       "{'LGBM': {'learning_rate': 0.1, 'max_depth': 4, 'n_estimators': 30},\n",
       " 'Logistic': {'C': 0.1}}"
      ]
     },
     "execution_count": 76,
     "metadata": {},
     "output_type": "execute_result"
    }
   ],
   "source": [
    "clf_best_params"
   ]
  },
  {
   "cell_type": "markdown",
   "id": "e7b81f04",
   "metadata": {},
   "source": [
    "**Подбор порога отсечения**"
   ]
  },
  {
   "cell_type": "code",
   "execution_count": 77,
   "id": "6fcb497c",
   "metadata": {},
   "outputs": [
    {
     "name": "stdout",
     "output_type": "stream",
     "text": [
      "0.27507428894386754\n",
      "0.27471390182831107\n"
     ]
    },
    {
     "data": {
      "image/png": "[encoded data removed]",
      "text/plain": [
       "<Figure size 720x720 with 1 Axes>"
      ]
     },
     "metadata": {},
     "output_type": "display_data"
    }
   ],
   "source": [
    "plt.figure(figsize=(10,10))\n",
    "\n",
    "for m, val in clf_predict_proba.items():\n",
    "    \n",
    "    fpr, tpr, thresholds = roc_curve(y_valid, val)\n",
    "    opt_idx = np.argmin(np.sqrt(np.square(1-tpr) + np.square(fpr)))\n",
    "    tr_opt = thresholds[opt_idx]\n",
    "    print(tr_opt)\n",
    "    \n",
    "    plt.plot(fpr, tpr, label='Roc кривая для '+m)\n",
    "    close_default_rf = np.argmin(np.abs(thresholds - tr_opt))\n",
    "    plt.plot(fpr[close_default_rf], tpr[close_default_rf], '^', markersize=10, label='Порог оптимальный', mew=2)\n",
    "    plt.legend(loc=4)\n",
    "    "
   ]
  },
  {
   "cell_type": "code",
   "execution_count": 78,
   "id": "f1e0f610",
   "metadata": {},
   "outputs": [
    {
     "data": {
      "text/plain": [
       "{'LGBM': array([0.5333315 , 0.03936147, 0.45261887, ..., 0.02905356, 0.46719279,\n",
       "        0.13127275]),\n",
       " 'Logistic': array([0.42338254, 0.05555304, 0.45950714, ..., 0.03884817, 0.45061733,\n",
       "        0.04047822])}"
      ]
     },
     "execution_count": 78,
     "metadata": {},
     "output_type": "execute_result"
    }
   ],
   "source": [
    "clf_predict_proba"
   ]
  },
  {
   "cell_type": "markdown",
   "id": "bd6a2ea2",
   "metadata": {},
   "source": [
    "## Анализ полученных результатов"
   ]
  },
  {
   "cell_type": "code",
   "execution_count": 79,
   "id": "e2433c3f",
   "metadata": {},
   "outputs": [
    {
     "data": {
      "text/plain": [
       "array([0.47835702, 0.04745725, 0.45606301, ..., 0.03395087, 0.45890506,\n",
       "       0.08587548])"
      ]
     },
     "execution_count": 79,
     "metadata": {},
     "output_type": "execute_result"
    }
   ],
   "source": [
    "preds = np.zeros(len(X_valid))\n",
    "for key, prob in clf_predict_proba.items():\n",
    "\n",
    "    preds += prob\n",
    "\n",
    "# результат - это средний результат по всем классификаторам    \n",
    "preds = preds/len(clf_predict_proba)\n",
    "preds "
   ]
  },
  {
   "cell_type": "code",
   "execution_count": 80,
   "id": "5e2d4ddf",
   "metadata": {},
   "outputs": [
    {
     "data": {
      "text/plain": [
       "0.849946501585846"
      ]
     },
     "execution_count": 80,
     "metadata": {},
     "output_type": "execute_result"
    }
   ],
   "source": [
    "roc_auc_score(y_valid, preds)"
   ]
  },
  {
   "cell_type": "code",
   "execution_count": 81,
   "id": "ab61d39c",
   "metadata": {},
   "outputs": [
    {
     "data": {
      "text/plain": [
       "array([1, 0, 1, ..., 0, 1, 0])"
      ]
     },
     "execution_count": 81,
     "metadata": {},
     "output_type": "execute_result"
    }
   ],
   "source": [
    "y_pred = (preds>0.3).astype(int)\n",
    "y_pred"
   ]
  },
  {
   "cell_type": "code",
   "execution_count": 82,
   "id": "041621fa",
   "metadata": {},
   "outputs": [
    {
     "name": "stdout",
     "output_type": "stream",
     "text": [
      "Confusion matrix:\n",
      "[[630 163]\n",
      " [ 70 194]]\n",
      "Classification Report:\n",
      "              precision    recall  f1-score   support\n",
      "\n",
      "           0       0.90      0.79      0.84       793\n",
      "           1       0.54      0.73      0.62       264\n",
      "\n",
      "    accuracy                           0.78      1057\n",
      "   macro avg       0.72      0.76      0.73      1057\n",
      "weighted avg       0.81      0.78      0.79      1057\n",
      "\n"
     ]
    }
   ],
   "source": [
    "print('Confusion matrix:')\n",
    "print(confusion_matrix(y_valid, y_pred))\n",
    "print('Classification Report:')\n",
    "print(classification_report(y_valid, y_pred))"
   ]
  },
  {
   "cell_type": "code",
   "execution_count": 83,
   "id": "b3772511",
   "metadata": {},
   "outputs": [
    {
     "data": {
      "image/png": "[encoded data removed]",
      "text/plain": [
       "<Figure size 720x720 with 2 Axes>"
      ]
     },
     "metadata": {},
     "output_type": "display_data"
    }
   ],
   "source": [
    "plt.figure(figsize=(10,10))\n",
    "sns.heatmap(confusion_matrix(y_valid, y_pred), linewidths=0.1, square=True, annot=True, cmap='summer', fmt='3.0f')\n",
    "plt.title('Confusion Matrix')\n",
    "plt.xlabel('Predicted')\n",
    "plt.ylabel('Actual');"
   ]
  },
  {
   "cell_type": "markdown",
   "id": "e9fa7477",
   "metadata": {},
   "source": [
    "## Прогноз"
   ]
  },
  {
   "cell_type": "code",
   "execution_count": 88,
   "id": "749a527f",
   "metadata": {},
   "outputs": [],
   "source": [
    "best_classifiers = {\n",
    "    \"LGBM\" : LGBMClassifier(**clf_best_params[\"LGBM\"], random_state=RANDOM_STATE),\n",
    "    \"Logistic\" : LogisticRegression(**clf_best_params[\"Logistic\"], max_iter=3000, random_state=RANDOM_STATE)\n",
    "   \n",
    "}"
   ]
  },
  {
   "cell_type": "code",
   "execution_count": 89,
   "id": "680f14a4",
   "metadata": {},
   "outputs": [
    {
     "name": "stdout",
     "output_type": "stream",
     "text": [
      "Модель: LGBM\n",
      "Средняя валидационная ошибка: 0.8441805242993154\n",
      "Время обучения: 0.01\n",
      "\n",
      "Модель: Logistic\n",
      "Средняя валидационная ошибка: 0.8481782416046462\n",
      "Время обучения: 0.27\n",
      "\n"
     ]
    }
   ],
   "source": [
    "y = y.astype(int)\n",
    "preds = np.zeros(len(X_test))\n",
    "\n",
    "for key, classifier in best_classifiers.items():\n",
    "    start = time.time()\n",
    "    \n",
    "    cv = StratifiedKFold(n_splits=NUM_SPLIT_FOR_GRID, shuffle=True, random_state=RANDOM_STATE)\n",
    "\n",
    "    score = 0\n",
    "\n",
    "    for fold, (train_idx, val_idx) in enumerate(cv.split(X, y)):\n",
    "   \n",
    "        X_train, X_valid = X.iloc[train_idx, :], X.iloc[val_idx, :]\n",
    "        y_train, y_valid = y.iloc[train_idx], y.iloc[val_idx]\n",
    "        \n",
    "        clf = classifier\n",
    "        clf.fit(X_train, y_train)\n",
    "        y_pred = clf.predict_proba(X_valid)[:,1]\n",
    "        score_cur = roc_auc_score(y_valid, y_pred)\n",
    "        \n",
    "        score += score_cur        \n",
    "        preds += clf.predict_proba(X_test)[:,1]\n",
    "\n",
    "    \n",
    "    score = score/NUM_SPLIT_FOR_GRID\n",
    "    stop = time.time()\n",
    "    \n",
    "    print('Модель:', key)\n",
    "    print('Средняя валидационная ошибка:', score)\n",
    "    print('Время обучения:', round((stop - start)/60, 2))\n",
    "    print()\n",
    "    \n",
    "    \n",
    "# результат - это средний результат по всем разбиениям и всем классификаторам    \n",
    "pred = preds/(NUM_SPLIT_FOR_GRID * len(best_classifiers))\n"
   ]
  },
  {
   "cell_type": "code",
   "execution_count": 90,
   "id": "6cf9fb6b",
   "metadata": {},
   "outputs": [
    {
     "data": {
      "text/plain": [
       "array([0.12085652, 0.67591817, 0.75690815, ..., 0.86353822, 0.71518015,\n",
       "       0.0372835 ])"
      ]
     },
     "execution_count": 90,
     "metadata": {},
     "output_type": "execute_result"
    }
   ],
   "source": [
    "pred"
   ]
  },
  {
   "cell_type": "code",
   "execution_count": 91,
   "id": "d4ee72a0",
   "metadata": {},
   "outputs": [],
   "source": [
    "submission = {\n",
    "    'Id': np.arange(len(pred)),\n",
    "    'Churn': pred\n",
    "}\n",
    "solution = pd.DataFrame(submission)\n",
    "solution.to_csv('data/submission.csv', index=False)"
   ]
  },
  {
   "cell_type": "markdown",
   "id": "9903df14",
   "metadata": {},
   "source": [
    "# Дополнительно"
   ]
  },
  {
   "cell_type": "markdown",
   "id": "6a2a6944",
   "metadata": {},
   "source": [
    "## LogisticRegressionCV"
   ]
  },
  {
   "cell_type": "code",
   "execution_count": 71,
   "id": "2e45c676",
   "metadata": {},
   "outputs": [],
   "source": [
    "X_train, X_valid, y_train, y_valid = train_test_split(X,\n",
    "                                                    y,\n",
    "                                                    test_size=SPLIT_TEST_SIZE,\n",
    "                                                    random_state=RANDOM_STATE)"
   ]
  },
  {
   "cell_type": "code",
   "execution_count": 85,
   "id": "d22ea8a3",
   "metadata": {},
   "outputs": [],
   "source": [
    "clf = LogisticRegressionCV(cv=NUM_SPLIT_FOR_GRID, random_state=RANDOM_STATE, scoring='roc_auc',\\\n",
    "                           max_iter=3000, class_weight='balanced').fit(X_train, y_train)\n"
   ]
  },
  {
   "cell_type": "code",
   "execution_count": 96,
   "id": "acb9d67e",
   "metadata": {},
   "outputs": [
    {
     "data": {
      "text/plain": [
       "0.8514415911956895"
      ]
     },
     "execution_count": 96,
     "metadata": {},
     "output_type": "execute_result"
    }
   ],
   "source": [
    "y_pred = clf.predict_proba(X_valid)[:,1]\n",
    "score_cur = clf.score(X_valid, y_valid)\n",
    "score_cur"
   ]
  },
  {
   "cell_type": "markdown",
   "id": "285572af",
   "metadata": {},
   "source": [
    "## Pipeline"
   ]
  },
  {
   "cell_type": "code",
   "execution_count": 129,
   "id": "a2c5b505",
   "metadata": {},
   "outputs": [],
   "source": [
    "#https://towardsdatascience.com/ml-pipelines-with-grid-search-in-scikit-learn-2539d6b53cfb\n",
    "\n",
    "from sklearn.compose import make_column_transformer\n",
    "from sklearn.pipeline import make_pipeline\n",
    "from sklearn.impute import SimpleImputer\n",
    "from sklearn.preprocessing import OneHotEncoder\n",
    "\n",
    "numeric_transformer = make_pipeline(\n",
    "    SimpleImputer(strategy='median'),\n",
    "    StandardScaler())\n",
    "\n",
    "categorical_transformer = make_pipeline(OneHotEncoder(handle_unknown='ignore'))\n",
    "# drop='first'\n",
    "preprocessor = make_column_transformer(\n",
    "    (numeric_transformer, num_cols),\n",
    "    (categorical_transformer, cat_cols)\n",
    ")\n",
    "\n",
    "pipeline = make_pipeline(preprocessor, LogisticRegression(random_state=RANDOM_STATE, max_iter=3000, \\\n",
    "                                                          class_weight='balanced'))\n"
   ]
  },
  {
   "cell_type": "code",
   "execution_count": 105,
   "id": "218796e3",
   "metadata": {},
   "outputs": [],
   "source": [
    "X_train, X_valid, y_train, y_valid = train_test_split(X_catboost,\n",
    "                                                    y,\n",
    "                                                    test_size=SPLIT_TEST_SIZE,\n",
    "                                                    random_state=RANDOM_STATE)"
   ]
  },
  {
   "cell_type": "code",
   "execution_count": 126,
   "id": "cfe5a48c",
   "metadata": {},
   "outputs": [],
   "source": [
    "log_grid = {\n",
    "    \"logisticregression__C\": [100, 10, 1, 0.1, 0.01, 0.001],\n",
    "    \n",
    "}"
   ]
  },
  {
   "cell_type": "code",
   "execution_count": 127,
   "id": "64027658",
   "metadata": {},
   "outputs": [],
   "source": [
    "#clf = GridSearchCV(estimator=pipeline, param_grid=log_grid, n_jobs=-1, cv=5, scoring='roc_auc')\n",
    "#clf.fit(X_train, y_train)"
   ]
  },
  {
   "cell_type": "code",
   "execution_count": 130,
   "id": "57b55532",
   "metadata": {},
   "outputs": [
    {
     "data": {
      "text/plain": [
       "0.8511502159043143"
      ]
     },
     "execution_count": 130,
     "metadata": {},
     "output_type": "execute_result"
    }
   ],
   "source": [
    "cv = StratifiedKFold(n_splits=NUM_SPLIT_FOR_GRID, shuffle=True, random_state=RANDOM_STATE)\n",
    "\n",
    "clf = GridSearchCV(estimator=pipeline, param_grid=log_grid, n_jobs=-1, cv=cv, scoring='roc_auc')\n",
    "clf.fit(X_train, y_train)\n",
    "y_pred = clf.predict_proba(X_valid)[:,1]\n",
    "clf.score(X_valid, y_valid)"
   ]
  },
  {
   "cell_type": "code",
   "execution_count": 133,
   "id": "377017e4",
   "metadata": {},
   "outputs": [
    {
     "data": {
      "text/plain": [
       "5018    0\n",
       "4729    0\n",
       "4618    1\n",
       "291     0\n",
       "1784    0\n",
       "       ..\n",
       "4209    0\n",
       "2004    0\n",
       "1080    0\n",
       "1118    0\n",
       "5234    0\n",
       "Name: Churn, Length: 1057, dtype: int64"
      ]
     },
     "execution_count": 133,
     "metadata": {},
     "output_type": "execute_result"
    }
   ],
   "source": [
    "y_valid"
   ]
  },
  {
   "cell_type": "markdown",
   "id": "c0baf4f1",
   "metadata": {},
   "source": [
    "## CatBoost"
   ]
  },
  {
   "cell_type": "markdown",
   "id": "cb976823",
   "metadata": {},
   "source": [
    "При использовании этого бустинга нам не нужно преобразовывать категориальные данные - они обрабатываются автоматически, а так как он основан на деревьях - не требуется так же масштабировать данные - деревья не относятся к метрическим методам"
   ]
  },
  {
   "cell_type": "code",
   "execution_count": 92,
   "id": "91f79c08",
   "metadata": {},
   "outputs": [],
   "source": [
    "X_train, X_valid, y_train, y_valid = train_test_split(X_catboost,\n",
    "                                                    y,\n",
    "                                                    test_size=SPLIT_TEST_SIZE,\n",
    "                                                    random_state=RANDOM_STATE)"
   ]
  },
  {
   "cell_type": "code",
   "execution_count": 93,
   "id": "256f2692",
   "metadata": {},
   "outputs": [
    {
     "data": {
      "text/html": [
       "<div>\n",
       "<style scoped>\n",
       "    .dataframe tbody tr th:only-of-type {\n",
       "        vertical-align: middle;\n",
       "    }\n",
       "\n",
       "    .dataframe tbody tr th {\n",
       "        vertical-align: top;\n",
       "    }\n",
       "\n",
       "    .dataframe thead th {\n",
       "        text-align: right;\n",
       "    }\n",
       "</style>\n",
       "<table border=\"1\" class=\"dataframe\">\n",
       "  <thead>\n",
       "    <tr style=\"text-align: right;\">\n",
       "      <th></th>\n",
       "      <th>ClientPeriod</th>\n",
       "      <th>MonthlySpending</th>\n",
       "      <th>IsSeniorCitizen</th>\n",
       "      <th>HasPartner</th>\n",
       "      <th>HasChild</th>\n",
       "      <th>HasMultiplePhoneNumbers</th>\n",
       "      <th>HasInternetService</th>\n",
       "      <th>HasOnlineSecurityService</th>\n",
       "      <th>HasOnlineBackup</th>\n",
       "      <th>HasDeviceProtection</th>\n",
       "      <th>HasTechSupportAccess</th>\n",
       "      <th>HasMovieSubscription</th>\n",
       "      <th>HasContractPhone</th>\n",
       "      <th>IsBillingPaperless</th>\n",
       "      <th>PaymentMethod</th>\n",
       "      <th>ClientPeriodInterval</th>\n",
       "      <th>MonthlySpendingInterval</th>\n",
       "      <th>HasNotInternet</th>\n",
       "    </tr>\n",
       "  </thead>\n",
       "  <tbody>\n",
       "    <tr>\n",
       "      <th>2311</th>\n",
       "      <td>33</td>\n",
       "      <td>93.35</td>\n",
       "      <td>0</td>\n",
       "      <td>Yes</td>\n",
       "      <td>No</td>\n",
       "      <td>Yes</td>\n",
       "      <td>Fiber optic</td>\n",
       "      <td>No</td>\n",
       "      <td>Yes</td>\n",
       "      <td>Yes</td>\n",
       "      <td>No</td>\n",
       "      <td>Yes</td>\n",
       "      <td>Month-to-month</td>\n",
       "      <td>Yes</td>\n",
       "      <td>Electronic check</td>\n",
       "      <td>20-40</td>\n",
       "      <td>60-100</td>\n",
       "      <td>0</td>\n",
       "    </tr>\n",
       "    <tr>\n",
       "      <th>1664</th>\n",
       "      <td>15</td>\n",
       "      <td>83.05</td>\n",
       "      <td>1</td>\n",
       "      <td>Yes</td>\n",
       "      <td>No</td>\n",
       "      <td>Yes</td>\n",
       "      <td>Fiber optic</td>\n",
       "      <td>No</td>\n",
       "      <td>No</td>\n",
       "      <td>Yes</td>\n",
       "      <td>Yes</td>\n",
       "      <td>No</td>\n",
       "      <td>Month-to-month</td>\n",
       "      <td>Yes</td>\n",
       "      <td>Electronic check</td>\n",
       "      <td>2-20</td>\n",
       "      <td>60-100</td>\n",
       "      <td>0</td>\n",
       "    </tr>\n",
       "    <tr>\n",
       "      <th>4578</th>\n",
       "      <td>1</td>\n",
       "      <td>50.55</td>\n",
       "      <td>1</td>\n",
       "      <td>No</td>\n",
       "      <td>No</td>\n",
       "      <td>Yes</td>\n",
       "      <td>DSL</td>\n",
       "      <td>No</td>\n",
       "      <td>No</td>\n",
       "      <td>No</td>\n",
       "      <td>No</td>\n",
       "      <td>No</td>\n",
       "      <td>Month-to-month</td>\n",
       "      <td>No</td>\n",
       "      <td>Mailed check</td>\n",
       "      <td>0-2</td>\n",
       "      <td>30-60</td>\n",
       "      <td>0</td>\n",
       "    </tr>\n",
       "    <tr>\n",
       "      <th>595</th>\n",
       "      <td>66</td>\n",
       "      <td>104.25</td>\n",
       "      <td>0</td>\n",
       "      <td>No</td>\n",
       "      <td>No</td>\n",
       "      <td>Yes</td>\n",
       "      <td>Fiber optic</td>\n",
       "      <td>No</td>\n",
       "      <td>Yes</td>\n",
       "      <td>No</td>\n",
       "      <td>Yes</td>\n",
       "      <td>Yes</td>\n",
       "      <td>One year</td>\n",
       "      <td>Yes</td>\n",
       "      <td>Electronic check</td>\n",
       "      <td>60+</td>\n",
       "      <td>100+</td>\n",
       "      <td>0</td>\n",
       "    </tr>\n",
       "    <tr>\n",
       "      <th>869</th>\n",
       "      <td>2</td>\n",
       "      <td>74.95</td>\n",
       "      <td>0</td>\n",
       "      <td>No</td>\n",
       "      <td>No</td>\n",
       "      <td>No</td>\n",
       "      <td>Fiber optic</td>\n",
       "      <td>No</td>\n",
       "      <td>Yes</td>\n",
       "      <td>No</td>\n",
       "      <td>No</td>\n",
       "      <td>No</td>\n",
       "      <td>Month-to-month</td>\n",
       "      <td>No</td>\n",
       "      <td>Electronic check</td>\n",
       "      <td>0-2</td>\n",
       "      <td>60-100</td>\n",
       "      <td>0</td>\n",
       "    </tr>\n",
       "  </tbody>\n",
       "</table>\n",
       "</div>"
      ],
      "text/plain": [
       "      ClientPeriod  MonthlySpending  IsSeniorCitizen HasPartner HasChild  \\\n",
       "2311            33            93.35                0        Yes       No   \n",
       "1664            15            83.05                1        Yes       No   \n",
       "4578             1            50.55                1         No       No   \n",
       "595             66           104.25                0         No       No   \n",
       "869              2            74.95                0         No       No   \n",
       "\n",
       "     HasMultiplePhoneNumbers HasInternetService HasOnlineSecurityService  \\\n",
       "2311                     Yes        Fiber optic                       No   \n",
       "1664                     Yes        Fiber optic                       No   \n",
       "4578                     Yes                DSL                       No   \n",
       "595                      Yes        Fiber optic                       No   \n",
       "869                       No        Fiber optic                       No   \n",
       "\n",
       "     HasOnlineBackup HasDeviceProtection HasTechSupportAccess  \\\n",
       "2311             Yes                 Yes                   No   \n",
       "1664              No                 Yes                  Yes   \n",
       "4578              No                  No                   No   \n",
       "595              Yes                  No                  Yes   \n",
       "869              Yes                  No                   No   \n",
       "\n",
       "     HasMovieSubscription HasContractPhone IsBillingPaperless  \\\n",
       "2311                  Yes   Month-to-month                Yes   \n",
       "1664                   No   Month-to-month                Yes   \n",
       "4578                   No   Month-to-month                 No   \n",
       "595                   Yes         One year                Yes   \n",
       "869                    No   Month-to-month                 No   \n",
       "\n",
       "         PaymentMethod ClientPeriodInterval MonthlySpendingInterval  \\\n",
       "2311  Electronic check                20-40                  60-100   \n",
       "1664  Electronic check                 2-20                  60-100   \n",
       "4578      Mailed check                  0-2                   30-60   \n",
       "595   Electronic check                  60+                    100+   \n",
       "869   Electronic check                  0-2                  60-100   \n",
       "\n",
       "      HasNotInternet  \n",
       "2311               0  \n",
       "1664               0  \n",
       "4578               0  \n",
       "595                0  \n",
       "869                0  "
      ]
     },
     "execution_count": 93,
     "metadata": {},
     "output_type": "execute_result"
    }
   ],
   "source": [
    "X_train.head()"
   ]
  },
  {
   "cell_type": "code",
   "execution_count": 94,
   "id": "b8bdfcc2",
   "metadata": {},
   "outputs": [],
   "source": [
    "n_estimators = [50, 70, 100]\n",
    "learning_rate = [0.05, 0.1, 0.15]"
   ]
  },
  {
   "cell_type": "code",
   "execution_count": 95,
   "id": "402a1429",
   "metadata": {},
   "outputs": [],
   "source": [
    "#l = n_estimators * learning_rate\n",
    "i = 0\n",
    "res = pd.DataFrame(columns=['n_estimators', 'learning_rate', 'roc-auc', 'time'])\n",
    "for n_est in n_estimators:\n",
    "    for l_rate in learning_rate:\n",
    "        start = time.time()\n",
    "        clf = CatBoostClassifier(random_state=RANDOM_STATE, verbose=False, n_estimators=n_est, learning_rate=l_rate)\n",
    "        clf.fit(X_train, y_train, list(cat_cols))\n",
    "        y_pred = clf.predict_proba(X_valid)[:,1]\n",
    "        \n",
    "        stop=time.time()\n",
    "        \n",
    "        res.loc[i] = [n_est, l_rate, roc_auc_score(y_valid, y_pred), round((stop-start)/60,2)]\n",
    "        i += 1\n",
    "        "
   ]
  },
  {
   "cell_type": "code",
   "execution_count": 167,
   "id": "fce6b547",
   "metadata": {},
   "outputs": [
    {
     "data": {
      "text/html": [
       "<div>\n",
       "<style scoped>\n",
       "    .dataframe tbody tr th:only-of-type {\n",
       "        vertical-align: middle;\n",
       "    }\n",
       "\n",
       "    .dataframe tbody tr th {\n",
       "        vertical-align: top;\n",
       "    }\n",
       "\n",
       "    .dataframe thead th {\n",
       "        text-align: right;\n",
       "    }\n",
       "</style>\n",
       "<table border=\"1\" class=\"dataframe\">\n",
       "  <thead>\n",
       "    <tr style=\"text-align: right;\">\n",
       "      <th></th>\n",
       "      <th>n_estimators</th>\n",
       "      <th>learning_rate</th>\n",
       "      <th>roc-auc</th>\n",
       "      <th>time</th>\n",
       "    </tr>\n",
       "  </thead>\n",
       "  <tbody>\n",
       "    <tr>\n",
       "      <th>8</th>\n",
       "      <td>100.0</td>\n",
       "      <td>0.15</td>\n",
       "      <td>0.846873</td>\n",
       "      <td>0.01</td>\n",
       "    </tr>\n",
       "    <tr>\n",
       "      <th>5</th>\n",
       "      <td>70.0</td>\n",
       "      <td>0.15</td>\n",
       "      <td>0.845034</td>\n",
       "      <td>0.01</td>\n",
       "    </tr>\n",
       "    <tr>\n",
       "      <th>4</th>\n",
       "      <td>70.0</td>\n",
       "      <td>0.10</td>\n",
       "      <td>0.844938</td>\n",
       "      <td>0.01</td>\n",
       "    </tr>\n",
       "    <tr>\n",
       "      <th>6</th>\n",
       "      <td>100.0</td>\n",
       "      <td>0.05</td>\n",
       "      <td>0.844465</td>\n",
       "      <td>0.02</td>\n",
       "    </tr>\n",
       "    <tr>\n",
       "      <th>7</th>\n",
       "      <td>100.0</td>\n",
       "      <td>0.10</td>\n",
       "      <td>0.844461</td>\n",
       "      <td>0.01</td>\n",
       "    </tr>\n",
       "    <tr>\n",
       "      <th>2</th>\n",
       "      <td>50.0</td>\n",
       "      <td>0.15</td>\n",
       "      <td>0.844203</td>\n",
       "      <td>0.01</td>\n",
       "    </tr>\n",
       "    <tr>\n",
       "      <th>1</th>\n",
       "      <td>50.0</td>\n",
       "      <td>0.10</td>\n",
       "      <td>0.843078</td>\n",
       "      <td>0.01</td>\n",
       "    </tr>\n",
       "    <tr>\n",
       "      <th>3</th>\n",
       "      <td>70.0</td>\n",
       "      <td>0.05</td>\n",
       "      <td>0.840916</td>\n",
       "      <td>0.01</td>\n",
       "    </tr>\n",
       "    <tr>\n",
       "      <th>0</th>\n",
       "      <td>50.0</td>\n",
       "      <td>0.05</td>\n",
       "      <td>0.838478</td>\n",
       "      <td>0.01</td>\n",
       "    </tr>\n",
       "  </tbody>\n",
       "</table>\n",
       "</div>"
      ],
      "text/plain": [
       "   n_estimators  learning_rate   roc-auc  time\n",
       "8         100.0           0.15  0.846873  0.01\n",
       "5          70.0           0.15  0.845034  0.01\n",
       "4          70.0           0.10  0.844938  0.01\n",
       "6         100.0           0.05  0.844465  0.02\n",
       "7         100.0           0.10  0.844461  0.01\n",
       "2          50.0           0.15  0.844203  0.01\n",
       "1          50.0           0.10  0.843078  0.01\n",
       "3          70.0           0.05  0.840916  0.01\n",
       "0          50.0           0.05  0.838478  0.01"
      ]
     },
     "execution_count": 167,
     "metadata": {},
     "output_type": "execute_result"
    }
   ],
   "source": [
    "res.sort_values(by='roc-auc', ascending=False)"
   ]
  },
  {
   "cell_type": "code",
   "execution_count": null,
   "id": "cd1cfd7b",
   "metadata": {},
   "outputs": [],
   "source": []
  }
 ],
 "metadata": {
  "kernelspec": {
   "display_name": "Python 3 (ipykernel)",
   "language": "python",
   "name": "python3"
  },
  "language_info": {
   "codemirror_mode": {
    "name": "ipython",
    "version": 3
   },
   "file_extension": ".py",
   "mimetype": "text/x-python",
   "name": "python",
   "nbconvert_exporter": "python",
   "pygments_lexer": "ipython3",
   "version": "3.9.7"
  },
  "toc": {
   "base_numbering": 1,
   "nav_menu": {},
   "number_sections": true,
   "sideBar": true,
   "skip_h1_title": false,
   "title_cell": "Table of Contents",
   "title_sidebar": "Contents",
   "toc_cell": false,
   "toc_position": {},
   "toc_section_display": true,
   "toc_window_display": true
  }
 },
 "nbformat": 4,
 "nbformat_minor": 5
}
